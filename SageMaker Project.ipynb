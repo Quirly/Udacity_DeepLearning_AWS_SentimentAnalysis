{
 "cells": [
  {
   "cell_type": "markdown",
   "metadata": {},
   "source": [
    "# Creating a Sentiment Analysis Web App\n",
    "## Using PyTorch and SageMaker\n",
    "\n",
    "_Deep Learning Nanodegree Program | Deployment_\n",
    "\n",
    "---\n",
    "\n",
    "Now that we have a basic understanding of how SageMaker works we will try to use it to construct a complete project from end to end. Our goal will be to have a simple web page which a user can use to enter a movie review. The web page will then send the review off to our deployed model which will predict the sentiment of the entered review.\n",
    "\n",
    "## Instructions\n",
    "\n",
    "Some template code has already been provided for you, and you will need to implement additional functionality to successfully complete this notebook. You will not need to modify the included code beyond what is requested. Sections that begin with '**TODO**' in the header indicate that you need to complete or implement some portion within them. Instructions will be provided for each section and the specifics of the implementation are marked in the code block with a `# TODO: ...` comment. Please be sure to read the instructions carefully!\n",
    "\n",
    "In addition to implementing code, there will be questions for you to answer which relate to the task and your implementation. Each section where you will answer a question is preceded by a '**Question:**' header. Carefully read each question and provide your answer below the '**Answer:**' header by editing the Markdown cell.\n",
    "\n",
    "> **Note**: Code and Markdown cells can be executed using the **Shift+Enter** keyboard shortcut. In addition, a cell can be edited by typically clicking it (double-click for Markdown cells) or by pressing **Enter** while it is highlighted.\n",
    "\n",
    "## General Outline\n",
    "\n",
    "Recall the general outline for SageMaker projects using a notebook instance.\n",
    "\n",
    "1. Download or otherwise retrieve the data.\n",
    "2. Process / Prepare the data.\n",
    "3. Upload the processed data to S3.\n",
    "4. Train a chosen model.\n",
    "5. Test the trained model (typically using a batch transform job).\n",
    "6. Deploy the trained model.\n",
    "7. Use the deployed model.\n",
    "\n",
    "For this project, you will be following the steps in the general outline with some modifications. \n",
    "\n",
    "First, you will not be testing the model in its own step. You will still be testing the model, however, you will do it by deploying your model and then using the deployed model by sending the test data to it. One of the reasons for doing this is so that you can make sure that your deployed model is working correctly before moving forward.\n",
    "\n",
    "In addition, you will deploy and use your trained model a second time. In the second iteration you will customize the way that your trained model is deployed by including some of your own code. In addition, your newly deployed model will be used in the sentiment analysis web app."
   ]
  },
  {
   "cell_type": "code",
   "execution_count": null,
   "metadata": {},
   "outputs": [],
   "source": [
    "# Make sure that we use SageMaker 1.x\n",
    "!pip install sagemaker==1.72.0"
   ]
  },
  {
   "cell_type": "markdown",
   "metadata": {},
   "source": [
    "## Step 1: Downloading the data\n",
    "\n",
    "As in the XGBoost in SageMaker notebook, we will be using the [IMDb dataset](http://ai.stanford.edu/~amaas/data/sentiment/)\n",
    "\n",
    "> Maas, Andrew L., et al. [Learning Word Vectors for Sentiment Analysis](http://ai.stanford.edu/~amaas/data/sentiment/). In _Proceedings of the 49th Annual Meeting of the Association for Computational Linguistics: Human Language Technologies_. Association for Computational Linguistics, 2011."
   ]
  },
  {
   "cell_type": "code",
   "execution_count": 2,
   "metadata": {},
   "outputs": [
    {
     "name": "stdout",
     "output_type": "stream",
     "text": [
      "mkdir: cannot create directory ‘../data’: File exists\n",
      "--2021-09-21 14:35:51--  http://ai.stanford.edu/~amaas/data/sentiment/aclImdb_v1.tar.gz\n",
      "Resolving ai.stanford.edu (ai.stanford.edu)... 171.64.68.10\n",
      "Connecting to ai.stanford.edu (ai.stanford.edu)|171.64.68.10|:80... connected.\n",
      "HTTP request sent, awaiting response... 200 OK\n",
      "Length: 84125825 (80M) [application/x-gzip]\n",
      "Saving to: ‘../data/aclImdb_v1.tar.gz’\n",
      "\n",
      "../data/aclImdb_v1. 100%[===================>]  80.23M  10.0MB/s    in 11s     \n",
      "\n",
      "2021-09-21 14:36:02 (7.51 MB/s) - ‘../data/aclImdb_v1.tar.gz’ saved [84125825/84125825]\n",
      "\n"
     ]
    }
   ],
   "source": [
    "%mkdir ../data\n",
    "!wget -O ../data/aclImdb_v1.tar.gz http://ai.stanford.edu/~amaas/data/sentiment/aclImdb_v1.tar.gz\n",
    "!tar -zxf ../data/aclImdb_v1.tar.gz -C ../data"
   ]
  },
  {
   "cell_type": "markdown",
   "metadata": {},
   "source": [
    "## Step 2: Preparing and Processing the data\n",
    "\n",
    "Also, as in the XGBoost notebook, we will be doing some initial data processing. The first few steps are the same as in the XGBoost example. To begin with, we will read in each of the reviews and combine them into a single input structure. Then, we will split the dataset into a training set and a testing set."
   ]
  },
  {
   "cell_type": "code",
   "execution_count": 3,
   "metadata": {},
   "outputs": [],
   "source": [
    "import os\n",
    "import glob\n",
    "\n",
    "def read_imdb_data(data_dir='../data/aclImdb'):\n",
    "    data = {}\n",
    "    labels = {}\n",
    "    \n",
    "    for data_type in ['train', 'test']:\n",
    "        data[data_type] = {}\n",
    "        labels[data_type] = {}\n",
    "        \n",
    "        for sentiment in ['pos', 'neg']:\n",
    "            data[data_type][sentiment] = []\n",
    "            labels[data_type][sentiment] = []\n",
    "            \n",
    "            path = os.path.join(data_dir, data_type, sentiment, '*.txt')\n",
    "            files = glob.glob(path)\n",
    "            \n",
    "            for f in files:\n",
    "                with open(f) as review:\n",
    "                    data[data_type][sentiment].append(review.read())\n",
    "                    # Here we represent a positive review by '1' and a negative review by '0'\n",
    "                    labels[data_type][sentiment].append(1 if sentiment == 'pos' else 0)\n",
    "                    \n",
    "            assert len(data[data_type][sentiment]) == len(labels[data_type][sentiment]), \\\n",
    "                    \"{}/{} data size does not match labels size\".format(data_type, sentiment)\n",
    "                \n",
    "    return data, labels"
   ]
  },
  {
   "cell_type": "code",
   "execution_count": 4,
   "metadata": {},
   "outputs": [
    {
     "name": "stdout",
     "output_type": "stream",
     "text": [
      "IMDB reviews: train = 12500 pos / 12500 neg, test = 12500 pos / 12500 neg\n"
     ]
    }
   ],
   "source": [
    "data, labels = read_imdb_data()\n",
    "print(\"IMDB reviews: train = {} pos / {} neg, test = {} pos / {} neg\".format(\n",
    "            len(data['train']['pos']), len(data['train']['neg']),\n",
    "            len(data['test']['pos']), len(data['test']['neg'])))"
   ]
  },
  {
   "cell_type": "markdown",
   "metadata": {},
   "source": [
    "Now that we've read the raw training and testing data from the downloaded dataset, we will combine the positive and negative reviews and shuffle the resulting records."
   ]
  },
  {
   "cell_type": "code",
   "execution_count": 5,
   "metadata": {},
   "outputs": [],
   "source": [
    "from sklearn.utils import shuffle\n",
    "\n",
    "def prepare_imdb_data(data, labels):\n",
    "    \"\"\"Prepare training and test sets from IMDb movie reviews.\"\"\"\n",
    "    \n",
    "    #Combine positive and negative reviews and labels\n",
    "    data_train = data['train']['pos'] + data['train']['neg']\n",
    "    data_test = data['test']['pos'] + data['test']['neg']\n",
    "    labels_train = labels['train']['pos'] + labels['train']['neg']\n",
    "    labels_test = labels['test']['pos'] + labels['test']['neg']\n",
    "    \n",
    "    #Shuffle reviews and corresponding labels within training and test sets\n",
    "    data_train, labels_train = shuffle(data_train, labels_train)\n",
    "    data_test, labels_test = shuffle(data_test, labels_test)\n",
    "    \n",
    "    # Return a unified training data, test data, training labels, test labets\n",
    "    return data_train, data_test, labels_train, labels_test"
   ]
  },
  {
   "cell_type": "code",
   "execution_count": 6,
   "metadata": {},
   "outputs": [
    {
     "name": "stdout",
     "output_type": "stream",
     "text": [
      "IMDb reviews (combined): train = 25000, test = 25000\n"
     ]
    }
   ],
   "source": [
    "train_X, test_X, train_y, test_y = prepare_imdb_data(data, labels)\n",
    "print(\"IMDb reviews (combined): train = {}, test = {}\".format(len(train_X), len(test_X)))"
   ]
  },
  {
   "cell_type": "markdown",
   "metadata": {},
   "source": [
    "Now that we have our training and testing sets unified and prepared, we should do a quick check and see an example of the data our model will be trained on. This is generally a good idea as it allows you to see how each of the further processing steps affects the reviews and it also ensures that the data has been loaded correctly."
   ]
  },
  {
   "cell_type": "code",
   "execution_count": 7,
   "metadata": {},
   "outputs": [
    {
     "name": "stdout",
     "output_type": "stream",
     "text": [
      "\"GEORGE LOPEZ,\" in my opinion, is an absolute ABC classic! I haven't seen every episode, but I still enjoy it. There are many episodes that I enjoyed. One of them was where Amy (Sandra Bullock) walked into a moving piece of machinery. If you want to know why, you'll have to have seen it for yourself. Before I wrap this up, I'd like to say that everyone always gave a good performance, the production design was spectacular, the costumes were well-designed, and the writing was always very strong. In conclusion, even though new episodes can currently be seen, I strongly recommend you catch it just in case it goes off the air for good.\n",
      "1\n"
     ]
    }
   ],
   "source": [
    "print(train_X[100])\n",
    "print(train_y[100])"
   ]
  },
  {
   "cell_type": "markdown",
   "metadata": {},
   "source": [
    "The first step in processing the reviews is to make sure that any html tags that appear should be removed. In addition we wish to tokenize our input, that way words such as *entertained* and *entertaining* are considered the same with regard to sentiment analysis."
   ]
  },
  {
   "cell_type": "code",
   "execution_count": 8,
   "metadata": {},
   "outputs": [],
   "source": [
    "import nltk\n",
    "from nltk.corpus import stopwords\n",
    "from nltk.stem.porter import *\n",
    "\n",
    "import re\n",
    "from bs4 import BeautifulSoup\n",
    "\n",
    "def review_to_words(review):\n",
    "    nltk.download(\"stopwords\", quiet=True)\n",
    "    stemmer = PorterStemmer()\n",
    "    \n",
    "    text = BeautifulSoup(review, \"html.parser\").get_text() # Remove HTML tags\n",
    "    text = re.sub(r\"[^a-zA-Z0-9]\", \" \", text.lower()) # Convert to lower case\n",
    "    words = text.split() # Split string into words\n",
    "    words = [w for w in words if w not in stopwords.words(\"english\")] # Remove stopwords\n",
    "    words = [PorterStemmer().stem(w) for w in words] # stem\n",
    "    \n",
    "    return words"
   ]
  },
  {
   "cell_type": "markdown",
   "metadata": {},
   "source": [
    "The `review_to_words` method defined above uses `BeautifulSoup` to remove any html tags that appear and uses the `nltk` package to tokenize the reviews. As a check to ensure we know how everything is working, try applying `review_to_words` to one of the reviews in the training set."
   ]
  },
  {
   "cell_type": "code",
   "execution_count": 9,
   "metadata": {},
   "outputs": [
    {
     "name": "stdout",
     "output_type": "stream",
     "text": [
      "['georg', 'lopez', 'opinion', 'absolut', 'abc', 'classic', 'seen', 'everi', 'episod', 'still', 'enjoy', 'mani', 'episod', 'enjoy', 'one', 'ami', 'sandra', 'bullock', 'walk', 'move', 'piec', 'machineri', 'want', 'know', 'seen', 'wrap', 'like', 'say', 'everyon', 'alway', 'gave', 'good', 'perform', 'product', 'design', 'spectacular', 'costum', 'well', 'design', 'write', 'alway', 'strong', 'conclus', 'even', 'though', 'new', 'episod', 'current', 'seen', 'strongli', 'recommend', 'catch', 'case', 'goe', 'air', 'good']\n"
     ]
    }
   ],
   "source": [
    "# DONE: Apply review_to_words to a review (train_X[100] or any other review)\n",
    "\n",
    "test_rev=train_X[100]\n",
    "test_rev_word_bag=review_to_words(test_rev)\n",
    "\n",
    "# DONE: Print review after application of review_to_words function\n",
    "\n",
    "print(test_rev_word_bag)"
   ]
  },
  {
   "cell_type": "markdown",
   "metadata": {},
   "source": [
    "**Question:** Above we mentioned that `review_to_words` method removes html formatting and allows us to tokenize the words found in a review, for example, converting *entertained* and *entertaining* into *entertain* so that they are treated as though they are the same word. What else, if anything, does this method do to the input?"
   ]
  },
  {
   "cell_type": "code",
   "execution_count": 10,
   "metadata": {},
   "outputs": [
    {
     "name": "stdout",
     "output_type": "stream",
     "text": [
      "['i', 'me', 'my', 'myself', 'we', 'our', 'ours', 'ourselves', 'you', \"you're\", \"you've\", \"you'll\", \"you'd\", 'your', 'yours', 'yourself', 'yourselves', 'he', 'him', 'his', 'himself', 'she', \"she's\", 'her', 'hers', 'herself', 'it', \"it's\", 'its', 'itself', 'they', 'them', 'their', 'theirs', 'themselves', 'what', 'which', 'who', 'whom', 'this', 'that', \"that'll\", 'these', 'those', 'am', 'is', 'are', 'was', 'were', 'be', 'been', 'being', 'have', 'has', 'had', 'having', 'do', 'does', 'did', 'doing', 'a', 'an', 'the', 'and', 'but', 'if', 'or', 'because', 'as', 'until', 'while', 'of', 'at', 'by', 'for', 'with', 'about', 'against', 'between', 'into', 'through', 'during', 'before', 'after', 'above', 'below', 'to', 'from', 'up', 'down', 'in', 'out', 'on', 'off', 'over', 'under', 'again', 'further', 'then', 'once', 'here', 'there', 'when', 'where', 'why', 'how', 'all', 'any', 'both', 'each', 'few', 'more', 'most', 'other', 'some', 'such', 'no', 'nor', 'not', 'only', 'own', 'same', 'so', 'than', 'too', 'very', 's', 't', 'can', 'will', 'just', 'don', \"don't\", 'should', \"should've\", 'now', 'd', 'll', 'm', 'o', 're', 've', 'y', 'ain', 'aren', \"aren't\", 'couldn', \"couldn't\", 'didn', \"didn't\", 'doesn', \"doesn't\", 'hadn', \"hadn't\", 'hasn', \"hasn't\", 'haven', \"haven't\", 'isn', \"isn't\", 'ma', 'mightn', \"mightn't\", 'mustn', \"mustn't\", 'needn', \"needn't\", 'shan', \"shan't\", 'shouldn', \"shouldn't\", 'wasn', \"wasn't\", 'weren', \"weren't\", 'won', \"won't\", 'wouldn', \"wouldn't\"]\n"
     ]
    }
   ],
   "source": [
    "print(stopwords.words('english'))"
   ]
  },
  {
   "cell_type": "markdown",
   "metadata": {},
   "source": [
    "**Answer:**\n",
    "\n",
    "- This method converts all words to lower case\n",
    "- This method filters stop words to reduce noise in the text (stop words have no sentiment meaning, they are noise,  refer to output of ln [11] of this notebook)\n",
    "- This method removes punctuation marks (like colon, exclamation marks etc.) from the review as they have no meaning for the sentiment classification task\n",
    "\n",
    "All in all, the signal-to-noise ratio in the review texts is improved by the applied means. Furthermore the reviews are more standardized and thus more meaningful in training, e.g. for sentiment it is just important that special words occur (like e.g. fun and funny) whereas the several grammatical form just add noise, but no meaning. Thus by replacing the grammatical forms by one standardized form, training quality and thus net performance can be improved. "
   ]
  },
  {
   "cell_type": "markdown",
   "metadata": {},
   "source": [
    "The method below applies the `review_to_words` method to each of the reviews in the training and testing datasets. In addition it caches the results. This is because performing this processing step can take a long time. This way if you are unable to complete the notebook in the current session, you can come back without needing to process the data a second time."
   ]
  },
  {
   "cell_type": "code",
   "execution_count": 11,
   "metadata": {},
   "outputs": [],
   "source": [
    "import pickle\n",
    "\n",
    "cache_dir = os.path.join(\"../cache\", \"sentiment_analysis\")  # where to store cache files\n",
    "os.makedirs(cache_dir, exist_ok=True)  # ensure cache directory exists\n",
    "\n",
    "def preprocess_data(data_train, data_test, labels_train, labels_test,\n",
    "                    cache_dir=cache_dir, cache_file=\"preprocessed_data.pkl\"):\n",
    "    \"\"\"Convert each review to words; read from cache if available.\"\"\"\n",
    "\n",
    "    # If cache_file is not None, try to read from it first\n",
    "    cache_data = None\n",
    "    if cache_file is not None:\n",
    "        try:\n",
    "            with open(os.path.join(cache_dir, cache_file), \"rb\") as f:\n",
    "                cache_data = pickle.load(f)\n",
    "            print(\"Read preprocessed data from cache file:\", cache_file)\n",
    "        except:\n",
    "            pass  # unable to read from cache, but that's okay\n",
    "    \n",
    "    # If cache is missing, then do the heavy lifting\n",
    "    if cache_data is None:\n",
    "        # Preprocess training and test data to obtain words for each review\n",
    "        #words_train = list(map(review_to_words, data_train))\n",
    "        #words_test = list(map(review_to_words, data_test))\n",
    "        words_train = [review_to_words(review) for review in data_train]\n",
    "        words_test = [review_to_words(review) for review in data_test]\n",
    "        \n",
    "        # Write to cache file for future runs\n",
    "        if cache_file is not None:\n",
    "            cache_data = dict(words_train=words_train, words_test=words_test,\n",
    "                              labels_train=labels_train, labels_test=labels_test)\n",
    "            with open(os.path.join(cache_dir, cache_file), \"wb\") as f:\n",
    "                pickle.dump(cache_data, f)\n",
    "            print(\"Wrote preprocessed data to cache file:\", cache_file)\n",
    "    else:\n",
    "        # Unpack data loaded from cache file\n",
    "        words_train, words_test, labels_train, labels_test = (cache_data['words_train'],\n",
    "                cache_data['words_test'], cache_data['labels_train'], cache_data['labels_test'])\n",
    "    \n",
    "    return words_train, words_test, labels_train, labels_test"
   ]
  },
  {
   "cell_type": "code",
   "execution_count": 85,
   "metadata": {},
   "outputs": [
    {
     "name": "stdout",
     "output_type": "stream",
     "text": [
      "Read preprocessed data from cache file: preprocessed_data.pkl\n"
     ]
    }
   ],
   "source": [
    "# Preprocess data\n",
    "train_X, test_X, train_y, test_y = preprocess_data(train_X, test_X, train_y, test_y)"
   ]
  },
  {
   "cell_type": "markdown",
   "metadata": {},
   "source": [
    "## Transform the data\n",
    "\n",
    "In the XGBoost notebook we transformed the data from its word representation to a bag-of-words feature representation. For the model we are going to construct in this notebook we will construct a feature representation which is very similar. To start, we will represent each word as an integer. Of course, some of the words that appear in the reviews occur very infrequently and so likely don't contain much information for the purposes of sentiment analysis. The way we will deal with this problem is that we will fix the size of our working vocabulary and we will only include the words that appear most frequently. We will then combine all of the infrequent words into a single category and, in our case, we will label it as `1`.\n",
    "\n",
    "Since we will be using a recurrent neural network, it will be convenient if the length of each review is the same. To do this, we will fix a size for our reviews and then pad short reviews with the category 'no word' (which we will label `0`) and truncate long reviews."
   ]
  },
  {
   "cell_type": "markdown",
   "metadata": {},
   "source": [
    "### (TODO) Create a word dictionary\n",
    "\n",
    "To begin with, we need to construct a way to map words that appear in the reviews to integers. Here we fix the size of our vocabulary (including the 'no word' and 'infrequent' categories) to be `5000` but you may wish to change this to see how it affects the model.\n",
    "\n",
    "> **TODO:** Complete the implementation for the `build_dict()` method below. Note that even though the vocab_size is set to `5000`, we only want to construct a mapping for the most frequently appearing `4998` words. This is because we want to reserve the special labels `0` for 'no word' and `1` for 'infrequent word'."
   ]
  },
  {
   "cell_type": "code",
   "execution_count": 86,
   "metadata": {},
   "outputs": [
    {
     "name": "stdout",
     "output_type": "stream",
     "text": [
      "['hawk', 'heaven', 'lover', 'french', 'cinema', 'extens', 'french', 'screen', 'actor', 'actress', 'worst', 'indulg', 'actor', 'get', 'bitch', 'actor', 'question', 'valid', 'act', 'profess', 'etc', 'whilst', 'best', 'gloriou', 'celebr', 'send', 'finest', 'actor', 'current', 'work', 'simpl', 'premis', 'jean', 'pierr', 'mariel', 'request', 'water', 'ignor', 'restaur', 'blier', 'spin', 'direct', 'allow', 'cream', 'french', 'cinema', 'strut', 'stuff', 'camera', 'even', 'throw', 'nod', 'longer', 'around', 'jean', 'gabin', 'lino', 'ventura', 'includ', 'director', 'father', 'bernard', 'one', 'great', 'stalwart', 'french', 'cinema', 'field', 'celesti', 'phone', 'call', 'end', 'film', 'discurs', 'prolix', 'ye', 'guilti', 'charg', 'also', 'someth', 'guilti', 'pleasur']\n"
     ]
    }
   ],
   "source": [
    "print(train_X[1])"
   ]
  },
  {
   "cell_type": "code",
   "execution_count": 87,
   "metadata": {},
   "outputs": [],
   "source": [
    "import numpy as np\n",
    "from collections import Counter\n",
    "\n",
    "def build_dict(data, vocab_size = 5000):\n",
    "    \"\"\"Construct and return a dictionary mapping each of the most frequently appearing words to a unique integer.\"\"\"\n",
    "    \n",
    "    # DONE: Determine how often each word appears in `data`. Note that `data` is a list of sentences and that a\n",
    "    #       sentence is a list of words.\n",
    "    \n",
    "    word_count = {} # A dict storing the words that appear in the reviews along with how often they occur\n",
    "    words_list=[]\n",
    "    words_count=Counter()\n",
    "    \n",
    "    for i in range(0,len(data)):\n",
    "        words_list=data[i]\n",
    "        for word in words_list:\n",
    "            words_count[word]+=1\n",
    "    \n",
    "    # DONE: Sort the words found in `data` so that sorted_words[0] is the most frequently appearing word and\n",
    "    #       sorted_words[-1] is the least frequently appearing word.\n",
    "    \n",
    "    sorted_words = words_count.most_common(vocab_size)\n",
    "    \n",
    "    word_dict = {} # This is what we are building, a dictionary that translates words into integers\n",
    "    for idx, word in enumerate(sorted_words[:vocab_size - 2]): # The -2 is so that we save room for the 'no word'\n",
    "        word_dict[word] = idx + 2                              # 'infrequent' labels\n",
    "        \n",
    "    return word_dict"
   ]
  },
  {
   "cell_type": "code",
   "execution_count": 88,
   "metadata": {},
   "outputs": [],
   "source": [
    "word_dict_raw = build_dict(train_X)"
   ]
  },
  {
   "cell_type": "code",
   "execution_count": 89,
   "metadata": {},
   "outputs": [
    {
     "name": "stdout",
     "output_type": "stream",
     "text": [
      "{('movi', 51695): 2, ('film', 48190): 3, ('one', 27741): 4, ('like', 22799): 5, ('time', 16191): 6, ('good', 15360): 7, ('make', 15207): 8, ('charact', 14178): 9, ('get', 14141): 10, ('see', 14111): 11, ('watch', 13940): 12, ('stori', 13168): 13, ('even', 12906): 14, ('would', 12436): 15, ('realli', 11736): 16, ('well', 11042): 17, ('scene', 10586): 18, ('look', 10051): 19, ('show', 9878): 20, ('much', 9765): 21, ('end', 9651): 22, ('peopl', 9391): 23, ('bad', 9344): 24, ('go', 9305): 25, ('great', 9171): 26, ('also', 9156): 27, ('first', 9062): 28, ('love', 9027): 29, ('think', 8913): 30, ('way', 8830): 31, ('act', 8794): 32, ('play', 8730): 33, ('made', 8362): 34, ('thing', 8213): 35, ('could', 7921): 36, ('know', 7514): 37, ('say', 7457): 38, ('seem', 7220): 39, ('work', 7101): 40, ('plot', 6967): 41, ('two', 6908): 42, ('actor', 6876): 43, ('year', 6874): 44, ('come', 6747): 45, ('mani', 6688): 46, ('seen', 6681): 47, ('take', 6654): 48, ('life', 6640): 49, ('want', 6640): 50, ('never', 6484): 51, ('littl', 6435): 52, ('best', 6424): 53, ('tri', 6357): 54, ('man', 6036): 55, ('ever', 5999): 56, ('give', 5792): 57, ('better', 5749): 58, ('still', 5664): 59, ('perform', 5528): 60, ('find', 5449): 61, ('feel', 5300): 62, ('part', 5247): 63, ('back', 5133): 64, ('use', 5123): 65, ('someth', 5122): 66, ('director', 5120): 67, ('actual', 5065): 68, ('interest', 4893): 69, ('lot', 4778): 70, ('real', 4741): 71, ('old', 4583): 72, ('cast', 4573): 73, ('though', 4566): 74, ('live', 4477): 75, ('star', 4447): 76, ('enjoy', 4353): 77, ('guy', 4339): 78, ('anoth', 4325): 79, ('new', 4315): 80, ('role', 4300): 81, ('noth', 4296): 82, ('10', 4289): 83, ('funni', 4288): 84, ('music', 4247): 85, ('point', 4238): 86, ('start', 4166): 87, ('set', 4116): 88, ('girl', 4064): 89, ('origin', 4044): 90, ('day', 4013): 91, ('world', 3979): 92, ('everi', 3977): 93, ('believ', 3917): 94, ('turn', 3880): 95, ('quit', 3841): 96, ('direct', 3794): 97, ('us', 3794): 98, ('thought', 3773): 99, ('fact', 3749): 100, ('minut', 3739): 101, ('horror', 3717): 102, ('kill', 3701): 103, ('action', 3694): 104, ('comedi', 3686): 105, ('pretti', 3665): 106, ('young', 3664): 107, ('wonder', 3639): 108, ('happen', 3624): 109, ('around', 3616): 110, ('got', 3583): 111, ('effect', 3581): 112, ('right', 3554): 113, ('long', 3540): 114, ('howev', 3537): 115, ('big', 3477): 116, ('line', 3458): 117, ('famili', 3454): 118, ('enough', 3452): 119, ('seri', 3420): 120, ('may', 3392): 121, ('need', 3378): 122, ('fan', 3370): 123, ('bit', 3348): 124, ('script', 3342): 125, ('beauti', 3292): 126, ('person', 3274): 127, ('becom', 3272): 128, ('without', 3268): 129, ('must', 3250): 130, ('alway', 3243): 131, ('friend', 3230): 132, ('tell', 3215): 133, ('reason', 3206): 134, ('saw', 3178): 135, ('last', 3158): 136, ('final', 3153): 137, ('kid', 3148): 138, ('almost', 3139): 139, ('put', 3132): 140, ('least', 3112): 141, ('sure', 3100): 142, ('done', 3096): 143, ('whole', 3080): 144, ('place', 3048): 145, ('complet', 3035): 146, ('kind', 3008): 147, ('expect', 3007): 148, ('differ', 3007): 149, ('shot', 2998): 150, ('far', 2978): 151, ('mean', 2961): 152, ('anyth', 2949): 153, ('book', 2935): 154, ('laugh', 2926): 155, ('might', 2919): 156, ('name', 2917): 157, ('sinc', 2906): 158, ('begin', 2905): 159, ('2', 2882): 160, ('probabl', 2874): 161, ('woman', 2838): 162, ('help', 2828): 163, ('entertain', 2827): 164, ('let', 2821): 165, ('screen', 2799): 166, ('call', 2792): 167, ('tv', 2786): 168, ('moment', 2784): 169, ('away', 2782): 170, ('read', 2762): 171, ('yet', 2753): 172, ('rather', 2733): 173, ('worst', 2731): 174, ('run', 2723): 175, ('fun', 2694): 176, ('lead', 2684): 177, ('hard', 2681): 178, ('audienc', 2675): 179, ('idea', 2638): 180, ('anyon', 2632): 181, ('episod', 2629): 182, ('american', 2618): 183, ('found', 2608): 184, ('appear', 2567): 185, ('bore', 2549): 186, ('especi', 2539): 187, ('although', 2537): 188, ('hope', 2529): 189, ('keep', 2520): 190, ('cours', 2520): 191, ('anim', 2483): 192, ('job', 2461): 193, ('goe', 2441): 194, ('move', 2434): 195, ('sens', 2416): 196, ('dvd', 2410): 197, ('version', 2410): 198, ('war', 2394): 199, ('money', 2370): 200, ('someon', 2363): 201, ('mind', 2354): 202, ('mayb', 2340): 203, ('problem', 2337): 204, ('true', 2333): 205, ('hous', 2328): 206, ('everyth', 2323): 207, ('nice', 2312): 208, ('second', 2309): 209, ('rate', 2300): 210, ('three', 2297): 211, ('night', 2293): 212, ('follow', 2292): 213, ('face', 2292): 214, ('recommend', 2290): 215, ('product', 2283): 216, ('main', 2283): 217, ('worth', 2280): 218, ('leav', 2272): 219, ('human', 2262): 220, ('special', 2258): 221, ('excel', 2251): 222, ('togeth', 2247): 223, ('wast', 2229): 224, ('everyon', 2228): 225, ('sound', 2228): 226, ('john', 2222): 227, ('hand', 2221): 228, ('1', 2213): 229, ('father', 2206): 230, ('later', 2202): 231, ('eye', 2200): 232, ('said', 2196): 233, ('view', 2193): 234, ('instead', 2190): 235, ('review', 2184): 236, ('boy', 2178): 237, ('high', 2174): 238, ('hour', 2164): 239, ('miss', 2160): 240, ('classic', 2159): 241, ('talk', 2159): 242, ('wife', 2140): 243, ('understand', 2132): 244, ('left', 2125): 245, ('care', 2124): 246, ('black', 2123): 247, ('death', 2113): 248, ('open', 2103): 249, ('murder', 2102): 250, ('write', 2096): 251, ('half', 2094): 252, ('head', 2075): 253, ('rememb', 2070): 254, ('chang', 2062): 255, ('viewer', 2047): 256, ('fight', 2040): 257, ('gener', 2022): 258, ('surpris', 2021): 259, ('includ', 2020): 260, ('short', 2020): 261, ('die', 2012): 262, ('fall', 2004): 263, ('less', 2003): 264, ('els', 2002): 265, ('entir', 1993): 266, ('piec', 1981): 267, ('involv', 1980): 268, ('pictur', 1968): 269, ('simpli', 1965): 270, ('power', 1957): 271, ('top', 1957): 272, ('home', 1957): 273, ('total', 1948): 274, ('usual', 1946): 275, ('budget', 1933): 276, ('attempt', 1932): 277, ('suppos', 1924): 278, ('releas', 1921): 279, ('hollywood', 1920): 280, ('terribl', 1917): 281, ('song', 1916): 282, ('men', 1915): 283, ('possibl', 1913): 284, ('featur', 1903): 285, ('portray', 1902): 286, ('disappoint', 1900): 287, ('3', 1899): 288, ('poor', 1899): 289, ('coupl', 1894): 290, ('camera', 1888): 291, ('stupid', 1888): 292, ('dead', 1883): 293, ('wrong', 1872): 294, ('low', 1870): 295, ('produc', 1870): 296, ('either', 1866): 297, ('video', 1866): 298, ('aw', 1861): 299, ('definit', 1856): 300, ('except', 1854): 301, ('rest', 1852): 302, ('given', 1849): 303, ('absolut', 1845): 304, ('women', 1827): 305, ('lack', 1821): 306, ('word', 1817): 307, ('writer', 1814): 308, ('titl', 1793): 309, ('talent', 1787): 310, ('decid', 1786): 311, ('full', 1783): 312, ('perfect', 1778): 313, ('along', 1777): 314, ('style', 1760): 315, ('close', 1744): 316, ('truli', 1743): 317, ('school', 1732): 318, ('emot', 1731): 319, ('save', 1731): 320, ('age', 1726): 321, ('sex', 1726): 322, ('next', 1716): 323, ('bring', 1715): 324, ('mr', 1708): 325, ('case', 1706): 326, ('killer', 1700): 327, ('heart', 1688): 328, ('comment', 1687): 329, ('sort', 1684): 330, ('creat', 1683): 331, ('perhap', 1681): 332, ('came', 1673): 333, ('brother', 1664): 334, ('sever', 1663): 335, ('joke', 1656): 336, ('art', 1653): 337, ('dialogu', 1652): 338, ('game', 1651): 339, ('small', 1648): 340, ('base', 1645): 341, ('flick', 1629): 342, ('written', 1616): 343, ('sequenc', 1609): 344, ('meet', 1608): 345, ('earli', 1605): 346, ('often', 1601): 347, ('other', 1598): 348, ('mother', 1597): 349, ('develop', 1595): 350, ('humor', 1592): 351, ('actress', 1588): 352, ('consid', 1585): 353, ('dark', 1573): 354, ('guess', 1565): 355, ('amaz', 1563): 356, ('unfortun', 1562): 357, ('light', 1555): 358, ('lost', 1555): 359, ('exampl', 1554): 360, ('cinema', 1553): 361, ('drama', 1552): 362, ('ye', 1551): 363, ('white', 1551): 364, ('experi', 1548): 365, ('imagin', 1547): 366, ('mention', 1545): 367, ('stop', 1543): 368, ('natur', 1541): 369, ('forc', 1534): 370, ('manag', 1529): 371, ('felt', 1528): 372, ('present', 1520): 373, ('cut', 1520): 374, ('children', 1515): 375, ('fail', 1511): 376, ('son', 1506): 377, ('support', 1505): 378, ('qualiti', 1505): 379, ('car', 1505): 380, ('ask', 1500): 381, ('hit', 1497): 382, ('side', 1490): 383, ('voic', 1482): 384, ('extrem', 1473): 385, ('impress', 1472): 386, ('wors', 1468): 387, ('evil', 1468): 388, ('went', 1463): 389, ('stand', 1463): 390, ('certainli', 1462): 391, ('basic', 1453): 392, ('oh', 1450): 393, ('overal', 1434): 394, ('favorit', 1421): 395, ('horribl', 1418): 396, ('mysteri', 1416): 397, ('number', 1413): 398, ('type', 1408): 399, ('danc', 1405): 400, ('wait', 1400): 401, ('hero', 1389): 402, ('alreadi', 1381): 403, ('5', 1381): 404, ('learn', 1375): 405, ('matter', 1373): 406, ('4', 1372): 407, ('michael', 1370): 408, ('genr', 1367): 409, ('fine', 1366): 410, ('despit', 1364): 411, ('throughout', 1360): 412, ('walk', 1358): 413, ('success', 1344): 414, ('histori', 1338): 415, ('question', 1333): 416, ('zombi', 1331): 417, ('town', 1328): 418, ('realiz', 1327): 419, ('relationship', 1327): 420, ('child', 1324): 421, ('past', 1324): 422, ('daughter', 1312): 423, ('late', 1309): 424, ('b', 1306): 425, ('wish', 1303): 426, ('credit', 1295): 427, ('hate', 1295): 428, ('event', 1293): 429, ('theme', 1292): 430, ('touch', 1284): 431, ('citi', 1283): 432, ('today', 1282): 433, ('sometim', 1281): 434, ('behind', 1280): 435, ('god', 1271): 436, ('twist', 1268): 437, ('sit', 1263): 438, ('stay', 1260): 439, ('deal', 1260): 440, ('annoy', 1260): 441, ('abl', 1259): 442, ('rent', 1256): 443, ('pleas', 1253): 444, ('edit', 1250): 445, ('blood', 1245): 446, ('deserv', 1236): 447, ('anyway', 1230): 448, ('comic', 1230): 449, ('appar', 1226): 450, ('soon', 1222): 451, ('gave', 1216): 452, ('etc', 1212): 453, ('level', 1210): 454, ('slow', 1207): 455, ('chanc', 1204): 456, ('score', 1203): 457, ('bodi', 1199): 458, ('brilliant', 1196): 459, ('incred', 1194): 460, ('figur', 1190): 461, ('situat', 1188): 462, ('major', 1185): 463, ('self', 1185): 464, ('stuff', 1181): 465, ('decent', 1178): 466, ('element', 1176): 467, ('return', 1174): 468, ('dream', 1174): 469, ('obvious', 1168): 470, ('order', 1159): 471, ('continu', 1159): 472, ('pace', 1156): 473, ('ridicul', 1154): 474, ('happi', 1151): 475, ('add', 1147): 476, ('group', 1147): 477, ('highli', 1147): 478, ('thank', 1146): 479, ('ladi', 1145): 480, ('novel', 1130): 481, ('pain', 1129): 482, ('speak', 1129): 483, ('career', 1116): 484, ('shoot', 1115): 485, ('strang', 1114): 486, ('heard', 1111): 487, ('sad', 1108): 488, ('husband', 1105): 489, ('polic', 1105): 490, ('import', 1103): 491, ('break', 1101): 492, ('took', 1100): 493, ('strong', 1096): 494, ('cannot', 1096): 495, ('predict', 1095): 496, ('robert', 1095): 497, ('violenc', 1091): 498, ('hilari', 1090): 499, ('recent', 1089): 500, ('countri', 1086): 501, ('known', 1081): 502, ('particularli', 1079): 503, ('pick', 1078): 504, ('documentari', 1074): 505, ('season', 1072): 506, ('critic', 1071): 507, ('jame', 1069): 508, ('compar', 1068): 509, ('alon', 1066): 510, ('obviou', 1066): 511, ('told', 1063): 512, ('state', 1060): 513, ('visual', 1058): 514, ('rock', 1058): 515, ('offer', 1057): 516, ('theater', 1057): 517, ('exist', 1057): 518, ('opinion', 1056): 519, ('gore', 1055): 520, ('crap', 1054): 521, ('hold', 1054): 522, ('result', 1052): 523, ('hear', 1050): 524, ('room', 1050): 525, ('realiti', 1050): 526, ('effort', 1047): 527, ('clich', 1047): 528, ('thriller', 1046): 529, ('caus', 1044): 530, ('explain', 1042): 531, ('serious', 1042): 532, ('sequel', 1042): 533, ('king', 1036): 534, ('local', 1035): 535, ('ago', 1033): 536, ('hell', 1032): 537, ('none', 1032): 538, ('note', 1027): 539, ('allow', 1026): 540, ('sister', 1025): 541, ('david', 1025): 542, ('simpl', 1023): 543, ('femal', 1022): 544, ('deliv', 1021): 545, ('ok', 1017): 546, ('convinc', 1012): 547, ('class', 1012): 548, ('check', 1011): 549, ('suspens', 1009): 550, ('win', 1008): 551, ('oscar', 1007): 552, ('buy', 1007): 553, ('huge', 1006): 554, ('valu', 1004): 555, ('sexual', 1000): 556, ('scari', 998): 557, ('cool', 998): 558, ('similar', 996): 559, ('excit', 996): 560, ('apart', 995): 561, ('exactli', 995): 562, ('provid', 995): 563, ('avoid', 994): 564, ('shown', 994): 565, ('seriou', 989): 566, ('english', 987): 567, ('taken', 986): 568, ('whose', 986): 569, ('cinematographi', 983): 570, ('shock', 979): 571, ('polit', 978): 572, ('spoiler', 976): 573, ('offic', 975): 574, ('across', 971): 575, ('middl', 969): 576, ('street', 968): 577, ('pass', 968): 578, ('messag', 966): 579, ('somewhat', 965): 580, ('silli', 965): 581, ('charm', 965): 582, ('modern', 964): 583, ('filmmak', 959): 584, ('confus', 959): 585, ('form', 957): 586, ('tale', 956): 587, ('singl', 950): 588, ('jack', 945): 589, ('mostli', 941): 590, ('attent', 940): 591, ('carri', 940): 592, ('william', 940): 593, ('sing', 939): 594, ('five', 938): 595, ('subject', 938): 596, ('prove', 937): 597, ('richard', 937): 598, ('stage', 935): 599, ('team', 935): 600, ('unlik', 934): 601, ('cop', 934): 602, ('georg', 933): 603, ('monster', 932): 604, ('televis', 932): 605, ('earth', 929): 606, ('cover', 927): 607, ('villain', 927): 608, ('pay', 924): 609, ('marri', 923): 610, ('toward', 922): 611, ('build', 921): 612, ('parent', 920): 613, ('pull', 920): 614, ('due', 918): 615, ('fill', 917): 616, ('respect', 917): 617, ('dialog', 915): 618, ('four', 915): 619, ('remind', 913): 620, ('futur', 912): 621, ('typic', 908): 622, ('weak', 908): 623, ('7', 904): 624, ('cheap', 903): 625, ('intellig', 902): 626, ('atmospher', 901): 627, ('british', 901): 628, ('80', 899): 629, ('clearli', 899): 630, ('dog', 898): 631, ('non', 898): 632, ('paul', 898): 633, ('fast', 897): 634, ('artist', 897): 635, ('8', 897): 636, ('knew', 897): 637, ('crime', 896): 638, ('easili', 892): 639, ('escap', 889): 640, ('doubt', 887): 641, ('adult', 887): 642, ('detail', 884): 643, ('date', 883): 644, ('member', 879): 645, ('romant', 879): 646, ('fire', 879): 647, ('gun', 872): 648, ('drive', 872): 649, ('straight', 869): 650, ('beyond', 866): 651, ('fit', 866): 652, ('attack', 864): 653, ('imag', 860): 654, ('upon', 859): 655, ('posit', 858): 656, ('whether', 856): 657, ('fantast', 855): 658, ('peter', 855): 659, ('aspect', 852): 660, ('appreci', 852): 661, ('captur', 852): 662, ('ten', 851): 663, ('plan', 850): 664, ('discov', 849): 665, ('remain', 846): 666, ('near', 843): 667, ('period', 843): 668, ('air', 842): 669, ('realist', 842): 670, ('mark', 838): 671, ('red', 837): 672, ('dull', 836): 673, ('adapt', 835): 674, ('within', 832): 675, ('lose', 828): 676, ('spend', 828): 677, ('color', 827): 678, ('materi', 827): 679, ('chase', 824): 680, ('mari', 823): 681, ('storylin', 822): 682, ('forget', 821): 683, ('bunch', 819): 684, ('clear', 818): 685, ('lee', 817): 686, ('victim', 816): 687, ('nearli', 815): 688, ('box', 813): 689, ('york', 812): 690, ('inspir', 811): 691, ('match', 811): 692, ('mess', 809): 693, ('finish', 809): 694, ('standard', 808): 695, ('easi', 806): 696, ('truth', 805): 697, ('busi', 802): 698, ('suffer', 802): 699, ('dramat', 799): 700, ('bill', 799): 701, ('space', 799): 702, ('western', 798): 703, ('e', 797): 704, ('list', 796): 705, ('battl', 795): 706, ('notic', 793): 707, ('de', 792): 708, ('french', 790): 709, ('ad', 788): 710, ('9', 787): 711, ('tom', 785): 712, ('larg', 784): 713, ('among', 783): 714, ('eventu', 782): 715, ('train', 781): 716, ('accept', 781): 717, ('agre', 779): 718, ('soundtrack', 778): 719, ('spirit', 778): 720, ('third', 776): 721, ('teenag', 775): 722, ('adventur', 773): 723, ('soldier', 773): 724, ('suggest', 771): 725, ('famou', 771): 726, ('sorri', 771): 727, ('drug', 771): 728, ('normal', 770): 729, ('cri', 770): 730, ('babi', 770): 731, ('troubl', 769): 732, ('ultim', 769): 733, ('contain', 765): 734, ('certain', 764): 735, ('cultur', 762): 736, ('romanc', 760): 737, ('rare', 759): 738, ('lame', 758): 739, ('somehow', 757): 740, ('disney', 755): 741, ('mix', 755): 742, ('gone', 754): 743, ('cartoon', 753): 744, ('student', 752): 745, ('fear', 751): 746, ('reveal', 751): 747, ('suck', 750): 748, ('kept', 750): 749, ('attract', 749): 750, ('appeal', 748): 751, ('premis', 747): 752, ('design', 745): 753, ('secret', 745): 754, ('greatest', 745): 755, ('shame', 743): 756, ('throw', 742): 757, ('scare', 741): 758, ('copi', 741): 759, ('wit', 739): 760, ('america', 738): 761, ('admit', 738): 762, ('particular', 737): 763, ('brought', 737): 764, ('relat', 737): 765, ('screenplay', 735): 766, ('whatev', 734): 767, ('pure', 733): 768, ('70', 732): 769, ('averag', 730): 770, ('harri', 730): 771, ('master', 729): 772, ('describ', 728): 773, ('treat', 727): 774, ('male', 727): 775, ('20', 726): 776, ('fantasi', 725): 777, ('issu', 725): 778, ('warn', 724): 779, ('inde', 722): 780, ('forward', 719): 781, ('background', 719): 782, ('project', 717): 783, ('free', 717): 784, ('japanes', 714): 785, ('memor', 714): 786, ('poorli', 713): 787, ('award', 712): 788, ('locat', 711): 789, ('amus', 710): 790, ('potenti', 710): 791, ('struggl', 709): 792, ('magic', 708): 793, ('weird', 708): 794, ('societi', 707): 795, ('okay', 706): 796, ('accent', 704): 797, ('imdb', 704): 798, ('doctor', 704): 799, ('water', 703): 800, ('hot', 703): 801, ('express', 702): 802, ('alien', 702): 803, ('dr', 702): 804, ('30', 702): 805, ('odd', 701): 806, ('choic', 699): 807, ('crazi', 699): 808, ('studio', 698): 809, ('fiction', 698): 810, ('control', 697): 811, ('becam', 697): 812, ('masterpiec', 696): 813, ('difficult', 695): 814, ('fli', 695): 815, ('joe', 692): 816, ('scream', 690): 817, ('costum', 689): 818, ('lover', 688): 819, ('uniqu', 687): 820, ('refer', 687): 821, ('remak', 686): 822, ('girlfriend', 684): 823, ('vampir', 684): 824, ('prison', 682): 825, ('execut', 680): 826, ('wear', 678): 827, ('jump', 677): 828, ('unless', 675): 829, ('wood', 675): 830, ('creepi', 673): 831, ('cheesi', 672): 832, ('superb', 671): 833, ('otherwis', 670): 834, ('parti', 668): 835, ('ghost', 666): 836, ('roll', 666): 837, ('mad', 664): 838, ('public', 664): 839, ('depict', 663): 840, ('week', 662): 841, ('moral', 662): 842, ('badli', 662): 843, ('earlier', 662): 844, ('jane', 662): 845, ('fi', 660): 846, ('dumb', 660): 847, ('flaw', 659): 848, ('grow', 659): 849, ('sci', 658): 850, ('deep', 658): 851, ('cat', 657): 852, ('maker', 657): 853, ('older', 656): 854, ('connect', 656): 855, ('footag', 656): 856, ('bother', 655): 857, ('plenti', 655): 858, ('outsid', 653): 859, ('stick', 650): 860, ('gay', 649): 861, ('catch', 647): 862, ('co', 645): 863, ('plu', 645): 864, ('popular', 643): 865, ('equal', 642): 866, ('social', 641): 867, ('quickli', 639): 868, ('disturb', 639): 869, ('perfectli', 637): 870, ('dress', 636): 871, ('90', 635): 872, ('era', 635): 873, ('mistak', 634): 874, ('lie', 632): 875, ('ride', 630): 876, ('previou', 630): 877, ('combin', 629): 878, ('concept', 627): 879, ('band', 627): 880, ('surviv', 626): 881, ('answer', 626): 882, ('rich', 626): 883, ('front', 624): 884, ('sweet', 623): 885, ('christma', 623): 886, ('insid', 622): 887, ('bare', 621): 888, ('eat', 621): 889, ('concern', 621): 890, ('ben', 619): 891, ('listen', 619): 892, ('beat', 619): 893, ('c', 617): 894, ('term', 615): 895, ('serv', 615): 896, ('meant', 614): 897, ('german', 614): 898, ('la', 614): 899, ('hardli', 613): 900, ('stereotyp', 613): 901, ('innoc', 609): 902, ('law', 609): 903, ('desper', 608): 904, ('memori', 607): 905, ('promis', 607): 906, ('intent', 604): 907, ('cute', 604): 908, ('inform', 603): 909, ('steal', 603): 910, ('variou', 603): 911, ('brain', 601): 912, ('post', 600): 913, ('tone', 599): 914, ('island', 598): 915, ('amount', 597): 916, ('track', 596): 917, ('compani', 596): 918, ('nuditi', 596): 919, ('claim', 595): 920, ('store', 595): 921, ('flat', 594): 922, ('50', 594): 923, ('hair', 594): 924, ('univers', 592): 925, ('land', 592): 926, ('fairli', 587): 927, ('danger', 587): 928, ('kick', 587): 929, ('scott', 587): 930, ('player', 586): 931, ('plain', 584): 932, ('crew', 584): 933, ('step', 584): 934, ('toni', 582): 935, ('share', 581): 936, ('centuri', 580): 937, ('tast', 580): 938, ('achiev', 578): 939, ('engag', 578): 940, ('cold', 577): 941, ('travel', 577): 942, ('record', 576): 943, ('rip', 576): 944, ('suit', 576): 945, ('sadli', 575): 946, ('manner', 575): 947, ('wrote', 574): 948, ('spot', 574): 949, ('tension', 574): 950, ('fascin', 573): 951, ('intens', 573): 952, ('familiar', 572): 953, ('remark', 570): 954, ('depth', 570): 955, ('burn', 570): 956, ('destroy', 569): 957, ('histor', 569): 958, ('sleep', 568): 959, ('purpos', 567): 960, ('languag', 566): 961, ('ignor', 565): 962, ('ruin', 565): 963, ('delight', 564): 964, ('italian', 563): 965, ('unbeliev', 563): 966, ('collect', 562): 967, ('abil', 562): 968, ('soul', 562): 969, ('clever', 561): 970, ('detect', 561): 971, ('violent', 560): 972, ('rape', 559): 973, ('reach', 558): 974, ('door', 557): 975, ('liter', 556): 976, ('trash', 556): 977, ('scienc', 556): 978, ('commun', 555): 979, ('reveng', 555): 980, ('caught', 555): 981, ('creatur', 554): 982, ('approach', 552): 983, ('trip', 552): 984, ('fashion', 550): 985, ('intrigu', 550): 986, ('skill', 549): 987, ('introduc', 549): 988, ('paint', 549): 989, ('complex', 548): 990, ('channel', 548): 991, ('camp', 546): 992, ('christian', 544): 993, ('hole', 543): 994, ('extra', 543): 995, ('limit', 542): 996, ('ann', 542): 997, ('immedi', 542): 998, ('mental', 542): 999, ('mere', 541): 1000, ('comput', 541): 1001, ('slightli', 541): 1002, ('6', 541): 1003, ('million', 541): 1004, ('conclus', 539): 1005, ('slasher', 539): 1006, ('suddenli', 538): 1007, ('imposs', 538): 1008, ('crimin', 537): 1009, ('teen', 537): 1010, ('neither', 537): 1011, ('spent', 536): 1012, ('physic', 536): 1013, ('nation', 536): 1014, ('respons', 535): 1015, ('planet', 534): 1016, ('fake', 532): 1017, ('receiv', 532): 1018, ('sick', 531): 1019, ('blue', 531): 1020, ('bizarr', 529): 1021, ('embarrass', 528): 1022, ('indian', 527): 1023, ('15', 525): 1024, ('ring', 525): 1025, ('drop', 524): 1026, ('pop', 524): 1027, ('drag', 523): 1028, ('haunt', 521): 1029, ('pointless', 519): 1030, ('suspect', 519): 1031, ('search', 517): 1032, ('edg', 517): 1033, ('handl', 516): 1034, ('biggest', 515): 1035, ('common', 515): 1036, ('arriv', 514): 1037, ('hurt', 514): 1038, ('faith', 514): 1039, ('technic', 513): 1040, ('angel', 512): 1041, ('dad', 511): 1042, ('genuin', 511): 1043, ('f', 510): 1044, ('solid', 510): 1045, ('awesom', 510): 1046, ('colleg', 509): 1047, ('former', 509): 1048, ('focu', 509): 1049, ('van', 509): 1050, ('count', 507): 1051, ('tear', 506): 1052, ('heavi', 506): 1053, ('wall', 505): 1054, ('rais', 505): 1055, ('laughabl', 504): 1056, ('younger', 504): 1057, ('visit', 504): 1058, ('sign', 503): 1059, ('excus', 503): 1060, ('fair', 503): 1061, ('cult', 502): 1062, ('tough', 501): 1063, ('key', 501): 1064, ('motion', 501): 1065, ('super', 500): 1066, ('desir', 500): 1067, ('stun', 499): 1068, ('addit', 499): 1069, ('cloth', 497): 1070, ('exploit', 497): 1071, ('tortur', 496): 1072, ('smith', 496): 1073, ('race', 495): 1074, ('davi', 495): 1075, ('author', 494): 1076, ('cross', 494): 1077, ('jim', 492): 1078, ('consist', 491): 1079, ('minor', 491): 1080, ('focus', 491): 1081, ('compel', 491): 1082, ('pathet', 490): 1083, ('chemistri', 490): 1084, ('commit', 490): 1085, ('park', 489): 1086, ('frank', 488): 1087, ('obsess', 488): 1088, ('tradit', 488): 1089, ('grade', 487): 1090, ('asid', 486): 1091, ('60', 486): 1092, ('brutal', 485): 1093, ('somewher', 483): 1094, ('steve', 483): 1095, ('rule', 482): 1096, ('u', 482): 1097, ('opportun', 482): 1098, ('grant', 482): 1099, ('depress', 482): 1100, ('explor', 482): 1101, ('honest', 481): 1102, ('besid', 481): 1103, ('dub', 480): 1104, ('anti', 480): 1105, ('trailer', 479): 1106, ('intend', 479): 1107, ('bar', 478): 1108, ('longer', 477): 1109, ('scientist', 477): 1110, ('west', 477): 1111, ('regard', 477): 1112, ('judg', 476): 1113, ('decad', 476): 1114, ('silent', 475): 1115, ('creativ', 474): 1116, ('armi', 474): 1117, ('wild', 473): 1118, ('g', 472): 1119, ('stewart', 472): 1120, ('south', 472): 1121, ('draw', 471): 1122, ('road', 470): 1123, ('govern', 469): 1124, ('ex', 468): 1125, ('boss', 468): 1126, ('practic', 467): 1127, ('surprisingli', 466): 1128, ('motiv', 466): 1129, ('festiv', 466): 1130, ('gang', 466): 1131, ('club', 466): 1132, ('green', 465): 1133, ('redeem', 465): 1134, ('page', 465): 1135, ('london', 465): 1136, ('display', 464): 1137, ('idiot', 464): 1138, ('aliv', 464): 1139, ('machin', 464): 1140, ('militari', 464): 1141, ('thrill', 463): 1142, ('repeat', 463): 1143, ('nobodi', 462): 1144, ('yeah', 462): 1145, ('folk', 462): 1146, ('100', 462): 1147, ('40', 461): 1148, ('journey', 460): 1149, ('garbag', 460): 1150, ('smile', 459): 1151, ('tire', 459): 1152, ('ground', 459): 1153, ('bought', 458): 1154, ('mood', 458): 1155, ('cost', 457): 1156, ('stone', 457): 1157, ('sam', 457): 1158, ('noir', 456): 1159, ('mouth', 456): 1160, ('agent', 455): 1161, ('terrif', 455): 1162, ('utterli', 454): 1163, ('requir', 454): 1164, ('honestli', 453): 1165, ('sexi', 453): 1166, ('area', 453): 1167, ('report', 452): 1168, ('geniu', 452): 1169, ('glad', 451): 1170, ('enter', 451): 1171, ('humour', 451): 1172, ('investig', 451): 1173, ('serial', 450): 1174, ('narr', 449): 1175, ('occasion', 449): 1176, ('passion', 449): 1177, ('climax', 448): 1178, ('marriag', 448): 1179, ('industri', 447): 1180, ('studi', 447): 1181, ('demon', 446): 1182, ('center', 446): 1183, ('charli', 446): 1184, ('ship', 446): 1185, ('nowher', 446): 1186, ('hors', 445): 1187, ('bear', 445): 1188, ('loos', 445): 1189, ('hang', 444): 1190, ('wow', 444): 1191, ('graphic', 442): 1192, ('giant', 440): 1193, ('admir', 440): 1194, ('send', 439): 1195, ('loud', 438): 1196, ('damn', 438): 1197, ('subtl', 437): 1198, ('profession', 437): 1199, ('rel', 437): 1200, ('nake', 437): 1201, ('blow', 436): 1202, ('bottom', 435): 1203, ('insult', 434): 1204, ('batman', 434): 1205, ('doubl', 433): 1206, ('r', 433): 1207, ('kelli', 433): 1208, ('boyfriend', 433): 1209, ('initi', 431): 1210, ('frame', 430): 1211, ('opera', 429): 1212, ('gem', 429): 1213, ('drawn', 428): 1214, ('affect', 428): 1215, ('cinemat', 428): 1216, ('church', 428): 1217, ('challeng', 428): 1218, ('nightmar', 426): 1219, ('evid', 426): 1220, ('seek', 426): 1221, ('fulli', 426): 1222, ('l', 426): 1223, ('j', 426): 1224, ('essenti', 425): 1225, ('conflict', 425): 1226, ('arm', 425): 1227, ('grace', 424): 1228, ('christoph', 424): 1229, ('henri', 424): 1230, ('wind', 424): 1231, ('witch', 423): 1232, ('narrat', 423): 1233, ('assum', 423): 1234, ('hunt', 422): 1235, ('push', 422): 1236, ('chri', 421): 1237, ('wise', 421): 1238, ('nomin', 420): 1239, ('repres', 420): 1240, ('month', 420): 1241, ('avail', 419): 1242, ('affair', 419): 1243, ('sceneri', 419): 1244, ('hide', 419): 1245, ('justic', 418): 1246, ('smart', 418): 1247, ('thu', 418): 1248, ('bond', 418): 1249, ('interview', 417): 1250, ('outstand', 417): 1251, ('flashback', 417): 1252, ('constantli', 416): 1253, ('satisfi', 416): 1254, ('presenc', 416): 1255, ('central', 415): 1256, ('bed', 415): 1257, ('sell', 414): 1258, ('content', 414): 1259, ('iron', 414): 1260, ('gag', 413): 1261, ('everybodi', 413): 1262, ('slowli', 412): 1263, ('hotel', 412): 1264, ('hire', 411): 1265, ('system', 410): 1266, ('individu', 409): 1267, ('hey', 409): 1268, ('adam', 409): 1269, ('charl', 409): 1270, ('thrown', 409): 1271, ('mediocr', 408): 1272, ('allen', 408): 1273, ('jone', 408): 1274, ('ray', 407): 1275, ('lesson', 407): 1276, ('billi', 407): 1277, ('cameo', 406): 1278, ('photographi', 406): 1279, ('pari', 405): 1280, ('fellow', 405): 1281, ('strike', 404): 1282, ('rise', 403): 1283, ('absurd', 403): 1284, ('brief', 403): 1285, ('independ', 403): 1286, ('neg', 402): 1287, ('phone', 401): 1288, ('impact', 401): 1289, ('ill', 400): 1290, ('born', 400): 1291, ('model', 400): 1292, ('angl', 399): 1293, ('fresh', 399): 1294, ('spoil', 399): 1295, ('abus', 398): 1296, ('likabl', 398): 1297, ('hill', 397): 1298, ('discuss', 397): 1299, ('ahead', 396): 1300, ('sight', 396): 1301, ('sent', 395): 1302, ('photograph', 395): 1303, ('shine', 394): 1304, ('occur', 394): 1305, ('logic', 394): 1306, ('blame', 394): 1307, ('bruce', 393): 1308, ('mainli', 393): 1309, ('skip', 392): 1310, ('forev', 392): 1311, ('commerci', 392): 1312, ('held', 391): 1313, ('surround', 391): 1314, ('segment', 391): 1315, ('teacher', 391): 1316, ('zero', 390): 1317, ('blond', 390): 1318, ('resembl', 389): 1319, ('trap', 389): 1320, ('summer', 389): 1321, ('satir', 389): 1322, ('six', 388): 1323, ('fool', 388): 1324, ('ball', 388): 1325, ('queen', 388): 1326, ('twice', 387): 1327, ('tragedi', 387): 1328, ('sub', 387): 1329, ('pack', 386): 1330, ('reaction', 386): 1331, ('bomb', 385): 1332, ('protagonist', 384): 1333, ('will', 384): 1334, ('hospit', 384): 1335, ('mile', 383): 1336, ('sport', 383): 1337, ('jerri', 382): 1338, ('trust', 382): 1339, ('vote', 382): 1340, ('drink', 382): 1341, ('mom', 382): 1342, ('encount', 381): 1343, ('plane', 380): 1344, ('current', 379): 1345, ('program', 379): 1346, ('al', 379): 1347, ('station', 379): 1348, ('celebr', 378): 1349, ('choos', 378): 1350, ('martin', 378): 1351, ('join', 377): 1352, ('field', 376): 1353, ('round', 376): 1354, ('tragic', 376): 1355, ('favourit', 376): 1356, ('lord', 376): 1357, ('jean', 375): 1358, ('vision', 375): 1359, ('robot', 375): 1360, ('tie', 374): 1361, ('arthur', 374): 1362, ('random', 373): 1363, ('fortun', 373): 1364, ('roger', 373): 1365, ('intern', 372): 1366, ('dread', 372): 1367, ('psycholog', 372): 1368, ('improv', 371): 1369, ('nonsens', 371): 1370, ('epic', 371): 1371, ('prefer', 371): 1372, ('pleasur', 370): 1373, ('legend', 370): 1374, ('formula', 370): 1375, ('highlight', 370): 1376, ('tape', 369): 1377, ('11', 369): 1378, ('dollar', 369): 1379, ('thin', 368): 1380, ('porn', 368): 1381, ('wide', 368): 1382, ('gorgeou', 368): 1383, ('fox', 368): 1384, ('object', 368): 1385, ('ugli', 367): 1386, ('influenc', 367): 1387, ('buddi', 367): 1388, ('ii', 366): 1389, ('nasti', 366): 1390, ('prepar', 366): 1391, ('supposedli', 365): 1392, ('progress', 365): 1393, ('reflect', 365): 1394, ('warm', 365): 1395, ('worthi', 364): 1396, ('youth', 364): 1397, ('length', 362): 1398, ('latter', 362): 1399, ('unusu', 362): 1400, ('crash', 361): 1401, ('seven', 360): 1402, ('childhood', 360): 1403, ('shop', 360): 1404, ('superior', 360): 1405, ('remot', 359): 1406, ('theatr', 359): 1407, ('pilot', 358): 1408, ('paid', 358): 1409, ('disgust', 358): 1410, ('funniest', 358): 1411, ('castl', 357): 1412, ('trick', 357): 1413, ('fell', 357): 1414, ('convers', 357): 1415, ('establish', 356): 1416, ('disast', 356): 1417, ('gangster', 356): 1418, ('rob', 356): 1419, ('heaven', 355): 1420, ('disappear', 355): 1421, ('ident', 355): 1422, ('mine', 355): 1423, ('suicid', 355): 1424, ('tend', 353): 1425, ('forgotten', 353): 1426, ('decis', 353): 1427, ('singer', 353): 1428, ('heroin', 353): 1429, ('mask', 353): 1430, ('brian', 352): 1431, ('partner', 352): 1432, ('desert', 351): 1433, ('alan', 351): 1434, ('recogn', 351): 1435, ('thoroughli', 350): 1436, ('sky', 350): 1437, ('p', 350): 1438, ('stuck', 350): 1439, ('ms', 350): 1440, ('replac', 349): 1441, ('accur', 349): 1442, ('market', 348): 1443, ('uncl', 347): 1444, ('eddi', 347): 1445, ('danni', 347): 1446, ('seemingli', 347): 1447, ('andi', 347): 1448, ('clue', 347): 1449, ('commentari', 347): 1450, ('devil', 346): 1451, ('jackson', 346): 1452, ('therefor', 345): 1453, ('that', 345): 1454, ('refus', 345): 1455, ('pair', 345): 1456, ('fault', 344): 1457, ('fate', 344): 1458, ('river', 344): 1459, ('ed', 344): 1460, ('unit', 344): 1461, ('accid', 344): 1462, ('afraid', 343): 1463, ('tune', 343): 1464, ('clean', 342): 1465, ('stephen', 342): 1466, ('russian', 342): 1467, ('hidden', 342): 1468, ('instanc', 341): 1469, ('quick', 341): 1470, ('readi', 341): 1471, ('irrit', 341): 1472, ('test', 341): 1473, ('convey', 341): 1474, ('captain', 341): 1475, ('european', 340): 1476, ('daniel', 339): 1477, ('frustrat', 339): 1478, ('insan', 339): 1479, ('rescu', 338): 1480, ('1950', 338): 1481, ('wed', 338): 1482, ('chines', 338): 1483, ('food', 338): 1484, ('dirti', 337): 1485, ('lock', 337): 1486, ('angri', 337): 1487, ('joy', 336): 1488, ('steven', 335): 1489, ('price', 335): 1490, ('bland', 334): 1491, ('cage', 334): 1492, ('anymor', 333): 1493, ('rang', 333): 1494, ('wooden', 332): 1495, ('jason', 331): 1496, ('rush', 331): 1497, ('news', 331): 1498, ('n', 331): 1499, ('board', 330): 1500, ('martial', 330): 1501, ('worri', 330): 1502, ('12', 330): 1503, ('twenti', 330): 1504, ('led', 330): 1505, ('cgi', 329): 1506, ('symbol', 329): 1507, ('hunter', 329): 1508, ('transform', 329): 1509, ('invent', 328): 1510, ('sentiment', 328): 1511, ('x', 328): 1512, ('johnni', 328): 1513, ('onto', 328): 1514, ('piti', 328): 1515, ('process', 327): 1516, ('explan', 327): 1517, ('attitud', 327): 1518, ('owner', 326): 1519, ('awar', 326): 1520, ('aim', 325): 1521, ('energi', 324): 1522, ('floor', 324): 1523, ('favor', 324): 1524, ('necessari', 324): 1525, ('target', 324): 1526, ('opposit', 323): 1527, ('religi', 323): 1528, ('insight', 322): 1529, ('blind', 322): 1530, ('chick', 322): 1531, ('window', 322): 1532, ('movement', 321): 1533, ('possess', 320): 1534, ('deepli', 320): 1535, ('mountain', 320): 1536, ('comparison', 320): 1537, ('research', 320): 1538, ('grand', 319): 1539, ('whatsoev', 319): 1540, ('comed', 319): 1541, ('rain', 319): 1542, ('began', 318): 1543, ('mid', 318): 1544, ('bank', 318): 1545, ('shadow', 318): 1546, ('princ', 317): 1547, ('parodi', 317): 1548, ('weapon', 316): 1549, ('friendship', 316): 1550, ('pre', 316): 1551, ('credibl', 316): 1552, ('taylor', 316): 1553, ('flesh', 315): 1554, ('dougla', 315): 1555, ('teach', 315): 1556, ('terror', 314): 1557, ('hint', 314): 1558, ('bloodi', 314): 1559, ('protect', 314): 1560, ('marvel', 312): 1561, ('drunk', 311): 1562, ('accord', 311): 1563, ('anybodi', 311): 1564, ('watchabl', 311): 1565, ('load', 311): 1566, ('leader', 311): 1567, ('superman', 311): 1568, ('freddi', 310): 1569, ('brown', 310): 1570, ('tim', 309): 1571, ('appropri', 309): 1572, ('seat', 309): 1573, ('hitler', 309): 1574, ('jeff', 309): 1575, ('charg', 308): 1576, ('keaton', 308): 1577, ('villag', 308): 1578, ('unknown', 308): 1579, ('knock', 308): 1580, ('empti', 307): 1581, ('england', 307): 1582, ('unnecessari', 307): 1583, ('enemi', 307): 1584, ('media', 307): 1585, ('buck', 306): 1586, ('strength', 306): 1587, ('craft', 306): 1588, ('perspect', 306): 1589, ('dare', 306): 1590, ('utter', 306): 1591, ('wave', 306): 1592, ('kiss', 305): 1593, ('contrast', 305): 1594, ('correct', 305): 1595, ('nativ', 305): 1596, ('ford', 305): 1597, ('speed', 304): 1598, ('magnific', 304): 1599, ('distract', 304): 1600, ('knowledg', 304): 1601, ('soap', 304): 1602, ('anywher', 304): 1603, ('nazi', 304): 1604, ('chill', 304): 1605, ('breath', 303): 1606, ('mission', 303): 1607, ('ice', 303): 1608, ('fred', 303): 1609, ('1980', 303): 1610, ('moon', 302): 1611, ('crowd', 302): 1612, ('joan', 302): 1613, ('jr', 302): 1614, ('frighten', 301): 1615, ('soft', 301): 1616, ('kate', 301): 1617, ('000', 301): 1618, ('dan', 300): 1619, ('hundr', 300): 1620, ('nick', 300): 1621, ('dick', 300): 1622, ('simon', 299): 1623, ('dozen', 299): 1624, ('radio', 299): 1625, ('somebodi', 299): 1626, ('andrew', 298): 1627, ('loss', 298): 1628, ('thousand', 298): 1629, ('academi', 298): 1630, ('shakespear', 298): 1631, ('quot', 297): 1632, ('account', 297): 1633, ('root', 297): 1634, ('vehicl', 297): 1635, ('sum', 297): 1636, ('leg', 296): 1637, ('1970', 296): 1638, ('behavior', 296): 1639, ('convent', 296): 1640, ('gold', 295): 1641, ('regular', 295): 1642, ('pretenti', 294): 1643, ('compet', 294): 1644, ('demand', 294): 1645, ('worker', 294): 1646, ('lynch', 293): 1647, ('interpret', 293): 1648, ('privat', 293): 1649, ('candi', 293): 1650, ('explos', 293): 1651, ('stretch', 293): 1652, ('japan', 293): 1653, ('notabl', 293): 1654, ('debut', 292): 1655, ('constant', 292): 1656, ('tarzan', 292): 1657, ('prais', 291): 1658, ('sea', 291): 1659, ('spi', 291): 1660, ('revolv', 291): 1661, ('translat', 291): 1662, ('franc', 290): 1663, ('sat', 290): 1664, ('technolog', 290): 1665, ('quiet', 290): 1666, ('jesu', 290): 1667, ('failur', 290): 1668, ('threaten', 290): 1669, ('ass', 290): 1670, ('aid', 289): 1671, ('kevin', 289): 1672, ('higher', 289): 1673, ('toy', 289): 1674, ('punch', 289): 1675, ('met', 289): 1676, ('vh', 288): 1677, ('interact', 288): 1678, ('mike', 288): 1679, ('abandon', 288): 1680, ('bet', 287): 1681, ('command', 287): 1682, ('confront', 287): 1683, ('separ', 287): 1684, ('site', 286): 1685, ('recal', 286): 1686, ('gotten', 286): 1687, ('belong', 286): 1688, ('techniqu', 286): 1689, ('stunt', 286): 1690, ('servic', 286): 1691, ('freak', 285): 1692, ('cabl', 285): 1693, ('foot', 285): 1694, ('bug', 285): 1695, ('bright', 284): 1696, ('fu', 284): 1697, ('capabl', 284): 1698, ('jimmi', 284): 1699, ('african', 284): 1700, ('boat', 283): 1701, ('clark', 283): 1702, ('stock', 283): 1703, ('succeed', 283): 1704, ('presid', 283): 1705, ('fat', 283): 1706, ('gene', 282): 1707, ('spanish', 282): 1708, ('structur', 282): 1709, ('paper', 281): 1710, ('kidnap', 281): 1711, ('whilst', 280): 1712, ('belief', 280): 1713, ('factor', 280): 1714, ('witti', 279): 1715, ('attend', 279): 1716, ('tree', 279): 1717, ('complic', 279): 1718, ('realism', 279): 1719, ('bob', 279): 1720, ('educ', 279): 1721, ('realis', 279): 1722, ('finest', 278): 1723, ('santa', 278): 1724, ('assist', 278): 1725, ('broken', 278): 1726, ('observ', 277): 1727, ('v', 277): 1728, ('determin', 277): 1729, ('smoke', 277): 1730, ('depart', 277): 1731, ('up', 277): 1732, ('domin', 276): 1733, ('oper', 276): 1734, ('routin', 276): 1735, ('rubbish', 276): 1736, ('hat', 276): 1737, ('fame', 276): 1738, ('lewi', 276): 1739, ('safe', 275): 1740, ('morgan', 275): 1741, ('hook', 275): 1742, ('advanc', 275): 1743, ('lone', 275): 1744, ('kinda', 275): 1745, ('foreign', 275): 1746, ('rank', 274): 1747, ('numer', 274): 1748, ('werewolf', 273): 1749, ('shallow', 273): 1750, ('civil', 273): 1751, ('rose', 273): 1752, ('vs', 273): 1753, ('washington', 273): 1754, ('shape', 273): 1755, ('gari', 272): 1756, ('morn', 272): 1757, ('kong', 271): 1758, ('ordinari', 271): 1759, ('accomplish', 271): 1760, ('winner', 271): 1761, ('whenev', 270): 1762, ('grab', 270): 1763, ('virtual', 270): 1764, ('peac', 270): 1765, ('offens', 269): 1766, ('luck', 269): 1767, ('h', 269): 1768, ('complain', 268): 1769, ('patient', 268): 1770, ('welcom', 268): 1771, ('contriv', 268): 1772, ('activ', 268): 1773, ('unfunni', 268): 1774, ('bigger', 268): 1775, ('pretend', 267): 1776, ('con', 267): 1777, ('dimension', 267): 1778, ('trek', 267): 1779, ('code', 266): 1780, ('wake', 266): 1781, ('flash', 266): 1782, ('cain', 266): 1783, ('eric', 266): 1784, ('dri', 266): 1785, ('lesbian', 266): 1786, ('manipul', 265): 1787, ('albert', 265): 1788, ('corrupt', 265): 1789, ('statu', 265): 1790, ('guard', 265): 1791, ('dancer', 265): 1792, ('context', 264): 1793, ('signific', 264): 1794, ('awkward', 264): 1795, ('gain', 264): 1796, ('sourc', 264): 1797, ('speech', 264): 1798, ('13', 263): 1799, ('corni', 263): 1800, ('clip', 263): 1801, ('anthoni', 263): 1802, ('psycho', 263): 1803, ('sean', 263): 1804, ('advic', 262): 1805, ('w', 262): 1806, ('reli', 262): 1807, ('priest', 262): 1808, ('religion', 262): 1809, ('theatric', 262): 1810, ('curiou', 262): 1811, ('flow', 261): 1812, ('addict', 261): 1813, ('jennif', 260): 1814, ('specif', 260): 1815, ('howard', 260): 1816, ('secur', 260): 1817, ('asian', 260): 1818, ('skin', 260): 1819, ('organ', 259): 1820, ('golden', 259): 1821, ('promot', 259): 1822, ('comfort', 259): 1823, ('core', 259): 1824, ('luke', 259): 1825, ('cash', 258): 1826, ('cheat', 258): 1827, ('lucki', 258): 1828, ('dislik', 257): 1829, ('lower', 257): 1830, ('associ', 257): 1831, ('regret', 256): 1832, ('contribut', 256): 1833, ('frankli', 256): 1834, ('spell', 256): 1835, ('frequent', 256): 1836, ('devic', 256): 1837, ('degre', 256): 1838, ('wing', 256): 1839, ('balanc', 256): 1840, ('forgiv', 255): 1841, ('print', 255): 1842, ('sake', 255): 1843, ('lake', 255): 1844, ('mass', 254): 1845, ('thoma', 254): 1846, ('betti', 254): 1847, ('crack', 253): 1848, ('unexpect', 253): 1849, ('gordon', 253): 1850, ('categori', 252): 1851, ('depend', 252): 1852, ('grown', 252): 1853, ('amateur', 252): 1854, ('construct', 252): 1855, ('unfold', 252): 1856, ('invit', 252): 1857, ('condit', 251): 1858, ('matur', 251): 1859, ('grew', 251): 1860, ('walter', 251): 1861, ('anna', 251): 1862, ('intellectu', 251): 1863, ('honor', 251): 1864, ('veteran', 250): 1865, ('sudden', 250): 1866, ('spectacular', 250): 1867, ('mirror', 250): 1868, ('sole', 250): 1869, ('grip', 249): 1870, ('experienc', 249): 1871, ('overli', 249): 1872, ('liner', 249): 1873, ('meanwhil', 249): 1874, ('gift', 249): 1875, ('freedom', 249): 1876, ('card', 249): 1877, ('demonstr', 249): 1878, ('robin', 249): 1879, ('circumst', 248): 1880, ('drew', 248): 1881, ('subtitl', 248): 1882, ('unabl', 248): 1883, ('crappi', 248): 1884, ('oliv', 248): 1885, ('brilliantli', 248): 1886, ('sheriff', 248): 1887, ('section', 248): 1888, ('colour', 248): 1889, ('theori', 248): 1890, ('pile', 247): 1891, ('parker', 247): 1892, ('path', 247): 1893, ('altern', 247): 1894, ('matt', 247): 1895, ('sheer', 247): 1896, ('laughter', 247): 1897, ('cook', 247): 1898, ('accident', 246): 1899, ('wander', 246): 1900, ('lawyer', 246): 1901, ('defin', 246): 1902, ('hall', 246): 1903, ('relief', 246): 1904, ('treatment', 246): 1905, ('sinatra', 246): 1906, ('dragon', 245): 1907, ('captiv', 245): 1908, ('hank', 245): 1909, ('gratuit', 244): 1910, ('moor', 244): 1911, ('halloween', 244): 1912, ('unintent', 243): 1913, ('broadway', 243): 1914, ('barbara', 243): 1915, ('kung', 243): 1916, ('cowboy', 243): 1917, ('k', 243): 1918, ('wound', 243): 1919, ('jacki', 243): 1920, ('wayn', 243): 1921, ('statement', 242): 1922, ('spoof', 242): 1923, ('surreal', 242): 1924, ('canadian', 242): 1925, ('winter', 242): 1926, ('gonna', 241): 1927, ('cheer', 241): 1928, ('fish', 241): 1929, ('fare', 241): 1930, ('compos', 241): 1931, ('treasur', 241): 1932, ('woodi', 240): 1933, ('sensit', 240): 1934, ('victor', 240): 1935, ('emerg', 240): 1936, ('unrealist', 240): 1937, ('neighbor', 239): 1938, ('sympathet', 239): 1939, ('ran', 239): 1940, ('driven', 239): 1941, ('glass', 238): 1942, ('authent', 238): 1943, ('overlook', 238): 1944, ('topic', 238): 1945, ('expos', 238): 1946, ('menac', 238): 1947, ('ancient', 237): 1948, ('michel', 237): 1949, ('chief', 237): 1950, ('gross', 237): 1951, ('handsom', 237): 1952, ('stranger', 236): 1953, ('pleasant', 236): 1954, ('comedian', 236): 1955, ('cinderella', 236): 1956, ('nevertheless', 236): 1957, ('built', 236): 1958, ('network', 236): 1959, ('feet', 236): 1960, ('contemporari', 236): 1961, ('russel', 236): 1962, ('blockbust', 235): 1963, ('gori', 235): 1964, ('endless', 235): 1965, ('miser', 235): 1966, ('earn', 235): 1967, ('letter', 235): 1968, ('underr', 235): 1969, ('consider', 235): 1970, ('brook', 234): 1971, ('solv', 234): 1972, ('switch', 234): 1973, ('bullet', 233): 1974, ('virgin', 233): 1975, ('edward', 233): 1976, ('joseph', 233): 1977, ('convict', 233): 1978, ('victoria', 233): 1979, ('scenario', 232): 1980, ('cynic', 232): 1981, ('scale', 232): 1982, ('0', 232): 1983, ('alex', 232): 1984, ('chosen', 232): 1985, ('com', 231): 1986, ('outrag', 231): 1987, ('gut', 231): 1988, ('sword', 231): 1989, ('curs', 231): 1990, ('driver', 230): 1991, ('screenwrit', 230): 1992, ('proper', 230): 1993, ('monkey', 230): 1994, ('substanc', 230): 1995, ('wrap', 230): 1996, ('juli', 230): 1997, ('uk', 230): 1998, ('indic', 229): 1999, ('court', 229): 2000, ('par', 229): 2001, ('bird', 229): 2002, ('remov', 229): 2003, ('naiv', 228): 2004, ('inevit', 228): 2005, ('nanci', 228): 2006, ('grave', 228): 2007, ('consequ', 228): 2008, ('advertis', 228): 2009, ('roy', 228): 2010, ('loser', 228): 2011, ('rental', 228): 2012, ('slap', 227): 2013, ('germani', 227): 2014, ('invis', 227): 2015, ('brave', 227): 2016, ('le', 227): 2017, ('fatal', 227): 2018, ('bridg', 227): 2019, ('loui', 226): 2020, ('provok', 226): 2021, ('ador', 226): 2022, ('footbal', 226): 2023, ('anger', 226): 2024, ('alcohol', 225): 2025, ('chan', 225): 2026, ('anderson', 225): 2027, ('stumbl', 224): 2028, ('willi', 224): 2029, ('professor', 224): 2030, ('ryan', 224): 2031, ('australian', 223): 2032, ('bat', 223): 2033, ('1930', 223): 2034, ('assassin', 223): 2035, ('sharp', 223): 2036, ('patrick', 223): 2037, ('cell', 222): 2038, ('ape', 222): 2039, ('liber', 222): 2040, ('refresh', 222): 2041, ('saturday', 222): 2042, ('strongli', 222): 2043, ('heck', 222): 2044, ('trilog', 222): 2045, ('amateurish', 222): 2046, ('deni', 222): 2047, ('eight', 222): 2048, ('lousi', 222): 2049, ('sin', 221): 2050, ('vagu', 220): 2051, ('justifi', 220): 2052, ('resid', 220): 2053, ('san', 220): 2054, ('terrifi', 219): 2055, ('mini', 219): 2056, ('reput', 219): 2057, ('creator', 219): 2058, ('indi', 219): 2059, ('sympathi', 219): 2060, ('defeat', 219): 2061, ('expert', 218): 2062, ('tabl', 218): 2063, ('endur', 218): 2064, ('tediou', 218): 2065, ('prevent', 218): 2066, ('task', 218): 2067, ('imit', 217): 2068, ('trial', 217): 2069, ('employ', 217): 2070, ('rival', 217): 2071, ('offend', 217): 2072, ('basebal', 217): 2073, ('che', 217): 2074, ('fairi', 216): 2075, ('pitch', 216): 2076, ('weekend', 216): 2077, ('complaint', 216): 2078, ('max', 216): 2079, ('beach', 216): 2080, ('dig', 216): 2081, ('europ', 216): 2082, ('murphi', 215): 2083, ('risk', 215): 2084, ('format', 215): 2085, ('purchas', 215): 2086, ('nois', 214): 2087, ('titan', 214): 2088, ('hype', 214): 2089, ('powel', 214): 2090, ('reminisc', 214): 2091, ('harsh', 214): 2092, ('glimps', 214): 2093, ('tini', 214): 2094, ('bite', 214): 2095, ('14', 213): 2096, ('fals', 213): 2097, ('till', 213): 2098, ('prime', 213): 2099, ('asleep', 213): 2100, ('strip', 213): 2101, ('north', 213): 2102, ('revel', 212): 2103, ('texa', 212): 2104, ('descript', 212): 2105, ('africa', 212): 2106, ('destruct', 212): 2107, ('spin', 211): 2108, ('excess', 211): 2109, ('inner', 211): 2110, ('semi', 211): 2111, ('arrest', 211): 2112, ('uninterest', 211): 2113, ('sitcom', 211): 2114, ('surfac', 211): 2115, ('twin', 210): 2116, ('makeup', 210): 2117, ('hitchcock', 210): 2118, ('maintain', 210): 2119, ('argu', 210): 2120, ('controversi', 210): 2121, ('dinosaur', 210): 2122, ('massiv', 210): 2123, ('stare', 209): 2124, ('ludicr', 209): 2125, ('ideal', 209): 2126, ('reject', 209): 2127, ('melodrama', 209): 2128, ('expens', 209): 2129, ('insist', 209): 2130, ('kim', 209): 2131, ('supernatur', 208): 2132, ('erot', 208): 2133, ('host', 208): 2134, ('subplot', 208): 2135, ('ala', 208): 2136, ('nail', 208): 2137, ('press', 208): 2138, ('atroci', 208): 2139, ('columbo', 208): 2140, ('forest', 208): 2141, ('ga', 208): 2142, ('presum', 207): 2143, ('identifi', 207): 2144, ('dude', 207): 2145, ('cant', 207): 2146, ('notch', 207): 2147, ('forgett', 206): 2148, ('closer', 206): 2149, ('crude', 206): 2150, ('plagu', 206): 2151, ('method', 206): 2152, ('guest', 206): 2153, ('character', 206): 2154, ('landscap', 205): 2155, ('princess', 205): 2156, ('beast', 205): 2157, ('ear', 205): 2158, ('foster', 205): 2159, ('lion', 205): 2160, ('border', 205): 2161, ('accus', 204): 2162, ('damag', 204): 2163, ('storytel', 204): 2164, ('jungl', 204): 2165, ('pacino', 204): 2166, ('urban', 204): 2167, ('previous', 204): 2168, ('birth', 204): 2169, ('bound', 204): 2170, ('aunt', 204): 2171, ('guid', 203): 2172, ('propaganda', 203): 2173, ('nude', 203): 2174, ('thirti', 203): 2175, ('chose', 203): 2176, ('emma', 203): 2177, ('jess', 203): 2178, ('doll', 203): 2179, ('pet', 202): 2180, ('mate', 202): 2181, ('whoever', 202): 2182, ('mainstream', 202): 2183, ('warrior', 202): 2184, ('25', 202): 2185, ('upset', 201): 2186, ('friday', 201): 2187, ('poster', 201): 2188, ('merit', 201): 2189, ('size', 201): 2190, ('latest', 201): 2191, ('cooper', 201): 2192, ('gritti', 201): 2193, ('exact', 201): 2194, ('deadli', 201): 2195, ('wilson', 200): 2196, ('blend', 200): 2197, ('buff', 200): 2198, ('contest', 200): 2199, ('settl', 200): 2200, ('citizen', 200): 2201, ('1990', 200): 2202, ('popul', 200): 2203, ('corps', 200): 2204, ('sun', 200): 2205, ('warner', 200): 2206, ('rough', 200): 2207, ('ton', 200): 2208, ('contact', 200): 2209, ('bu', 199): 2210, ('overcom', 199): 2211, ('pitt', 199): 2212, ('rat', 199): 2213, ('select', 199): 2214, ('mgm', 199): 2215, ('metal', 199): 2216, ('alic', 199): 2217, ('environ', 199): 2218, ('widow', 199): 2219, ('guilti', 198): 2220, ('lift', 198): 2221, ('ted', 198): 2222, ('revolut', 198): 2223, ('particip', 198): 2224, ('link', 198): 2225, ('moron', 197): 2226, ('corner', 197): 2227, ('1960', 197): 2228, ('accompani', 197): 2229, ('johnson', 197): 2230, ('exagger', 197): 2231, ('corpor', 197): 2232, ('prostitut', 197): 2233, ('matrix', 197): 2234, ('afternoon', 197): 2235, ('multipl', 196): 2236, ('holm', 196): 2237, ('doom', 196): 2238, ('clair', 196): 2239, ('hood', 196): 2240, ('sincer', 196): 2241, ('leagu', 196): 2242, ('friendli', 196): 2243, ('instal', 196): 2244, ('junk', 195): 2245, ('string', 195): 2246, ('aka', 195): 2247, ('irish', 195): 2248, ('advis', 195): 2249, ('examin', 195): 2250, ('blah', 195): 2251, ('sunday', 195): 2252, ('lugosi', 195): 2253, ('hip', 195): 2254, ('defend', 195): 2255, ('grim', 195): 2256, ('campi', 195): 2257, ('rachel', 194): 2258, ('varieti', 194): 2259, ('icon', 194): 2260, ('shut', 194): 2261, ('tight', 194): 2262, ('pro', 194): 2263, ('shake', 194): 2264, ('confid', 194): 2265, ('attach', 193): 2266, ('medic', 193): 2267, ('denni', 193): 2268, ('mexican', 193): 2269, ('goal', 193): 2270, ('directli', 193): 2271, ('jaw', 193): 2272, ('sullivan', 193): 2273, ('duke', 192): 2274, ('truck', 192): 2275, ('courag', 192): 2276, ('breast', 192): 2277, ('sarah', 192): 2278, ('dean', 192): 2279, ('sentenc', 192): 2280, ('vietnam', 192): 2281, ('bourn', 192): 2282, ('terrorist', 192): 2283, ('prior', 192): 2284, ('legendari', 192): 2285, ('nose', 191): 2286, ('yell', 191): 2287, ('behav', 191): 2288, ('entri', 191): 2289, ('split', 191): 2290, ('donald', 191): 2291, ('un', 191): 2292, ('proceed', 191): 2293, ('hong', 191): 2294, ('stolen', 190): 2295, ('gather', 190): 2296, ('swim', 190): 2297, ('crush', 190): 2298, ('buri', 190): 2299, ('confess', 190): 2300, ('concentr', 190): 2301, ('forth', 190): 2302, ('everywher', 190): 2303, ('borrow', 190): 2304, ('lifetim', 190): 2305, ('jerk', 190): 2306, ('unconvinc', 190): 2307, ('california', 189): 2308, ('turkey', 189): 2309, ('lip', 189): 2310, ('spite', 189): 2311, ('julia', 189): 2312, ('pan', 189): 2313, ('deliveri', 189): 2314, ('offici', 188): 2315, ('freeman', 188): 2316, ('quest', 188): 2317, ('reward', 188): 2318, ('hoffman', 188): 2319, ('downright', 188): 2320, ('flight', 188): 2321, ('proud', 188): 2322, ('china', 188): 2323, ('fade', 187): 2324, ('inept', 187): 2325, ('fabul', 187): 2326, ('jon', 187): 2327, ('sir', 187): 2328, ('notori', 187): 2329, ('betray', 187): 2330, ('sink', 187): 2331, ('jail', 187): 2332, ('encourag', 187): 2333, ('lazi', 187): 2334, ('worthwhil', 187): 2335, ('shower', 186): 2336, ('cousin', 186): 2337, ('storm', 186): 2338, ('lisa', 186): 2339, ('teeth', 186): 2340, ('relev', 186): 2341, ('susan', 186): 2342, ('imageri', 186): 2343, ('survivor', 186): 2344, ('bag', 186): 2345, ('bell', 186): 2346, ('retard', 186): 2347, ('branagh', 186): 2348, ('alright', 185): 2349, ('shark', 185): 2350, ('stab', 185): 2351, ('summari', 185): 2352, ('facial', 185): 2353, ('trade', 185): 2354, ('hugh', 185): 2355, ('finger', 185): 2356, ('toler', 185): 2357, ('mexico', 185): 2358, ('tremend', 185): 2359, ('bride', 185): 2360, ('quirki', 185): 2361, ('ha', 184): 2362, ('von', 184): 2363, ('blown', 184): 2364, ('pose', 184): 2365, ('bitter', 184): 2366, ('hyster', 184): 2367, ('address', 183): 2368, ('cruel', 183): 2369, ('afterward', 183): 2370, ('larri', 183): 2371, ('bone', 183): 2372, ('scheme', 183): 2373, ('ned', 183): 2374, ('ron', 183): 2375, ('christ', 183): 2376, ('beg', 182): 2377, ('feed', 182): 2378, ('tour', 182): 2379, ('screw', 182): 2380, ('snake', 182): 2381, ('pursu', 182): 2382, ('thumb', 182): 2383, ('distinct', 182): 2384, ('traci', 182): 2385, ('swear', 182): 2386, ('mechan', 181): 2387, ('chair', 181): 2388, ('stomach', 181): 2389, ('raw', 181): 2390, ('occas', 181): 2391, ('obscur', 181): 2392, ('photo', 181): 2393, ('render', 180): 2394, ('necessarili', 180): 2395, ('argument', 180): 2396, ('resist', 180): 2397, ('holiday', 180): 2398, ('cabin', 180): 2399, ('hardi', 180): 2400, ('gruesom', 180): 2401, ('chain', 180): 2402, ('heavili', 180): 2403, ('sidney', 180): 2404, ('southern', 180): 2405, ('indulg', 179): 2406, ('understood', 179): 2407, ('philip', 179): 2408, ('racist', 179): 2409, ('india', 179): 2410, ('satan', 179): 2411, ('lay', 178): 2412, ('stalk', 178): 2413, ('outfit', 178): 2414, ('belov', 178): 2415, ('tongu', 178): 2416, ('forgot', 178): 2417, ('obnoxi', 178): 2418, ('fourth', 178): 2419, ('midnight', 178): 2420, ('pregnant', 178): 2421, ('integr', 178): 2422, ('slapstick', 177): 2423, ('deeper', 177): 2424, ('ticket', 177): 2425, ('carol', 177): 2426, ('17', 177): 2427, ('inhabit', 177): 2428, ('garden', 177): 2429, ('magazin', 177): 2430, ('restor', 177): 2431, ('brad', 176): 2432, ('incid', 176): 2433, ('lincoln', 176): 2434, ('shoe', 176): 2435, ('devot', 176): 2436, ('disbelief', 175): 2437, ('elizabeth', 175): 2438, ('anticip', 175): 2439, ('maria', 175): 2440, ('guarante', 175): 2441, ('underground', 175): 2442, ('sandler', 175): 2443, ('divorc', 175): 2444, ('benefit', 175): 2445, ('lili', 175): 2446, ('slave', 174): 2447, ('greater', 174): 2448, ('cring', 174): 2449, ('amazingli', 174): 2450, ('princip', 174): 2451, ('bbc', 174): 2452, ('explod', 174): 2453, ('capit', 174): 2454, ('mildli', 174): 2455, ('creation', 174): 2456, ('halfway', 173): 2457, ('extraordinari', 173): 2458, ('funnier', 173): 2459, ('lesli', 173): 2460, ('introduct', 173): 2461, ('wreck', 172): 2462, ('text', 172): 2463, ('extent', 172): 2464, ('advantag', 172): 2465, ('overwhelm', 172): 2466, ('punish', 172): 2467, ('enhanc', 172): 2468, ('transfer', 172): 2469, ('tap', 172): 2470, ('plant', 171): 2471, ('lo', 171): 2472, ('jessica', 171): 2473, ('preview', 171): 2474, ('deliber', 171): 2475, ('dynam', 171): 2476, ('lane', 171): 2477, ('error', 171): 2478, ('horrif', 171): 2479, ('east', 171): 2480, ('vacat', 170): 2481, ('ensu', 170): 2482, ('sophist', 170): 2483, ('homosexu', 170): 2484, ('basi', 170): 2485, ('appli', 170): 2486, ('2000', 170): 2487, ('miscast', 170): 2488, ('vincent', 170): 2489, ('miller', 170): 2490, ('via', 169): 2491, ('elev', 169): 2492, ('extend', 169): 2493, ('uncomfort', 169): 2494, ('steel', 169): 2495, ('measur', 169): 2496, ('reed', 169): 2497, ('spoken', 169): 2498, ('sleazi', 169): 2499, ('mansion', 169): 2500, ('bollywood', 169): 2501, ('hippi', 168): 2502, ('goofi', 168): 2503, ('stanley', 168): 2504, ('mous', 168): 2505, ('overact', 168): 2506, ('blair', 168): 2507, ('fix', 168): 2508, ('daili', 168): 2509, ('conceiv', 168): 2510, ('alter', 168): 2511, ('beer', 168): 2512, ('savag', 168): 2513, ('assign', 168): 2514, ('melt', 168): 2515, ('breathtak', 168): 2516, ('cathol', 168): 2517, ('dentist', 168): 2518, ('everyday', 167): 2519, ('nowaday', 167): 2520, ('properli', 167): 2521, ('succe', 167): 2522, ('subsequ', 167): 2523, ('oppos', 167): 2524, ('inspector', 167): 2525, ('sacrific', 167): 2526, ('burt', 167): 2527, ('carpent', 167): 2528, ('circl', 166): 2529, ('neck', 166): 2530, ('block', 166): 2531, ('laura', 166): 2532, ('massacr', 166): 2533, ('lesser', 165): 2534, ('fay', 165): 2535, ('grey', 165): 2536, ('portrait', 165): 2537, ('mob', 165): 2538, ('fallen', 165): 2539, ('concert', 165): 2540, ('seagal', 165): 2541, ('access', 165): 2542, ('pool', 165): 2543, ('christi', 165): 2544, ('competit', 164): 2545, ('usa', 164): 2546, ('react', 164): 2547, ('sinist', 164): 2548, ('chees', 164): 2549, ('jewish', 164): 2550, ('relax', 164): 2551, ('isol', 164): 2552, ('jake', 164): 2553, ('suitabl', 163): 2554, ('appal', 163): 2555, ('nonetheless', 163): 2556, ('stink', 163): 2557, ('chop', 163): 2558, ('creep', 163): 2559, ('spiritu', 163): 2560, ('immens', 163): 2561, ('ironi', 163): 2562, ('2006', 163): 2563, ('lyric', 163): 2564, ('nine', 163): 2565, ('user', 162): 2566, ('showcas', 162): 2567, ('adopt', 162): 2568, ('spring', 162): 2569, ('sold', 162): 2570, ('retir', 162): 2571, ('rage', 162): 2572, ('needless', 162): 2573, ('navi', 162): 2574, ('nut', 162): 2575, ('luci', 162): 2576, ('shirt', 162): 2577, ('reduc', 162): 2578, ('franchis', 162): 2579, ('digit', 161): 2580, ('per', 161): 2581, ('uninspir', 161): 2582, ('bulli', 161): 2583, ('jay', 161): 2584, ('asham', 161): 2585, ('nurs', 161): 2586, ('zone', 161): 2587, ('bath', 161): 2588, ('stanwyck', 161): 2589, ('laid', 160): 2590, ('1940', 160): 2591, ('illustr', 160): 2592, ('oddli', 160): 2593, ('2001', 160): 2594, ('sutherland', 160): 2595, ('upper', 160): 2596, ('amongst', 160): 2597, ('broadcast', 160): 2598, ('baker', 159): 2599, ('stylish', 159): 2600, ('throat', 159): 2601, ('aspir', 159): 2602, ('disguis', 159): 2603, ('fulfil', 159): 2604, ('brando', 159): 2605, ('wanna', 158): 2606, ('impli', 158): 2607, ('nobl', 158): 2608, ('endear', 158): 2609, ('neighborhood', 158): 2610, ('thief', 158): 2611, ('18', 158): 2612, ('em', 158): 2613, ('wwii', 158): 2614, ('pound', 158): 2615, ('pride', 158): 2616, ('distribut', 157): 2617, ('prop', 157): 2618, ('tens', 157): 2619, ('cinematograph', 157): 2620, ('bett', 157): 2621, ('albeit', 157): 2622, ('dinner', 157): 2623, ('coher', 157): 2624, ('dawn', 157): 2625, ('16', 157): 2626, ('shoulder', 157): 2627, ('shift', 157): 2628, ('bo', 157): 2629, ('diseas', 157): 2630, ('rochest', 157): 2631, ('contract', 156): 2632, ('wash', 156): 2633, ('rebel', 156): 2634, ('function', 156): 2635, ('shout', 156): 2636, ('silenc', 156): 2637, ('forti', 156): 2638, ('surf', 156): 2639, ('knife', 156): 2640, ('poignant', 156): 2641, ('snow', 156): 2642, ('matthau', 156): 2643, ('proof', 155): 2644, ('height', 155): 2645, ('internet', 155): 2646, ('reunion', 155): 2647, ('heat', 155): 2648, ('cannib', 155): 2649, ('cancel', 155): 2650, ('chuck', 155): 2651, ('mindless', 155): 2652, ('duti', 155): 2653, ('horrend', 155): 2654, ('henc', 155): 2655, ('silver', 155): 2656, ('eeri', 155): 2657, ('widmark', 155): 2658, ('instinct', 155): 2659, ('derek', 155): 2660, ('elvira', 155): 2661, ('premier', 154): 2662, ('innov', 154): 2663, ('spielberg', 154): 2664, ('alik', 154): 2665, ('absorb', 154): 2666, ('greatli', 154): 2667, ('etern', 154): 2668, ('neat', 154): 2669, ('elvi', 154): 2670, ('pie', 154): 2671, ('glori', 154): 2672, ('incoher', 154): 2673, ('musician', 154): 2674, ('repetit', 154): 2675, ('mill', 154): 2676, ('torn', 154): 2677, ('itali', 153): 2678, ('wealthi', 153): 2679, ('burton', 153): 2680, ('crisi', 153): 2681, ('announc', 153): 2682, ('infam', 153): 2683, ('redempt', 153): 2684, ('racism', 153): 2685, ('blank', 153): 2686, ('fbi', 153): 2687, ('homag', 153): 2688, ('diamond', 153): 2689, ('trite', 153): 2690, ('nelson', 153): 2691, ('bang', 153): 2692, ('lovabl', 153): 2693, ('precis', 153): 2694, ('britain', 153): 2695, ('horrifi', 153): 2696, ('wilder', 152): 2697, ('happili', 152): 2698, ('helen', 152): 2699, ('parallel', 152): 2700, ('hammer', 152): 2701, ('chaplin', 152): 2702, ('ensembl', 152): 2703, ('resolut', 152): 2704, ('dedic', 152): 2705, ('streisand', 152): 2706, ('flop', 152): 2707, ('pat', 152): 2708, ('factori', 151): 2709, ('mar', 151): 2710, ('plastic', 151): 2711, ('broke', 151): 2712, ('cube', 151): 2713, ('oil', 151): 2714, ('triumph', 151): 2715, ('disagre', 151): 2716, ('conclud', 151): 2717, ('st', 151): 2718, ('carter', 151): 2719, ('row', 150): 2720, ('fighter', 150): 2721, ('climb', 150): 2722, ('vega', 150): 2723, ('chuckl', 150): 2724, ('march', 150): 2725, ('rocket', 150): 2726, ('own', 150): 2727, ('bush', 150): 2728, ('weight', 150): 2729, ('dane', 149): 2730, ('lust', 149): 2731, ('spare', 149): 2732, ('boot', 149): 2733, ('dump', 149): 2734, ('mst3k', 149): 2735, ('sensibl', 149): 2736, ('unforgett', 149): 2737, ('wherea', 149): 2738, ('enorm', 149): 2739, ('meaning', 149): 2740, ('kurt', 149): 2741, ('thug', 149): 2742, ('luca', 149): 2743, ('brand', 148): 2744, ('adequ', 148): 2745, ('arnold', 148): 2746, ('bobbi', 148): 2747, ('stress', 148): 2748, ('threat', 148): 2749, ('rap', 148): 2750, ('butt', 148): 2751, ('engin', 148): 2752, ('dear', 148): 2753, ('fifti', 148): 2754, ('karloff', 148): 2755, ('difficulti', 148): 2756, ('caricatur', 148): 2757, ('barri', 147): 2758, ('secretari', 147): 2759, ('journalist', 147): 2760, ('hamlet', 147): 2761, ('fest', 147): 2762, ('ralph', 147): 2763, ('arrog', 147): 2764, ('flynn', 147): 2765, ('ego', 147): 2766, ('elabor', 147): 2767, ('swing', 147): 2768, ('polish', 147): 2769, ('homeless', 147): 2770, ('fanci', 146): 2771, ('float', 146): 2772, ('arrang', 146): 2773, ('conspiraci', 146): 2774, ('tool', 146): 2775, ('simpson', 146): 2776, ('grate', 146): 2777, ('spike', 146): 2778, ('puppet', 146): 2779, ('induc', 146): 2780, ('unbear', 146): 2781, ('resort', 146): 2782, ('choreograph', 145): 2783, ('exercis', 145): 2784, ('pig', 145): 2785, ('phillip', 145): 2786, ('guilt', 145): 2787, ('basement', 145): 2788, ('boll', 145): 2789, ('cruis', 145): 2790, ('tribut', 145): 2791, ('muppet', 145): 2792, ('item', 144): 2793, ('fianc', 144): 2794, ('puzzl', 144): 2795, ('slip', 144): 2796, ('layer', 144): 2797, ('ham', 144): 2798, ('24', 144): 2799, ('editor', 144): 2800, ('ward', 144): 2801, ('document', 144): 2802, ('scarecrow', 144): 2803, ('toilet', 144): 2804, ('tower', 144): 2805, ('korean', 144): 2806, ('stan', 144): 2807, ('babe', 144): 2808, ('file', 144): 2809, ('medium', 144): 2810, ('superfici', 143): 2811, ('assur', 143): 2812, ('portion', 143): 2813, ('glover', 143): 2814, ('philosoph', 143): 2815, ('transit', 143): 2816, ('persona', 143): 2817, ('librari', 143): 2818, ('orient', 143): 2819, ('spark', 143): 2820, ('catherin', 143): 2821, ('doc', 143): 2822, ('denzel', 143): 2823, ('larger', 143): 2824, ('territori', 143): 2825, ('slaughter', 143): 2826, ('minim', 143): 2827, ('inexplic', 143): 2828, ('walken', 142): 2829, ('wolf', 142): 2830, ('pg', 142): 2831, ('boredom', 142): 2832, ('owe', 142): 2833, ('ban', 142): 2834, ('dorothi', 142): 2835, ('sneak', 142): 2836, ('jet', 142): 2837, ('shi', 142): 2838, ('curti', 142): 2839, ('jeremi', 142): 2840, ('financi', 142): 2841, ('whale', 141): 2842, ('metaphor', 141): 2843, ('hudson', 141): 2844, ('profound', 141): 2845, ('multi', 141): 2846, ('eleph', 141): 2847, ('ambigu', 141): 2848, ('backdrop', 141): 2849, ('cusack', 141): 2850, ('viru', 140): 2851, ('2005', 140): 2852, ('notion', 140): 2853, ('rave', 140): 2854, ('ultra', 140): 2855, ('hack', 140): 2856, ('elsewher', 140): 2857, ('gadget', 140): 2858, ('stiff', 140): 2859, ('implaus', 140): 2860, ('birthday', 140): 2861, ('union', 140): 2862, ('hawk', 139): 2863, ('1st', 139): 2864, ('lloyd', 139): 2865, ('slight', 139): 2866, ('pad', 139): 2867, ('deriv', 139): 2868, ('distanc', 139): 2869, ('urg', 139): 2870, ('squar', 139): 2871, ('newspap', 139): 2872, ('canada', 139): 2873, ('poison', 139): 2874, ('eastwood', 139): 2875, ('superhero', 139): 2876, ('bibl', 139): 2877, ('disc', 139): 2878, ('reader', 139): 2879, ('eva', 139): 2880, ('afford', 139): 2881, ('restaur', 138): 2882, ('button', 138): 2883, ('health', 138): 2884, ('sadist', 138): 2885, ('montag', 138): 2886, ('skit', 138): 2887, ('cure', 138): 2888, ('essenc', 138): 2889, ('huh', 138): 2890, ('charisma', 138): 2891, ('drown', 138): 2892, ('heston', 138): 2893, ('spread', 138): 2894, ('godfath', 137): 2895, ('fetch', 137): 2896, ('estat', 137): 2897, ('maniac', 137): 2898, ('invest', 137): 2899, ('scoobi', 137): 2900, ('peak', 137): 2901, ('dealt', 137): 2902, ('companion', 137): 2903, ('muslim', 137): 2904, ('gradual', 137): 2905, ('lab', 137): 2906, ('servant', 136): 2907, ('countless', 136): 2908, ('gothic', 136): 2909, ('ritter', 136): 2910, ('cup', 136): 2911, ('tea', 136): 2912, ('subtleti', 136): 2913, ('alli', 136): 2914, ('kane', 136): 2915, ('miik', 136): 2916, ('electr', 135): 2917, ('charismat', 135): 2918, ('briefli', 135): 2919, ('heroic', 135): 2920, ('elect', 135): 2921, ('iii', 135): 2922, ('salli', 135): 2923, ('tender', 134): 2924, ('reel', 134): 2925, ('grandmoth', 134): 2926, ('bud', 134): 2927, ('neil', 134): 2928, ('wannab', 134): 2929, ('cole', 134): 2930, ('admittedli', 134): 2931, ('resourc', 134): 2932, ('ingredi', 134): 2933, ('nuanc', 134): 2934, ('toss', 134): 2935, ('punk', 133): 2936, ('carrey', 133): 2937, ('poverti', 133): 2938, ('reev', 133): 2939, ('stood', 133): 2940, ('shall', 133): 2941, ('stronger', 133): 2942, ('mild', 133): 2943, ('pit', 133): 2944, ('mafia', 133): 2945, ('pauli', 133): 2946, ('gate', 133): 2947, ('dawson', 133): 2948, ('kubrick', 133): 2949, ('label', 133): 2950, ('assault', 132): 2951, ('smooth', 132): 2952, ('easier', 132): 2953, ('outcom', 132): 2954, ('burst', 132): 2955, ('fond', 132): 2956, ('cardboard', 132): 2957, ('smash', 132): 2958, ('useless', 132): 2959, ('tag', 132): 2960, ('cox', 132): 2961, ('updat', 132): 2962, ('ian', 132): 2963, ('bakshi', 132): 2964, ('astair', 132): 2965, ('terri', 132): 2966, ('melodramat', 131): 2967, ('resolv', 131): 2968, ('fist', 131): 2969, ('divers', 131): 2970, ('qualifi', 131): 2971, ('exchang', 131): 2972, ('samurai', 131): 2973, ('2002', 131): 2974, ('increasingli', 131): 2975, ('rex', 131): 2976, ('sketch', 131): 2977, ('vulner', 131): 2978, ('vari', 131): 2979, ('coincid', 131): 2980, ('be', 130): 2981, ('templ', 130): 2982, ('suspend', 130): 2983, ('luckili', 130): 2984, ('conveni', 130): 2985, ('blast', 130): 2986, ('tame', 130): 2987, ('reynold', 130): 2988, ('scratch', 130): 2989, ('brillianc', 130): 2990, ('insert', 130): 2991, ('seventi', 129): 2992, ('gotta', 129): 2993, ('meat', 129): 2994, ('pin', 129): 2995, ('ambiti', 129): 2996, ('strictli', 129): 2997, ('jami', 129): 2998, ('soprano', 129): 2999, ('farm', 129): 3000, ('hamilton', 129): 3001, ('walker', 129): 3002, ('fisher', 129): 3003, ('coach', 129): 3004, ('nuclear', 129): 3005, ('matthew', 129): 3006, ('spooki', 128): 3007, ('instantli', 128): 3008, ('timeless', 128): 3009, ('worthless', 128): 3010, ('joey', 128): 3011, ('clock', 128): 3012, ('recreat', 128): 3013, ('convolut', 128): 3014, ('eccentr', 128): 3015, ('kudo', 128): 3016, ('butcher', 128): 3017, ('monk', 128): 3018, ('revers', 128): 3019, ('grasp', 128): 3020, ('struck', 128): 3021, ('discoveri', 128): 3022, ('cave', 128): 3023, ('empir', 128): 3024, ('closet', 128): 3025, ('ninja', 128): 3026, ('brosnan', 128): 3027, ('evok', 127): 3028, ('selfish', 127): 3029, ('bleak', 127): 3030, ('declar', 127): 3031, ('cliff', 127): 3032, ('miracl', 127): 3033, ('inconsist', 127): 3034, ('importantli', 127): 3035, ('communist', 127): 3036, ('fifteen', 127): 3037, ('sloppi', 127): 3038, ('partli', 127): 3039, ('seller', 127): 3040, ('eighti', 127): 3041, ('wipe', 127): 3042, ('norman', 127): 3043, ('clown', 127): 3044, ('mitchel', 127): 3045, ('gray', 127): 3046, ('sidekick', 127): 3047, ('pal', 127): 3048, ('australia', 126): 3049, ('cheek', 126): 3050, ('websit', 126): 3051, ('superbl', 126): 3052, ('flawless', 126): 3053, ('stoog', 126): 3054, ('piano', 126): 3055, ('psychiatrist', 126): 3056, ('debat', 126): 3057, ('enthusiast', 126): 3058, ('aforement', 126): 3059, ('chew', 126): 3060, ('destin', 126): 3061, ('ho', 126): 3062, ('lifestyl', 126): 3063, ('seed', 126): 3064, ('45', 126): 3065, ('farc', 126): 3066, ('dire', 125): 3067, ('directori', 125): 3068, ('akshay', 125): 3069, ('kitchen', 125): 3070, ('emili', 125): 3071, ('wick', 125): 3072, ('anni', 125): 3073, ('bash', 125): 3074, ('abc', 125): 3075, ('splatter', 125): 3076, ('drivel', 125): 3077, ('pressur', 125): 3078, ('regardless', 125): 3079, ('soviet', 125): 3080, ('dash', 125): 3081, ('wrestl', 125): 3082, ('slice', 125): 3083, ('incompet', 125): 3084, ('prize', 124): 3085, ('glow', 124): 3086, ('recov', 124): 3087, ('flower', 124): 3088, ('increas', 124): 3089, ('chapter', 124): 3090, ('suppli', 124): 3091, ('cia', 124): 3092, ('pleasantli', 124): 3093, ('doo', 124): 3094, ('duo', 124): 3095, ('curios', 124): 3096, ('lou', 124): 3097, ('jar', 124): 3098, ('judi', 124): 3099, ('artifici', 124): 3100, ('boil', 124): 3101, ('seduc', 124): 3102, ('blob', 124): 3103, ('distant', 124): 3104, ('cameron', 124): 3105, ('helicopt', 124): 3106, ('mann', 124): 3107, ('dave', 124): 3108, ('ken', 124): 3109, ('cagney', 124): 3110, ('beaten', 124): 3111, ('drunken', 123): 3112, ('glenn', 123): 3113, ('craig', 123): 3114, ('turner', 123): 3115, ('combat', 123): 3116, ('laurel', 123): 3117, ('web', 123): 3118, ('goldberg', 123): 3119, ('hop', 123): 3120, ('panic', 123): 3121, ('eleg', 123): 3122, ('francisco', 123): 3123, ('psychot', 123): 3124, ('favour', 123): 3125, ('ellen', 123): 3126, ('craven', 123): 3127, ('splendid', 123): 3128, ('ranger', 123): 3129, ('perri', 123): 3130, ('ruth', 122): 3131, ('greek', 122): 3132, ('fx', 122): 3133, ('min', 122): 3134, ('flip', 122): 3135, ('hatr', 122): 3136, ('gandhi', 122): 3137, ('philosophi', 122): 3138, ('plausibl', 122): 3139, ('rid', 122): 3140, ('shortli', 122): 3141, ('alexand', 122): 3142, ('20th', 122): 3143, ('gentl', 122): 3144, ('graduat', 122): 3145, ('falk', 122): 3146, ('slightest', 122): 3147, ('wizard', 122): 3148, ('modesti', 122): 3149, ('jealou', 121): 3150, ('legal', 121): 3151, ('preciou', 121): 3152, ('lend', 121): 3153, ('ocean', 121): 3154, ('futurist', 121): 3155, ('holi', 121): 3156, ('dracula', 121): 3157, ('tall', 121): 3158, ('felix', 121): 3159, ('knight', 121): 3160, ('we', 121): 3161, ('fund', 121): 3162, ('harm', 121): 3163, ('manhattan', 121): 3164, ('unpleas', 121): 3165, ('nod', 120): 3166, ('mock', 120): 3167, ('ami', 120): 3168, ('childish', 120): 3169, ('explicit', 120): 3170, ('tank', 120): 3171, ('thread', 120): 3172, ('reviv', 120): 3173, ('forbidden', 120): 3174, ('overdon', 120): 3175, ('giallo', 120): 3176, ('bless', 120): 3177, ('scientif', 120): 3178, ('digniti', 120): 3179, ('eve', 119): 3180, ('awe', 119): 3181, ('unwatch', 119): 3182, ('fever', 119): 3183, ('yesterday', 119): 3184, ('99', 119): 3185, ('torment', 119): 3186, ('nerv', 119): 3187, ('elderli', 119): 3188, ('mel', 119): 3189, ('pirat', 119): 3190, ('2004', 119): 3191, ('thick', 119): 3192, ('repeatedli', 119): 3193, ('broad', 119): 3194, ('awaken', 119): 3195, ('margaret', 119): 3196, ('verhoeven', 119): 3197, ('stiller', 118): 3198, ('royal', 118): 3199, ('bin', 118): 3200, ('politician', 118): 3201, ('custom', 118): 3202, ('ah', 118): 3203, ('absenc', 118): 3204, ('ambit', 118): 3205, ('automat', 118): 3206, ('griffith', 118): 3207, ('romero', 118): 3208, ('uniform', 118): 3209, ('lean', 118): 3210, ('publish', 118): 3211, ('roman', 118): 3212, ('eas', 118): 3213, ('timothi', 118): 3214, ('rivet', 118): 3215, ('acclaim', 118): 3216, ('kay', 118): 3217, ('launch', 118): 3218, ('termin', 117): 3219, ('sunshin', 117): 3220, ('bathroom', 117): 3221, ('stinker', 117): 3222, ('darker', 117): 3223, ('pulp', 117): 3224, ('foul', 117): 3225, ('purpl', 117): 3226, ('tomato', 117): 3227, ('pierc', 117): 3228, ('antic', 117): 3229, ('wallac', 117): 3230, ('transport', 117): 3231, ('phrase', 117): 3232, ('homicid', 117): 3233, ('warren', 117): 3234, ('crook', 117): 3235, ('gabriel', 117): 3236, ('hollow', 116): 3237, ('choreographi', 116): 3238, ('juvenil', 116): 3239, ('packag', 116): 3240, ('contrari', 116): 3241, ('horrid', 116): 3242, ('album', 116): 3243, ('evolv', 116): 3244, ('li', 116): 3245, ('awak', 116): 3246, ('revolutionari', 116): 3247, ('ought', 116): 3248, ('coloni', 116): 3249, ('prom', 116): 3250, ('2003', 116): 3251, ('marin', 116): 3252, ('pray', 116): 3253, ('donna', 116): 3254, ('rambo', 116): 3255, ('viciou', 116): 3256, ('q', 116): 3257, ('saint', 116): 3258, ('sixti', 116): 3259, ('kenneth', 116): 3260, ('eyr', 116): 3261, ('karen', 116): 3262, ('brazil', 116): 3263, ('overr', 115): 3264, ('boast', 115): 3265, ('twelv', 115): 3266, ('defi', 115): 3267, ('blade', 115): 3268, ('dose', 115): 3269, ('kapoor', 115): 3270, ('stole', 115): 3271, ('ramon', 115): 3272, ('candid', 115): 3273, ('option', 115): 3274, ('mummi', 115): 3275, ('beatti', 115): 3276, ('ireland', 115): 3277, ('nerd', 115): 3278, ('conserv', 115): 3279, ('mildr', 115): 3280, ('detract', 114): 3281, ('kirk', 114): 3282, ('natali', 114): 3283, ('funer', 114): 3284, ('astonish', 114): 3285, ('jazz', 114): 3286, ('fulci', 114): 3287, ('flame', 114): 3288, ('confirm', 114): 3289, ('global', 114): 3290, ('collabor', 114): 3291, ('altman', 114): 3292, ('trio', 114): 3293, ('protest', 114): 3294, ('mystic', 113): 3295, ('spit', 113): 3296, ('delici', 113): 3297, ('enterpris', 113): 3298, ('bottl', 113): 3299, ('racial', 113): 3300, ('destini', 113): 3301, ('tommi', 113): 3302, ('shade', 113): 3303, ('bull', 113): 3304, ('yellow', 113): 3305, ('nicholson', 113): 3306, ('whip', 113): 3307, ('audio', 113): 3308, ('blake', 113): 3309, ('leap', 113): 3310, ('swedish', 112): 3311, ('neo', 112): 3312, ('altogeth', 112): 3313, ('vivid', 112): 3314, ('bedroom', 112): 3315, ('merci', 112): 3316, ('todd', 112): 3317, ('harder', 112): 3318, ('enchant', 112): 3319, ('threw', 112): 3320, ('pseudo', 112): 3321, ('popcorn', 112): 3322, ('adolesc', 112): 3323, ('visibl', 112): 3324, ('fonda', 112): 3325, ('inherit', 112): 3326, ('meaningless', 112): 3327, ('staff', 112): 3328, ('reunit', 112): 3329, ('befriend', 111): 3330, ('voight', 111): 3331, ('jew', 111): 3332, ('wire', 111): 3333, ('atlanti', 111): 3334, ('lawrenc', 111): 3335, ('fanat', 111): 3336, ('suspici', 111): 3337, ('leonard', 111): 3338, ('respond', 111): 3339, ('synopsi', 111): 3340, ('tip', 111): 3341, ('kennedi', 111): 3342, ('reserv', 111): 3343, ('roommat', 111): 3344, ('exhibit', 111): 3345, ('await', 111): 3346, ('bust', 111): 3347, ('moodi', 111): 3348, ('decor', 111): 3349, ('crocodil', 111): 3350, ('ruthless', 111): 3351, ('edi', 111): 3352, ('madonna', 111): 3353, ('lemmon', 111): 3354, ('uneven', 111): 3355, ('clumsi', 110): 3356, ('clint', 110): 3357, ('bold', 110): 3358, ('dimens', 110): 3359, ('bargain', 110): 3360, ('unsettl', 110): 3361, ('2007', 110): 3362, ('carl', 110): 3363, ('holli', 110): 3364, ('abysm', 110): 3365, ('garner', 110): 3366, ('bradi', 110): 3367, ('ventur', 110): 3368, ('centr', 110): 3369, ('incident', 110): 3370, ('rural', 110): 3371, ('chao', 110): 3372, ('audit', 110): 3373, ('voyag', 110): 3374, ('palma', 110): 3375, ('echo', 109): 3376, ('2nd', 109): 3377, ('trail', 109): 3378, ('humili', 109): 3379, ('characterist', 109): 3380, ('cari', 109): 3381, ('poetic', 109): 3382, ('lit', 109): 3383, ('cd', 109): 3384, ('acknowledg', 109): 3385, ('nearbi', 109): 3386, ('daddi', 109): 3387, ('troop', 109): 3388, ('neglect', 109): 3389, ('imperson', 109): 3390, ('wealth', 109): 3391, ('cuba', 109): 3392, ('versu', 109): 3393, ('tiger', 109): 3394, ('ant', 109): 3395, ('immigr', 109): 3396, ('elimin', 109): 3397, ('hart', 109): 3398, ('mall', 109): 3399, ('timon', 109): 3400, ('pun', 108): 3401, ('mickey', 108): 3402, ('homer', 108): 3403, ('solo', 108): 3404, ('mistaken', 108): 3405, ('repuls', 108): 3406, ('jeffrey', 108): 3407, ('celluloid', 108): 3408, ('domest', 108): 3409, ('infect', 108): 3410, ('collaps', 108): 3411, ('saga', 108): 3412, ('marshal', 108): 3413, ('prejudic', 108): 3414, ('paus', 108): 3415, ('milk', 107): 3416, ('tribe', 107): 3417, ('inan', 107): 3418, ('ginger', 107): 3419, ('inappropri', 107): 3420, ('coffe', 107): 3421, ('interrupt', 107): 3422, ('gear', 107): 3423, ('harvey', 107): 3424, ('hbo', 107): 3425, ('promin', 107): 3426, ('cake', 107): 3427, ('undoubtedli', 107): 3428, ('coat', 107): 3429, ('olivi', 107): 3430, ('1996', 107): 3431, ('sore', 107): 3432, ('equip', 107): 3433, ('chest', 107): 3434, ('assembl', 107): 3435, ('leon', 107): 3436, ('pant', 107): 3437, ('apolog', 107): 3438, ('trace', 106): 3439, ('brooklyn', 106): 3440, ('devast', 106): 3441, ('exot', 106): 3442, ('humbl', 106): 3443, ('solut', 106): 3444, ('retain', 106): 3445, ('highest', 106): 3446, ('airplan', 106): 3447, ('embrac', 106): 3448, ('primari', 106): 3449, ('maggi', 106): 3450, ('vulgar', 106): 3451, ('pot', 106): 3452, ('florida', 106): 3453, ('polanski', 106): 3454, ('aveng', 106): 3455, ('jenni', 106): 3456, ('colonel', 106): 3457, ('pen', 106): 3458, ('colleagu', 106): 3459, ('instant', 106): 3460, ('consum', 106): 3461, ('furthermor', 106): 3462, ('institut', 106): 3463, ('strain', 105): 3464, ('ya', 105): 3465, ('illog', 105): 3466, ('disabl', 105): 3467, ('descend', 105): 3468, ('poke', 105): 3469, ('gender', 105): 3470, ('bowl', 105): 3471, ('rick', 105): 3472, ('dian', 105): 3473, ('principl', 105): 3474, ('sale', 105): 3475, ('3rd', 105): 3476, ('1999', 105): 3477, ('smaller', 105): 3478, ('wive', 105): 3479, ('outer', 105): 3480, ('linda', 105): 3481, ('seduct', 105): 3482, ('dutch', 105): 3483, ('cope', 105): 3484, ('godzilla', 105): 3485, ('gloriou', 104): 3486, ('cue', 104): 3487, ('bubbl', 104): 3488, ('blatant', 104): 3489, ('devoid', 104): 3490, ('yard', 104): 3491, ('rabbit', 104): 3492, ('dud', 104): 3493, ('glamor', 104): 3494, ('predecessor', 104): 3495, ('vast', 104): 3496, ('secondli', 104): 3497, ('scope', 104): 3498, ('beneath', 104): 3499, ('hal', 104): 3500, ('mixtur', 104): 3501, ('primarili', 104): 3502, ('dive', 104): 3503, ('lol', 104): 3504, ('inferior', 104): 3505, ('gundam', 104): 3506, ('talki', 103): 3507, ('museum', 103): 3508, ('shirley', 103): 3509, ('breed', 103): 3510, ('shelf', 103): 3511, ('domino', 103): 3512, ('hideou', 103): 3513, ('pearl', 103): 3514, ('trademark', 103): 3515, ('aggress', 103): 3516, ('casual', 103): 3517, ('et', 103): 3518, ('disjoint', 103): 3519, ('simplist', 103): 3520, ('grinch', 103): 3521, ('april', 103): 3522, ('myer', 103): 3523, ('arab', 103): 3524, ('alert', 103): 3525, ('invas', 103): 3526, ('senseless', 103): 3527, ('streep', 103): 3528, ('garbo', 103): 3529, ('countrysid', 103): 3530, ('z', 103): 3531, ('alfr', 103): 3532, ('sh', 102): 3533, ('mail', 102): 3534, ('loyal', 102): 3535, ('unhappi', 102): 3536, ('rendit', 102): 3537, ('boom', 102): 3538, ('applaud', 102): 3539, ('vanish', 102): 3540, ('slide', 102): 3541, ('disgrac', 102): 3542, ('stack', 102): 3543, ('khan', 102): 3544, ('hardcor', 102): 3545, ('uwe', 102): 3546, ('illeg', 102): 3547, ('maci', 102): 3548, ('stir', 102): 3549, ('robberi', 102): 3550, ('obtain', 102): 3551, ('acid', 102): 3552, ('stellar', 102): 3553, ('oz', 102): 3554, ('hopeless', 102): 3555, ('defens', 102): 3556, ('robinson', 102): 3557, ('mayor', 102): 3558, ('experiment', 102): 3559, ('wont', 101): 3560, ('topless', 101): 3561, ('tempt', 101): 3562, ('fri', 101): 3563, ('rifl', 101): 3564, ('declin', 101): 3565, ('tenant', 101): 3566, ('diana', 101): 3567, ('spider', 101): 3568, ('counter', 101): 3569, ('scroog', 101): 3570, ('dicken', 101): 3571, ('amanda', 101): 3572, ('soccer', 101): 3573, ('span', 101): 3574, ('grandfath', 101): 3575, ('dismiss', 101): 3576, ('emphasi', 101): 3577, ('incomprehens', 101): 3578, ('craze', 101): 3579, ('hartley', 101): 3580, ('recruit', 101): 3581, ('berlin', 101): 3582, ('psychic', 101): 3583, ('blew', 101): 3584, ('bitch', 100): 3585, ('resurrect', 100): 3586, ('wet', 100): 3587, ('shed', 100): 3588, ('sibl', 100): 3589, ('porno', 100): 3590, ('ethnic', 100): 3591, ('sympath', 100): 3592, ('revolt', 100): 3593, ('faster', 100): 3594, ('woo', 100): 3595, ('goer', 100): 3596, ('ration', 100): 3597, ('trashi', 100): 3598, ('riot', 100): 3599, ('justin', 100): 3600, ('niro', 100): 3601, ('lumet', 100): 3602, ('intim', 100): 3603, ('shaw', 100): 3604, ('parad', 100): 3605, ('partial', 99): 3606, ('feminist', 99): 3607, ('immort', 99): 3608, ('enlighten', 99): 3609, ('00', 99): 3610, ('wheel', 99): 3611, ('honesti', 99): 3612, ('steam', 99): 3613, ('ensur', 99): 3614, ('hesit', 99): 3615, ('patriot', 99): 3616, ('commend', 99): 3617, ('ballet', 99): 3618, ('biographi', 99): 3619, ('choru', 99): 3620, ('dealer', 99): 3621, ('mario', 99): 3622, ('andr', 99): 3623, ('eager', 99): 3624, ('weakest', 99): 3625, ('jonathan', 99): 3626, ('gap', 99): 3627, ('lena', 99): 3628, ('nephew', 99): 3629, ('unreal', 99): 3630, ('farmer', 99): 3631, ('slick', 99): 3632, ('region', 99): 3633, ('worm', 99): 3634, ('wendi', 99): 3635, ('rider', 99): 3636, ('hopper', 99): 3637, ('owen', 98): 3638, ('victori', 98): 3639, ('skull', 98): 3640, ('kingdom', 98): 3641, ('blunt', 98): 3642, ('safeti', 98): 3643, ('confin', 98): 3644, ('hung', 98): 3645, ('franco', 98): 3646, ('prequel', 98): 3647, ('wore', 98): 3648, ('similarli', 98): 3649, ('repress', 98): 3650, ('mutant', 98): 3651, ('macarthur', 98): 3652, ('nostalg', 98): 3653, ('snap', 98): 3654, ('charlott', 98): 3655, ('properti', 98): 3656, ('composit', 98): 3657, ('sappi', 98): 3658, ('morri', 98): 3659, ('psychopath', 98): 3660, ('leo', 98): 3661, ('util', 98): 3662, ('vice', 98): 3663, ('sandra', 98): 3664, ('tail', 97): 3665, ('drain', 97): 3666, ('strand', 97): 3667, ('bonu', 97): 3668, ('rocki', 97): 3669, ('thru', 97): 3670, ('exit', 97): 3671, ('valuabl', 97): 3672, ('despair', 97): 3673, ('dust', 97): 3674, ('rambl', 97): 3675, ('cg', 97): 3676, ('repli', 97): 3677, ('compens', 97): 3678, ('snl', 97): 3679, ('montana', 97): 3680, ('bumbl', 97): 3681, ('whoopi', 97): 3682, ('rope', 97): 3683, ('kyle', 97): 3684, ('miseri', 97): 3685, ('campbel', 97): 3686, ('farrel', 97): 3687, ('nervou', 97): 3688, ('latin', 97): 3689, ('deed', 97): 3690, ('drum', 97): 3691, ('hyde', 97): 3692, ('speci', 97): 3693, ('bergman', 97): 3694, ('bow', 97): 3695, ('heartbreak', 97): 3696, ('acquir', 97): 3697, ('recycl', 97): 3698, ('del', 97): 3699, ('pattern', 97): 3700, ('dalton', 97): 3701, ('tad', 97): 3702, ('1972', 97): 3703, ('compass', 97): 3704, ('emperor', 97): 3705, ('martian', 96): 3706, ('romp', 96): 3707, ('35', 96): 3708, ('roth', 96): 3709, ('tonight', 96): 3710, ('percept', 96): 3711, ('bleed', 96): 3712, ('gimmick', 96): 3713, ('slug', 96): 3714, ('rotten', 96): 3715, ('orson', 96): 3716, ('pour', 96): 3717, ('downhil', 96): 3718, ('rapist', 96): 3719, ('oppress', 96): 3720, ('olli', 96): 3721, ('contempl', 96): 3722, ('gal', 96): 3723, ('carradin', 96): 3724, ('mistress', 96): 3725, ('airport', 96): 3726, ('radic', 96): 3727, ('wacki', 96): 3728, ('da', 96): 3729, ('chess', 96): 3730, ('slash', 95): 3731, ('tackl', 95): 3732, ('programm', 95): 3733, ('unpredict', 95): 3734, ('dazzl', 95): 3735, ('heal', 95): 3736, ('stilt', 95): 3737, ('edgar', 95): 3738, ('pervert', 95): 3739, ('banal', 95): 3740, ('melodi', 95): 3741, ('preach', 95): 3742, ('tooth', 95): 3743, ('taught', 95): 3744, ('mislead', 95): 3745, ('shelley', 95): 3746, ('attorney', 95): 3747, ('paltrow', 95): 3748, ('pursuit', 95): 3749, ('arc', 95): 3750, ('champion', 95): 3751, ('1983', 95): 3752, ('arguabl', 95): 3753, ('pervers', 95): 3754, ('belt', 95): 3755, ('virginia', 94): 3756, ('tiresom', 94): 3757, ('orang', 94): 3758, ('plight', 94): 3759, ('uplift', 94): 3760, ('raymond', 94): 3761, ('vocal', 94): 3762, ('employe', 94): 3763, ('marti', 94): 3764, ('maid', 94): 3765, ('cleverli', 94): 3766, ('bela', 94): 3767, ('closest', 94): 3768, ('mesmer', 94): 3769, ('chicken', 94): 3770, ('sensat', 94): 3771, ('rubi', 94): 3772, ('vengeanc', 94): 3773, ('gambl', 94): 3774, ('duval', 94): 3775, ('passeng', 94): 3776, ('poem', 94): 3777, ('conneri', 94): 3778, ('franki', 94): 3779, ('graham', 94): 3780, ('dixon', 94): 3781, ('extens', 93): 3782, ('mute', 93): 3783, ('numb', 93): 3784, ('paranoia', 93): 3785, ('scottish', 93): 3786, ('outing', 93): 3787, ('1968', 93): 3788, ('giggl', 93): 3789, ('iran', 93): 3790, ('monologu', 93): 3791, ('convincingli', 93): 3792, ('secretli', 93): 3793, ('whine', 93): 3794, ('climact', 93): 3795, ('gerard', 93): 3796, ('sirk', 93): 3797, ('calm', 93): 3798, ('engross', 93): 3799, ('amitabh', 93): 3800, ('volum', 93): 3801, ('clone', 93): 3802, ('suffic', 93): 3803, ('abraham', 93): 3804, ('pokemon', 93): 3805, ('crystal', 93): 3806, ('tube', 93): 3807, ('inject', 93): 3808, ('habit', 93): 3809, ('quarter', 93): 3810, ('bay', 93): 3811, ('profan', 93): 3812, ('yawn', 93): 3813, ('swallow', 93): 3814, ('lundgren', 93): 3815, ('profess', 92): 3816, ('dispos', 92): 3817, ('taxi', 92): 3818, ('linger', 92): 3819, ('underst', 92): 3820, ('chicago', 92): 3821, ('frankenstein', 92): 3822, ('junior', 92): 3823, ('poetri', 92): 3824, ('trend', 92): 3825, ('backward', 92): 3826, ('expand', 92): 3827, ('spock', 92): 3828, ('surpass', 92): 3829, ('plod', 92): 3830, ('abort', 92): 3831, ('lowest', 92): 3832, ('austen', 92): 3833, ('septemb', 92): 3834, ('im', 92): 3835, ('earl', 92): 3836, ('richardson', 92): 3837, ('bend', 92): 3838, ('grotesqu', 92): 3839, ('meander', 92): 3840, ('ethan', 92): 3841, ('nichola', 92): 3842, ('fed', 92): 3843, ('franci', 92): 3844, ('nostalgia', 91): 3845, ('myth', 91): 3846, ('sue', 91): 3847, ('der', 91): 3848, ('descent', 91): 3849, ('simplic', 91): 3850, ('literatur', 91): 3851, ('rant', 91): 3852, ('dysfunct', 91): 3853, ('rubber', 91): 3854, ('econom', 91): 3855, ('household', 91): 3856, ('mundan', 91): 3857, ('catchi', 91): 3858, ('hum', 91): 3859, ('lure', 91): 3860, ('instrument', 91): 3861, ('spoke', 91): 3862, ('muddl', 91): 3863, ('tourist', 91): 3864, ('waitress', 91): 3865, ('cannon', 91): 3866, ('compliment', 91): 3867, ('greedi', 91): 3868, ('eugen', 91): 3869, ('stallon', 91): 3870, ('dement', 90): 3871, ('molli', 90): 3872, ('mankind', 90): 3873, ('dictat', 90): 3874, ('crucial', 90): 3875, ('recognis', 90): 3876, ('alongsid', 90): 3877, ('damon', 90): 3878, ('june', 90): 3879, ('omen', 90): 3880, ('hello', 90): 3881, ('irrelev', 90): 3882, ('phoni', 90): 3883, ('stale', 90): 3884, ('eaten', 90): 3885, ('mortal', 90): 3886, ('bacal', 90): 3887, ('equival', 90): 3888, ('map', 90): 3889, ('deaf', 90): 3890, ('lang', 90): 3891, ('occupi', 90): 3892, ('randi', 90): 3893, ('firstli', 90): 3894, ('insur', 90): 3895, ('cent', 90): 3896, ('recognit', 90): 3897, ('coast', 90): 3898, ('sissi', 90): 3899, ('duck', 90): 3900, ('phantom', 90): 3901, ('flee', 90): 3902, ('furi', 90): 3903, ('louis', 90): 3904, ('carel', 90): 3905, ('wisdom', 89): 3906, ('freez', 89): 3907, ('distinguish', 89): 3908, ('lengthi', 89): 3909, ('bike', 89): 3910, ('onlin', 89): 3911, ('dreari', 89): 3912, ('cyborg', 89): 3913, ('bump', 89): 3914, ('heel', 89): 3915, ('damm', 89): 3916, ('likewis', 89): 3917, ('blackmail', 89): 3918, ('daisi', 89): 3919, ('twilight', 89): 3920, ('ashley', 89): 3921, ('biko', 89): 3922, ('newli', 89): 3923, ('drake', 89): 3924, ('reign', 89): 3925, ('rude', 89): 3926, ('loyalti', 89): 3927, ('buffalo', 89): 3928, ('antwon', 89): 3929, ('1973', 89): 3930, ('labor', 89): 3931, ('grayson', 89): 3932, ('rooney', 89): 3933, ('inher', 88): 3934, ('worn', 88): 3935, ('startl', 88): 3936, ('tunnel', 88): 3937, ('keith', 88): 3938, ('approv', 88): 3939, ('basketbal', 88): 3940, ('interior', 88): 3941, ('proce', 88): 3942, ('provoc', 88): 3943, ('pink', 88): 3944, ('emphas', 88): 3945, ('butler', 88): 3946, ('barrymor', 88): 3947, ('unorigin', 88): 3948, ('baddi', 88): 3949, ('exposur', 88): 3950, ('ridden', 88): 3951, ('boxer', 88): 3952, ('attribut', 88): 3953, ('sailor', 88): 3954, ('vein', 88): 3955, ('analysi', 88): 3956, ('nineti', 88): 3957, ('prey', 88): 3958, ('incorpor', 88): 3959, ('chronicl', 88): 3960, ('elm', 87): 3961, ('undeni', 87): 3962, ('belushi', 87): 3963, ('improvis', 87): 3964, ('degrad', 87): 3965, ('indiffer', 87): 3966, ('drift', 87): 3967, ('barrel', 87): 3968, ('fleet', 87): 3969, ('predat', 87): 3970, ('millionair', 87): 3971, ('mighti', 87): 3972, ('substitut', 87): 3973, ('stalker', 87): 3974, ('condemn', 87): 3975, ('hypnot', 87): 3976, ('underli', 87): 3977, ('meyer', 87): 3978, ('bunni', 87): 3979, ('carla', 87): 3980, ('unrel', 87): 3981, ('othello', 87): 3982, ('er', 87): 3983, ('nicol', 87): 3984, ('simmon', 87): 3985, ('meg', 87): 3986, ('robbin', 87): 3987, ('mormon', 87): 3988, ('walsh', 87): 3989, ('julian', 87): 3990, ('3d', 86): 3991, ('priceless', 86): 3992, ('reid', 86): 3993, ('mtv', 86): 3994, ('marion', 86): 3995, ('vital', 86): 3996, ('enthusiasm', 86): 3997, ('unawar', 86): 3998, ('errol', 86): 3999, ('firm', 86): 4000, ('greed', 86): 4001, ('shove', 86): 4002, ('roof', 86): 4003, ('edgi', 86): 4004, ('exquisit', 86): 4005, ('alison', 86): 4006, ('agenda', 86): 4007, ('alarm', 86): 4008, ('disord', 86): 4009, ('warmth', 86): 4010, ('palac', 86): 4011, ('nyc', 86): 4012, ('dolph', 86): 4013, ('rukh', 86): 4014, ('watson', 86): 4015, ('hay', 86): 4016, ('novak', 86): 4017, ('lampoon', 86): 4018, ('gestur', 85): 4019, ('pamela', 85): 4020, ('showdown', 85): 4021, ('preserv', 85): 4022, ('profit', 85): 4023, ('drip', 85): 4024, ('petti', 85): 4025, ('beatl', 85): 4026, ('crown', 85): 4027, ('coup', 85): 4028, ('orlean', 85): 4029, ('sergeant', 85): 4030, ('distort', 85): 4031, ('angela', 85): 4032, ('what', 85): 4033, ('eastern', 85): 4034, ('iraq', 85): 4035, ('1933', 85): 4036, ('13th', 85): 4037, ('campaign', 85): 4038, ('simultan', 85): 4039, ('valentin', 85): 4040, ('peck', 85): 4041, ('ponder', 85): 4042, ('thompson', 85): 4043, ('israel', 85): 4044, ('glanc', 85): 4045, ('testament', 85): 4046, ('session', 85): 4047, ('randomli', 85): 4048, ('nun', 85): 4049, ('cassidi', 85): 4050, ('unleash', 85): 4051, ('spain', 85): 4052, ('peril', 85): 4053, ('minimum', 85): 4054, ('championship', 85): 4055, ('zizek', 85): 4056, ('cream', 84): 4057, ('cooki', 84): 4058, ('stroke', 84): 4059, ('rout', 84): 4060, ('shootout', 84): 4061, ('crawl', 84): 4062, ('mon', 84): 4063, ('restrain', 84): 4064, ('buster', 84): 4065, ('realm', 84): 4066, ('calib', 84): 4067, ('unimagin', 84): 4068, ('quinn', 84): 4069, ('1984', 84): 4070, ('travesti', 84): 4071, ('stake', 84): 4072, ('kurosawa', 84): 4073, ('perpetu', 84): 4074, ('scotland', 84): 4075, ('brenda', 84): 4076, ('han', 84): 4077, ('regist', 84): 4078, ('gentleman', 84): 4079, ('contradict', 84): 4080, ('miyazaki', 84): 4081, ('climat', 84): 4082, ('wig', 84): 4083, ('exposit', 84): 4084, ('jan', 84): 4085, ('valley', 84): 4086, ('empathi', 84): 4087, ('reson', 84): 4088, ('crow', 84): 4089, ('sabrina', 84): 4090, ('fido', 84): 4091, ('represent', 84): 4092, ('din', 84): 4093, ('bro', 84): 4094, ('perceiv', 83): 4095, ('warrant', 83): 4096, ('wax', 83): 4097, ('1997', 83): 4098, ('darren', 83): 4099, ('unseen', 83): 4100, ('ross', 83): 4101, ('crawford', 83): 4102, ('monoton', 83): 4103, ('geek', 83): 4104, ('passabl', 83): 4105, ('ustinov', 83): 4106, ('mclaglen', 83): 4107, ('pole', 83): 4108, ('josh', 83): 4109, ('abomin', 83): 4110, ('pretens', 83): 4111, ('shoddi', 83): 4112, ('sucker', 83): 4113, ('tacki', 83): 4114, ('greg', 83): 4115, ('spacey', 83): 4116, ('cloud', 83): 4117, ('femm', 83): 4118, ('unsatisfi', 83): 4119, ('compromis', 83): 4120, ('distress', 83): 4121, ('demis', 83): 4122, ('1987', 83): 4123, ('derang', 83): 4124, ('absent', 83): 4125, ('traumat', 83): 4126, ('meryl', 83): 4127, ('dana', 83): 4128, ('censor', 83): 4129, ('delic', 83): 4130, ('baldwin', 83): 4131, ('painter', 83): 4132, ('stargat', 83): 4133, ('fuller', 83): 4134, ('businessman', 83): 4135, ('shaki', 83): 4136, ('sammi', 83): 4137, ('soderbergh', 83): 4138, ('valid', 82): 4139, ('correctli', 82): 4140, ('sid', 82): 4141, ('clash', 82): 4142, ('primit', 82): 4143, ('seal', 82): 4144, ('deniro', 82): 4145, ('verbal', 82): 4146, ('deceas', 82): 4147, ('fog', 82): 4148, ('uncov', 82): 4149, ('austin', 82): 4150, ('wholli', 82): 4151, ('click', 82): 4152, ('judgment', 82): 4153, ('jewel', 82): 4154, ('polici', 82): 4155, ('tarantino', 82): 4156, ('fenc', 82): 4157, ('unravel', 82): 4158, ('reluct', 82): 4159, ('furiou', 82): 4160, ('tech', 82): 4161, ('dee', 82): 4162, ('accuraci', 82): 4163, ('expedit', 82): 4164, ('nathan', 82): 4165, ('exclus', 82): 4166, ('anchor', 82): 4167, ('1993', 82): 4168, ('antonioni', 82): 4169, ('kumar', 82): 4170, ('norm', 82): 4171, ('sustain', 81): 4172, ('seldom', 81): 4173, ('unfair', 81): 4174, ('fought', 81): 4175, ('dreck', 81): 4176, ('fart', 81): 4177, ('joel', 81): 4178, ('patienc', 81): 4179, ('wretch', 81): 4180, ('clerk', 81): 4181, ('roller', 81): 4182, ('3000', 81): 4183, ('alec', 81): 4184, ('malon', 81): 4185, ('slam', 81): 4186, ('bake', 81): 4187, ('conduct', 81): 4188, ('sunni', 81): 4189, ('debt', 81): 4190, ('sheet', 81): 4191, ('temper', 81): 4192, ('logan', 81): 4193, ('enforc', 81): 4194, ('1971', 81): 4195, ('fabric', 81): 4196, ('murray', 81): 4197, ('shanghai', 81): 4198, ('1995', 81): 4199, ('wang', 81): 4200, ('behold', 81): 4201, ('mode', 81): 4202, ('sand', 81): 4203, ('ritual', 81): 4204, ('crippl', 81): 4205, ('nicola', 81): 4206, ('hallucin', 81): 4207, ('tax', 81): 4208, ('2008', 81): 4209, ('trait', 81): 4210, ('darn', 81): 4211, ('pocket', 81): 4212, ('vanc', 81): 4213, ('scriptwrit', 80): 4214, ('clau', 80): 4215, ('exhaust', 80): 4216, ('soup', 80): 4217, ('conscious', 80): 4218, ('stuart', 80): 4219, ('preposter', 80): 4220, ('guitar', 80): 4221, ('canyon', 80): 4222, ('tactic', 80): 4223, ('rita', 80): 4224, ('sweep', 80): 4225, ('bridget', 80): 4226, ('isabel', 80): 4227, ('squad', 80): 4228, ('runner', 80): 4229, ('fundament', 80): 4230, ('penni', 80): 4231, ('technicolor', 80): 4232, ('robber', 80): 4233, ('phil', 80): 4234, ('helpless', 80): 4235, ('despis', 80): 4236, ('bias', 80): 4237, ('grief', 80): 4238, ('divid', 80): 4239, ('stark', 80): 4240, ('schedul', 80): 4241, ('shell', 80): 4242, ('legaci', 80): 4243, ('pete', 80): 4244, ('critiqu', 80): 4245, ('outlin', 80): 4246, ('preston', 80): 4247, ('agenc', 79): 4248, ('alley', 79): 4249, ('rehash', 79): 4250, ('sugar', 79): 4251, ('unexpectedli', 79): 4252, ('restrict', 79): 4253, ('jacket', 79): 4254, ('sniper', 79): 4255, ('inabl', 79): 4256, ('jodi', 79): 4257, ('russia', 79): 4258, ('lacklust', 79): 4259, ('liberti', 79): 4260, ('bloom', 79): 4261, ('drove', 79): 4262, ('propos', 79): 4263, ('invad', 79): 4264, ('gregori', 79): 4265, ('alicia', 79): 4266, ('culmin', 79): 4267, ('delv', 79): 4268, ('sentinel', 79): 4269, ('vomit', 79): 4270, ('passag', 79): 4271, ('marc', 79): 4272, ('rear', 79): 4273, ('newman', 79): 4274, ('implic', 79): 4275, ('palanc', 79): 4276, ('downey', 79): 4277, ('flair', 79): 4278, ('consciou', 79): 4279, ('cigarett', 79): 4280, ('boyl', 79): 4281, ('kansa', 79): 4282, ('connor', 79): 4283, ('wrench', 78): 4284, ('pale', 78): 4285, ('karl', 78): 4286, ('rehears', 78): 4287, ('1936', 78): 4288, ('ladder', 78): 4289, ('vet', 78): 4290, ('cap', 78): 4291, ('22', 78): 4292, ('behaviour', 78): 4293, ('mccoy', 78): 4294, ('horn', 78): 4295, ('improb', 78): 4296, ('foxx', 78): 4297, ('lush', 78): 4298, ('yeti', 78): 4299, ('rampag', 78): 4300, ('tripe', 78): 4301, ('aesthet', 78): 4302, ('chainsaw', 78): 4303, ('arrow', 78): 4304, ('rod', 78): 4305, ('tendenc', 78): 4306, ('delet', 78): 4307, ('feat', 78): 4308, ('kolchak', 78): 4309, ('bacon', 78): 4310, ('asylum', 78): 4311, ('awhil', 78): 4312, ('sharon', 78): 4313, ('filler', 77): 4314, ('shortcom', 77): 4315, ('paramount', 77): 4316, ('rhythm', 77): 4317, ('visitor', 77): 4318, ('rumor', 77): 4319, ('el', 77): 4320, ('wagner', 77): 4321, ('suspicion', 77): 4322, ('1920', 77): 4323, ('hulk', 77): 4324, ('elit', 77): 4325, ('conscienc', 77): 4326, ('coaster', 77): 4327, ('paradis', 77): 4328, ('prank', 77): 4329, ('tasteless', 77): 4330, ('stream', 77): 4331, ('financ', 77): 4332, ('wildli', 77): 4333, ('spice', 77): 4334, ('hackney', 77): 4335, ('scoop', 77): 4336, ('globe', 77): 4337, ('lurk', 77): 4338, ('weav', 77): 4339, ('loneli', 77): 4340, ('aristocrat', 77): 4341, ('amazon', 77): 4342, ('19th', 77): 4343, ('fright', 77): 4344, ('sung', 77): 4345, ('thunderbird', 77): 4346, ('1988', 77): 4347, ('underneath', 77): 4348, ('tomorrow', 77): 4349, ('1978', 77): 4350, ('basing', 77): 4351, ('hungri', 77): 4352, ('newcom', 77): 4353, ('minu', 77): 4354, ('suffici', 77): 4355, ('minist', 76): 4356, ('immers', 76): 4357, ('choppi', 76): 4358, ('posey', 76): 4359, ('curli', 76): 4360, ('heist', 76): 4361, ('leigh', 76): 4362, ('atroc', 76): 4363, ('brit', 76): 4364, ('1989', 76): 4365, ('chavez', 76): 4366, ('literari', 76): 4367, ('secondari', 76): 4368, ('hopkin', 76): 4369, ('ram', 76): 4370, ('rub', 76): 4371, ('ingeni', 76): 4372, ('75', 76): 4373, ('dirt', 76): 4374, ('en', 76): 4375, ('iv', 76): 4376, ('couch', 76): 4377, ('standout', 76): 4378, ('smell', 76): 4379, ('counterpart', 76): 4380, ('recogniz', 76): 4381, ('naughti', 76): 4382, ('grudg', 76): 4383, ('entranc', 76): 4384, ('tierney', 76): 4385, ('impos', 76): 4386, ('lectur', 76): 4387, ('worship', 76): 4388, ('teas', 76): 4389, ('beverli', 76): 4390, ('quietli', 76): 4391, ('inmat', 76): 4392, ('1939', 76): 4393, ('springer', 76): 4394, ('straightforward', 76): 4395, ('bread', 76): 4396, ('abrupt', 76): 4397, ('paxton', 76): 4398, ('cancer', 76): 4399, ('penn', 76): 4400, ('wwe', 76): 4401, ('chamberlain', 76): 4402, ('bernard', 75): 4403, ('misguid', 75): 4404, ('sassi', 75): 4405, ('nolan', 75): 4406, ('enthral', 75): 4407, ('skeptic', 75): 4408, ('injuri', 75): 4409, ('sublim', 75): 4410, ('heartfelt', 75): 4411, ('entitl', 75): 4412, ('laurenc', 75): 4413, ('policeman', 75): 4414, ('net', 75): 4415, ('morbid', 75): 4416, ('1986', 75): 4417, ('moreov', 75): 4418, ('attenborough', 75): 4419, ('clan', 75): 4420, ('duel', 75): 4421, ('yearn', 75): 4422, ('missil', 75): 4423, ('ace', 75): 4424, ('convert', 75): 4425, ('nemesi', 75): 4426, ('transcend', 75): 4427, ('variat', 75): 4428, ('cattl', 75): 4429, ('watcher', 75): 4430, ('lindsay', 75): 4431, ('quaid', 75): 4432, ('geni', 75): 4433, ('ratso', 75): 4434, ('esther', 75): 4435, ('moder', 74): 4436, ('spiral', 74): 4437, ('dont', 74): 4438, ('artsi', 74): 4439, ('brood', 74): 4440, ('poe', 74): 4441, ('rosemari', 74): 4442, ('1979', 74): 4443, ('youngest', 74): 4444, ('obstacl', 74): 4445, ('egg', 74): 4446, ('setup', 74): 4447, ('kitti', 74): 4448, ('hopelessli', 74): 4449, ('unexplain', 74): 4450, ('carlito', 74): 4451, ('grin', 74): 4452, ('bye', 74): 4453, ('puppi', 74): 4454, ('hk', 74): 4455, ('cruelti', 74): 4456, ('enabl', 74): 4457, ('bean', 74): 4458, ('out', 74): 4459, ('graini', 74): 4460, ('facil', 74): 4461, ('mytholog', 74): 4462, ('reliabl', 74): 4463, ('tyler', 74): 4464, ('vader', 74): 4465, ('buzz', 74): 4466, ('characteris', 74): 4467, ('diari', 74): 4468, ('kidman', 74): 4469, ('steadi', 74): 4470, ('uncut', 74): 4471, ('heap', 73): 4472, ('disastr', 73): 4473, ('patricia', 73): 4474, ('niec', 73): 4475, ('underworld', 73): 4476, ('christin', 73): 4477, ('kline', 73): 4478, ('weather', 73): 4479, ('sweat', 73): 4480, ('despic', 73): 4481, ('narrow', 73): 4482, ('bewar', 73): 4483, ('clueless', 73): 4484, ('martha', 73): 4485, ('hain', 73): 4486, ('effici', 73): 4487, ('decept', 73): 4488, ('fuel', 73): 4489, ('bounc', 73): 4490, ('athlet', 73): 4491, ('1969', 73): 4492, ('hammi', 73): 4493, ('acquaint', 73): 4494, ('exterior', 73): 4495, ('oblig', 73): 4496, ('baffl', 73): 4497, ('spontan', 73): 4498, ('gillian', 73): 4499, ('gina', 73): 4500, ('brendan', 73): 4501, ('preming', 73): 4502, ('bronson', 73): 4503, ('biker', 72): 4504, ('rome', 72): 4505, ('harmless', 72): 4506, ('viewpoint', 72): 4507, ('trigger', 72): 4508, ('headach', 72): 4509, ('insipid', 72): 4510, ('uh', 72): 4511, ('injur', 72): 4512, ('analyz', 72): 4513, ('suprem', 72): 4514, ('housewif', 72): 4515, ('astound', 72): 4516, ('renaiss', 72): 4517, ('virtu', 72): 4518, ('goof', 72): 4519, ('dilemma', 72): 4520, ('sleepwalk', 72): 4521, ('tick', 72): 4522, ('outlaw', 72): 4523, ('angst', 72): 4524, ('mayhem', 72): 4525, ('shatter', 72): 4526, ('19', 72): 4527, ('scar', 72): 4528, ('sooner', 72): 4529, ('enlist', 72): 4530, ('mermaid', 72): 4531, ('preachi', 72): 4532, ('fontain', 72): 4533, ('loi', 72): 4534, ('hepburn', 72): 4535, ('loath', 72): 4536, ('dandi', 72): 4537, ('73', 72): 4538, ('taboo', 72): 4539, ('candl', 72): 4540, ('circu', 72): 4541, ('lester', 72): 4542, ('cassavet', 71): 4543, ('gere', 71): 4544, ('ariel', 71): 4545, ('camcord', 71): 4546, ('oldest', 71): 4547, ('dismal', 71): 4548, ('macho', 71): 4549, ('tripl', 71): 4550, ('foolish', 71): 4551, ('stimul', 71): 4552, ('salt', 71): 4553, ('stair', 71): 4554, ('hooker', 71): 4555, ('guin', 71): 4556, ('steer', 71): 4557, ('immatur', 71): 4558, ('phenomenon', 71): 4559, ('bent', 71): 4560, ('overlong', 71): 4561, ('amor', 71): 4562, ('zoom', 71): 4563, ('contempt', 71): 4564, ('whore', 71): 4565, ('surgeri', 71): 4566, ('idol', 71): 4567, ('glorifi', 71): 4568, ('hostag', 71): 4569, ('hokey', 71): 4570, ('sox', 71): 4571, ('boston', 71): 4572, ('slimi', 71): 4573, ('fluff', 71): 4574, ('ebert', 71): 4575, ('filth', 71): 4576, ('scorses', 71): 4577, ('intric', 71): 4578, ('corbett', 71): 4579, ('dish', 71): 4580, ('spade', 71): 4581, ('redund', 71): 4582, ('claustrophob', 71): 4583, ('faint', 70): 4584, ('radiat', 70): 4585, ('conquer', 70): 4586, ('keen', 70): 4587, ('margin', 70): 4588, ('strongest', 70): 4589, ('beard', 70): 4590, ('trivia', 70): 4591, ('flirt', 70): 4592, ('gasp', 70): 4593, ('cow', 70): 4594, ('spinal', 70): 4595, ('gabl', 70): 4596, ('schlock', 70): 4597, ('proport', 70): 4598, ('mutual', 70): 4599, ('fascist', 70): 4600, ('dwarf', 70): 4601, ('rhyme', 70): 4602, ('widescreen', 70): 4603, ('alvin', 70): 4604, ('corman', 70): 4605, ('nolt', 70): 4606, ('messi', 70): 4607, ('assert', 70): 4608, ('cohen', 70): 4609, ('astronaut', 70): 4610, ('transplant', 70): 4611, ('shield', 70): 4612, ('remad', 70): 4613, ('preced', 70): 4614, ('perman', 70): 4615, ('flashi', 70): 4616, ('harold', 70): 4617, ('down', 70): 4618, ('spree', 70): 4619, ('shred', 70): 4620, ('flag', 70): 4621, ('antagonist', 70): 4622, ('1981', 70): 4623, ('cush', 70): 4624, ('muscl', 70): 4625, ('zane', 70): 4626, ('1976', 70): 4627, ('mount', 70): 4628, ('frantic', 70): 4629, ('joker', 70): 4630, ('obligatori', 70): 4631, ('naschi', 70): 4632, ('inflict', 69): 4633, ('neurot', 69): 4634, ('flock', 69): 4635, ('ritchi', 69): 4636, ('discern', 69): 4637, ('departur', 69): 4638, ('deer', 69): 4639, ('repris', 69): 4640, ('claud', 69): 4641, ('off', 69): 4642, ('95', 69): 4643, ('vaniti', 69): 4644, ('strive', 69): 4645, ('fishburn', 69): 4646, ('someday', 69): 4647, ('brush', 69): 4648, ('1945', 69): 4649, ('carey', 69): 4650, ('scandal', 69): 4651, ('mobil', 69): 4652, ('resum', 69): 4653, ('danish', 69): 4654, ('bitten', 69): 4655, ('wield', 69): 4656, ('www', 69): 4657, ('archiv', 69): 4658, ('info', 69): 4659, ('bachelor', 69): 4660, ('boob', 69): 4661, ('triangl', 69): 4662, ('divin', 69): 4663, ('persuad', 69): 4664, ('barn', 69): 4665, ('interestingli', 69): 4666, ('raj', 69): 4667, ('hara', 69): 4668, ('instruct', 69): 4669, ('28', 69): 4670, ('sensual', 69): 4671, ('mol', 69): 4672, ('aborigin', 69): 4673, ('ish', 68): 4674, ('melissa', 68): 4675, ('biblic', 68): 4676, ('axe', 68): 4677, ('senior', 68): 4678, ('hilar', 68): 4679, ('earnest', 68): 4680, ('mobster', 68): 4681, ('hapless', 68): 4682, ('casino', 68): 4683, ('cb', 68): 4684, ('clad', 68): 4685, ('kathryn', 68): 4686, ('hug', 68): 4687, ('traffic', 68): 4688, ('undermin', 68): 4689, ('heartwarm', 68): 4690, ('loretta', 68): 4691, ('timberlak', 68): 4692, ('cycl', 68): 4693, ('recit', 68): 4694, ('frontier', 68): 4695, ('artwork', 68): 4696, ('dame', 68): 4697, ('jade', 68): 4698, ('helm', 68): 4699, ('proclaim', 68): 4700, ('submit', 68): 4701, ('wendigo', 68): 4702, ('parson', 68): 4703, ('rot', 68): 4704, ('dim', 68): 4705, ('miracul', 68): 4706, ('banter', 68): 4707, ('prophet', 68): 4708, ('europa', 68): 4709, ('colin', 68): 4710, ('harrison', 68): 4711, ('cher', 68): 4712, ('luka', 68): 4713, ('carlo', 68): 4714, ('vibrant', 68): 4715, ('dylan', 68): 4716, ('bate', 68): 4717, ('fragil', 68): 4718, ('cliffhang', 68): 4719, ('anton', 68): 4720, ('pickford', 68): 4721, ('neill', 68): 4722, ('pacif', 68): 4723, ('pixar', 68): 4724, ('http', 67): 4725, ('seedi', 67): 4726, ('static', 67): 4727, ('breakfast', 67): 4728, ('foil', 67): 4729, ('misfortun', 67): 4730, ('winchest', 67): 4731, ('blatantli', 67): 4732, ('jo', 67): 4733, ('venom', 67): 4734, ('holocaust', 67): 4735, ('wardrob', 67): 4736, ('lucil', 67): 4737, ('flavor', 67): 4738, ('choke', 67): 4739, ('aris', 67): 4740, ('feast', 67): 4741, ('shepherd', 67): 4742, ('toronto', 67): 4743, ('illus', 67): 4744, ('trier', 67): 4745, ('pc', 67): 4746, ('milo', 67): 4747, ('isra', 67): 4748, ('cerebr', 67): 4749, ('eli', 67): 4750, ('northern', 67): 4751, ('bondag', 67): 4752, ('bikini', 67): 4753, ('articl', 67): 4754, ('vile', 67): 4755, ('marlon', 67): 4756, ('akin', 67): 4757, ('razor', 67): 4758, ('redneck', 67): 4759, ('uma', 67): 4760, ('jordan', 67): 4761, ('nope', 67): 4762, ('orphan', 67): 4763, ('sicken', 67): 4764, ('estrang', 67): 4765, ('token', 67): 4766, ('vanessa', 67): 4767, ('rooki', 67): 4768, ('mason', 67): 4769, ('legitim', 67): 4770, ('electron', 67): 4771, ('alexandr', 67): 4772, ('antholog', 67): 4773, ('mathieu', 67): 4774, ('lui', 67): 4775, ('gilbert', 66): 4776, ('comprehend', 66): 4777, ('abund', 66): 4778, ('clinic', 66): 4779, ('linear', 66): 4780, ('disregard', 66): 4781, ('turd', 66): 4782, ('affleck', 66): 4783, ('oppon', 66): 4784, ('knightley', 66): 4785, ('deem', 66): 4786, ('psych', 66): 4787, ('magician', 66): 4788, ('fifth', 66): 4789, ('smack', 66): 4790, ('cartoonish', 66): 4791, ('outdat', 66): 4792, ('glare', 66): 4793, ('howl', 66): 4794, ('leather', 66): 4795, ('retriev', 66): 4796, ('feminin', 66): 4797, ('ideolog', 66): 4798, ('ceremoni', 66): 4799, ('shorter', 66): 4800, ('huston', 66): 4801, ('charlton', 66): 4802, ('dudley', 66): 4803, ('peer', 66): 4804, ('wrestler', 66): 4805, ('tack', 66): 4806, ('styliz', 66): 4807, ('swept', 66): 4808, ('gunga', 66): 4809, ('highway', 66): 4810, ('nightclub', 66): 4811, ('audrey', 66): 4812, ('boyer', 66): 4813, ('frog', 66): 4814, ('plate', 65): 4815, ('energet', 65): 4816, ('boo', 65): 4817, ('bastard', 65): 4818, ('snatch', 65): 4819, ('evolut', 65): 4820, ('durat', 65): 4821, ('1991', 65): 4822, ('greet', 65): 4823, ('moe', 65): 4824, ('lavish', 65): 4825, ('cemeteri', 65): 4826, ('potter', 65): 4827, ('senat', 65): 4828, ('mitch', 65): 4829, ('toe', 65): 4830, ('tara', 65): 4831, ('spawn', 65): 4832, ('bogu', 65): 4833, ('whack', 65): 4834, ('newer', 65): 4835, ('sleaz', 65): 4836, ('uniformli', 65): 4837, ('breakdown', 65): 4838, ('collector', 65): 4839, ('summar', 65): 4840, ('compris', 65): 4841, ('spine', 65): 4842, ('1994', 65): 4843, ('deliver', 65): 4844, ('chip', 65): 4845, ('braveheart', 65): 4846, ('btw', 65): 4847, ('phenomen', 65): 4848, ('conrad', 65): 4849, ('einstein', 65): 4850, ('goldsworthi', 65): 4851, ('lighter', 65): 4852, ('salman', 65): 4853, ('monument', 65): 4854, ('lifeless', 65): 4855, ('4th', 65): 4856, ('client', 65): 4857, ('cuban', 65): 4858, ('corn', 65): 4859, ('1977', 64): 4860, ('ie', 64): 4861, ('1974', 64): 4862, ('healthi', 64): 4863, ('wtf', 64): 4864, ('evelyn', 64): 4865, ('clara', 64): 4866, ('trauma', 64): 4867, ('eleven', 64): 4868, ('occup', 64): 4869, ('neatli', 64): 4870, ('judd', 64): 4871, ('randolph', 64): 4872, ('jam', 64): 4873, ('belli', 64): 4874, ('historian', 64): 4875, ('spectacl', 64): 4876, ('bulk', 64): 4877, ('pronounc', 64): 4878, ('nina', 64): 4879, ('undertak', 64): 4880, ('armstrong', 64): 4881, ('sorrow', 64): 4882, ('alleg', 64): 4883, ('inaccuraci', 64): 4884, ('creek', 64): 4885, ('appl', 64): 4886, ('kazan', 64): 4887, ('replay', 64): 4888, ('cecil', 64): 4889, ('constitut', 64): 4890, ('signal', 64): 4891, ('fluid', 64): 4892, ('undead', 64): 4893, ('capot', 64): 4894, ('jule', 64): 4895, ('jedi', 64): 4896, ('firmli', 64): 4897, ('gilliam', 64): 4898, ('liu', 64): 4899, ('bori', 64): 4900, ('luxuri', 64): 4901, ('kent', 64): 4902, ('lex', 64): 4903, ('embark', 64): 4904, ('mcqueen', 64): 4905, ('outright', 64): 4906, ('ol', 64): 4907, ('jare', 64): 4908, ('spray', 63): 4909, ('decapit', 63): 4910, ('walt', 63): 4911, ('propheci', 63): 4912, ('aussi', 63): 4913, ('knee', 63): 4914, ('paula', 63): 4915, ('curtain', 63): 4916, ('unsuspect', 63): 4917, ('inaccur', 63): 4918, ('congratul', 63): 4919, ('pioneer', 63): 4920, ('ash', 63): 4921, ('blur', 63): 4922, ('unattract', 63): 4923, ('genet', 63): 4924, ('bait', 63): 4925, ('kiddi', 63): 4926, ('goldblum', 63): 4927, ('roar', 63): 4928, ('lauren', 63): 4929, ('subtli', 63): 4930, ('truman', 63): 4931, ('pepper', 63): 4932, ('porter', 63): 4933, ('id', 63): 4934, ('inclus', 63): 4935, ('mum', 63): 4936, ('meal', 63): 4937, ('1985', 63): 4938, ('sacrif', 63): 4939, ('vain', 63): 4940, ('comprehens', 63): 4941, ('carmen', 63): 4942, ('forgiven', 63): 4943, ('galaxi', 63): 4944, ('vignett', 63): 4945, ('antonio', 63): 4946, ('miami', 63): 4947, ('comb', 63): 4948, ('cape', 63): 4949, ('groan', 63): 4950, ('palm', 63): 4951, ('relentless', 63): 4952, ('fruit', 63): 4953, ('rosario', 63): 4954, ('abound', 63): 4955, ('poker', 63): 4956, ('conan', 63): 4957, ('miniseri', 63): 4958, ('basket', 63): 4959, ('sidewalk', 63): 4960, ('lanc', 63): 4961, ('bsg', 63): 4962, ('tokyo', 63): 4963, ('rapidli', 62): 4964, ('bach', 62): 4965, ('weari', 62): 4966, ('victorian', 62): 4967, ('growth', 62): 4968, ('vastli', 62): 4969, ('casper', 62): 4970, ('asset', 62): 4971, ('modest', 62): 4972, ('epitom', 62): 4973, ('profil', 62): 4974, ('substanti', 62): 4975, ('verg', 62): 4976, ('hostil', 62): 4977, ('assort', 62): 4978, ('dubiou', 62): 4979, ('frontal', 62): 4980, ('ghetto', 62): 4981, ('macabr', 62): 4982, ('mice', 62): 4983, ('cypher', 62): 4984, ('hackman', 62): 4985, ('masterson', 62): 4986, ('drone', 62): 4987, ('sparkl', 62): 4988, ('detach', 62): 4989, ('bravo', 62): 4990, ('playboy', 62): 4991, ('reincarn', 62): 4992, ('turtl', 62): 4993, ('evan', 62): 4994, ('handicap', 62): 4995, ('scarfac', 62): 4996, ('optimist', 62): 4997, ('orchestr', 62): 4998, ('jill', 62): 4999}\n"
     ]
    }
   ],
   "source": [
    "print(word_dict_raw)"
   ]
  },
  {
   "cell_type": "code",
   "execution_count": 90,
   "metadata": {},
   "outputs": [],
   "source": [
    "ls_words=[]\n",
    "ls_count=[]\n",
    "word_dict={}\n",
    "\n",
    "for word in word_dict_raw:\n",
    "    #print(word)\n",
    "    ls_words.append(word[0])\n",
    "    ls_count.append(word[1])\n",
    "\n",
    "word_dict=dict(zip(ls_words, ls_count))"
   ]
  },
  {
   "cell_type": "code",
   "execution_count": 91,
   "metadata": {},
   "outputs": [
    {
     "name": "stdout",
     "output_type": "stream",
     "text": [
      "{'movi': 51695, 'film': 48190, 'one': 27741, 'like': 22799, 'time': 16191, 'good': 15360, 'make': 15207, 'charact': 14178, 'get': 14141, 'see': 14111, 'watch': 13940, 'stori': 13168, 'even': 12906, 'would': 12436, 'realli': 11736, 'well': 11042, 'scene': 10586, 'look': 10051, 'show': 9878, 'much': 9765, 'end': 9651, 'peopl': 9391, 'bad': 9344, 'go': 9305, 'great': 9171, 'also': 9156, 'first': 9062, 'love': 9027, 'think': 8913, 'way': 8830, 'act': 8794, 'play': 8730, 'made': 8362, 'thing': 8213, 'could': 7921, 'know': 7514, 'say': 7457, 'seem': 7220, 'work': 7101, 'plot': 6967, 'two': 6908, 'actor': 6876, 'year': 6874, 'come': 6747, 'mani': 6688, 'seen': 6681, 'take': 6654, 'life': 6640, 'want': 6640, 'never': 6484, 'littl': 6435, 'best': 6424, 'tri': 6357, 'man': 6036, 'ever': 5999, 'give': 5792, 'better': 5749, 'still': 5664, 'perform': 5528, 'find': 5449, 'feel': 5300, 'part': 5247, 'back': 5133, 'use': 5123, 'someth': 5122, 'director': 5120, 'actual': 5065, 'interest': 4893, 'lot': 4778, 'real': 4741, 'old': 4583, 'cast': 4573, 'though': 4566, 'live': 4477, 'star': 4447, 'enjoy': 4353, 'guy': 4339, 'anoth': 4325, 'new': 4315, 'role': 4300, 'noth': 4296, '10': 4289, 'funni': 4288, 'music': 4247, 'point': 4238, 'start': 4166, 'set': 4116, 'girl': 4064, 'origin': 4044, 'day': 4013, 'world': 3979, 'everi': 3977, 'believ': 3917, 'turn': 3880, 'quit': 3841, 'direct': 3794, 'us': 3794, 'thought': 3773, 'fact': 3749, 'minut': 3739, 'horror': 3717, 'kill': 3701, 'action': 3694, 'comedi': 3686, 'pretti': 3665, 'young': 3664, 'wonder': 3639, 'happen': 3624, 'around': 3616, 'got': 3583, 'effect': 3581, 'right': 3554, 'long': 3540, 'howev': 3537, 'big': 3477, 'line': 3458, 'famili': 3454, 'enough': 3452, 'seri': 3420, 'may': 3392, 'need': 3378, 'fan': 3370, 'bit': 3348, 'script': 3342, 'beauti': 3292, 'person': 3274, 'becom': 3272, 'without': 3268, 'must': 3250, 'alway': 3243, 'friend': 3230, 'tell': 3215, 'reason': 3206, 'saw': 3178, 'last': 3158, 'final': 3153, 'kid': 3148, 'almost': 3139, 'put': 3132, 'least': 3112, 'sure': 3100, 'done': 3096, 'whole': 3080, 'place': 3048, 'complet': 3035, 'kind': 3008, 'expect': 3007, 'differ': 3007, 'shot': 2998, 'far': 2978, 'mean': 2961, 'anyth': 2949, 'book': 2935, 'laugh': 2926, 'might': 2919, 'name': 2917, 'sinc': 2906, 'begin': 2905, '2': 2882, 'probabl': 2874, 'woman': 2838, 'help': 2828, 'entertain': 2827, 'let': 2821, 'screen': 2799, 'call': 2792, 'tv': 2786, 'moment': 2784, 'away': 2782, 'read': 2762, 'yet': 2753, 'rather': 2733, 'worst': 2731, 'run': 2723, 'fun': 2694, 'lead': 2684, 'hard': 2681, 'audienc': 2675, 'idea': 2638, 'anyon': 2632, 'episod': 2629, 'american': 2618, 'found': 2608, 'appear': 2567, 'bore': 2549, 'especi': 2539, 'although': 2537, 'hope': 2529, 'keep': 2520, 'cours': 2520, 'anim': 2483, 'job': 2461, 'goe': 2441, 'move': 2434, 'sens': 2416, 'dvd': 2410, 'version': 2410, 'war': 2394, 'money': 2370, 'someon': 2363, 'mind': 2354, 'mayb': 2340, 'problem': 2337, 'true': 2333, 'hous': 2328, 'everyth': 2323, 'nice': 2312, 'second': 2309, 'rate': 2300, 'three': 2297, 'night': 2293, 'follow': 2292, 'face': 2292, 'recommend': 2290, 'product': 2283, 'main': 2283, 'worth': 2280, 'leav': 2272, 'human': 2262, 'special': 2258, 'excel': 2251, 'togeth': 2247, 'wast': 2229, 'everyon': 2228, 'sound': 2228, 'john': 2222, 'hand': 2221, '1': 2213, 'father': 2206, 'later': 2202, 'eye': 2200, 'said': 2196, 'view': 2193, 'instead': 2190, 'review': 2184, 'boy': 2178, 'high': 2174, 'hour': 2164, 'miss': 2160, 'classic': 2159, 'talk': 2159, 'wife': 2140, 'understand': 2132, 'left': 2125, 'care': 2124, 'black': 2123, 'death': 2113, 'open': 2103, 'murder': 2102, 'write': 2096, 'half': 2094, 'head': 2075, 'rememb': 2070, 'chang': 2062, 'viewer': 2047, 'fight': 2040, 'gener': 2022, 'surpris': 2021, 'includ': 2020, 'short': 2020, 'die': 2012, 'fall': 2004, 'less': 2003, 'els': 2002, 'entir': 1993, 'piec': 1981, 'involv': 1980, 'pictur': 1968, 'simpli': 1965, 'power': 1957, 'top': 1957, 'home': 1957, 'total': 1948, 'usual': 1946, 'budget': 1933, 'attempt': 1932, 'suppos': 1924, 'releas': 1921, 'hollywood': 1920, 'terribl': 1917, 'song': 1916, 'men': 1915, 'possibl': 1913, 'featur': 1903, 'portray': 1902, 'disappoint': 1900, '3': 1899, 'poor': 1899, 'coupl': 1894, 'camera': 1888, 'stupid': 1888, 'dead': 1883, 'wrong': 1872, 'low': 1870, 'produc': 1870, 'either': 1866, 'video': 1866, 'aw': 1861, 'definit': 1856, 'except': 1854, 'rest': 1852, 'given': 1849, 'absolut': 1845, 'women': 1827, 'lack': 1821, 'word': 1817, 'writer': 1814, 'titl': 1793, 'talent': 1787, 'decid': 1786, 'full': 1783, 'perfect': 1778, 'along': 1777, 'style': 1760, 'close': 1744, 'truli': 1743, 'school': 1732, 'emot': 1731, 'save': 1731, 'age': 1726, 'sex': 1726, 'next': 1716, 'bring': 1715, 'mr': 1708, 'case': 1706, 'killer': 1700, 'heart': 1688, 'comment': 1687, 'sort': 1684, 'creat': 1683, 'perhap': 1681, 'came': 1673, 'brother': 1664, 'sever': 1663, 'joke': 1656, 'art': 1653, 'dialogu': 1652, 'game': 1651, 'small': 1648, 'base': 1645, 'flick': 1629, 'written': 1616, 'sequenc': 1609, 'meet': 1608, 'earli': 1605, 'often': 1601, 'other': 1598, 'mother': 1597, 'develop': 1595, 'humor': 1592, 'actress': 1588, 'consid': 1585, 'dark': 1573, 'guess': 1565, 'amaz': 1563, 'unfortun': 1562, 'light': 1555, 'lost': 1555, 'exampl': 1554, 'cinema': 1553, 'drama': 1552, 'ye': 1551, 'white': 1551, 'experi': 1548, 'imagin': 1547, 'mention': 1545, 'stop': 1543, 'natur': 1541, 'forc': 1534, 'manag': 1529, 'felt': 1528, 'present': 1520, 'cut': 1520, 'children': 1515, 'fail': 1511, 'son': 1506, 'support': 1505, 'qualiti': 1505, 'car': 1505, 'ask': 1500, 'hit': 1497, 'side': 1490, 'voic': 1482, 'extrem': 1473, 'impress': 1472, 'wors': 1468, 'evil': 1468, 'went': 1463, 'stand': 1463, 'certainli': 1462, 'basic': 1453, 'oh': 1450, 'overal': 1434, 'favorit': 1421, 'horribl': 1418, 'mysteri': 1416, 'number': 1413, 'type': 1408, 'danc': 1405, 'wait': 1400, 'hero': 1389, 'alreadi': 1381, '5': 1381, 'learn': 1375, 'matter': 1373, '4': 1372, 'michael': 1370, 'genr': 1367, 'fine': 1366, 'despit': 1364, 'throughout': 1360, 'walk': 1358, 'success': 1344, 'histori': 1338, 'question': 1333, 'zombi': 1331, 'town': 1328, 'realiz': 1327, 'relationship': 1327, 'child': 1324, 'past': 1324, 'daughter': 1312, 'late': 1309, 'b': 1306, 'wish': 1303, 'credit': 1295, 'hate': 1295, 'event': 1293, 'theme': 1292, 'touch': 1284, 'citi': 1283, 'today': 1282, 'sometim': 1281, 'behind': 1280, 'god': 1271, 'twist': 1268, 'sit': 1263, 'stay': 1260, 'deal': 1260, 'annoy': 1260, 'abl': 1259, 'rent': 1256, 'pleas': 1253, 'edit': 1250, 'blood': 1245, 'deserv': 1236, 'anyway': 1230, 'comic': 1230, 'appar': 1226, 'soon': 1222, 'gave': 1216, 'etc': 1212, 'level': 1210, 'slow': 1207, 'chanc': 1204, 'score': 1203, 'bodi': 1199, 'brilliant': 1196, 'incred': 1194, 'figur': 1190, 'situat': 1188, 'major': 1185, 'self': 1185, 'stuff': 1181, 'decent': 1178, 'element': 1176, 'return': 1174, 'dream': 1174, 'obvious': 1168, 'order': 1159, 'continu': 1159, 'pace': 1156, 'ridicul': 1154, 'happi': 1151, 'add': 1147, 'group': 1147, 'highli': 1147, 'thank': 1146, 'ladi': 1145, 'novel': 1130, 'pain': 1129, 'speak': 1129, 'career': 1116, 'shoot': 1115, 'strang': 1114, 'heard': 1111, 'sad': 1108, 'husband': 1105, 'polic': 1105, 'import': 1103, 'break': 1101, 'took': 1100, 'strong': 1096, 'cannot': 1096, 'predict': 1095, 'robert': 1095, 'violenc': 1091, 'hilari': 1090, 'recent': 1089, 'countri': 1086, 'known': 1081, 'particularli': 1079, 'pick': 1078, 'documentari': 1074, 'season': 1072, 'critic': 1071, 'jame': 1069, 'compar': 1068, 'alon': 1066, 'obviou': 1066, 'told': 1063, 'state': 1060, 'visual': 1058, 'rock': 1058, 'offer': 1057, 'theater': 1057, 'exist': 1057, 'opinion': 1056, 'gore': 1055, 'crap': 1054, 'hold': 1054, 'result': 1052, 'hear': 1050, 'room': 1050, 'realiti': 1050, 'effort': 1047, 'clich': 1047, 'thriller': 1046, 'caus': 1044, 'explain': 1042, 'serious': 1042, 'sequel': 1042, 'king': 1036, 'local': 1035, 'ago': 1033, 'hell': 1032, 'none': 1032, 'note': 1027, 'allow': 1026, 'sister': 1025, 'david': 1025, 'simpl': 1023, 'femal': 1022, 'deliv': 1021, 'ok': 1017, 'convinc': 1012, 'class': 1012, 'check': 1011, 'suspens': 1009, 'win': 1008, 'oscar': 1007, 'buy': 1007, 'huge': 1006, 'valu': 1004, 'sexual': 1000, 'scari': 998, 'cool': 998, 'similar': 996, 'excit': 996, 'apart': 995, 'exactli': 995, 'provid': 995, 'avoid': 994, 'shown': 994, 'seriou': 989, 'english': 987, 'taken': 986, 'whose': 986, 'cinematographi': 983, 'shock': 979, 'polit': 978, 'spoiler': 976, 'offic': 975, 'across': 971, 'middl': 969, 'street': 968, 'pass': 968, 'messag': 966, 'somewhat': 965, 'silli': 965, 'charm': 965, 'modern': 964, 'filmmak': 959, 'confus': 959, 'form': 957, 'tale': 956, 'singl': 950, 'jack': 945, 'mostli': 941, 'attent': 940, 'carri': 940, 'william': 940, 'sing': 939, 'five': 938, 'subject': 938, 'prove': 937, 'richard': 937, 'stage': 935, 'team': 935, 'unlik': 934, 'cop': 934, 'georg': 933, 'monster': 932, 'televis': 932, 'earth': 929, 'cover': 927, 'villain': 927, 'pay': 924, 'marri': 923, 'toward': 922, 'build': 921, 'parent': 920, 'pull': 920, 'due': 918, 'fill': 917, 'respect': 917, 'dialog': 915, 'four': 915, 'remind': 913, 'futur': 912, 'typic': 908, 'weak': 908, '7': 904, 'cheap': 903, 'intellig': 902, 'atmospher': 901, 'british': 901, '80': 899, 'clearli': 899, 'dog': 898, 'non': 898, 'paul': 898, 'fast': 897, 'artist': 897, '8': 897, 'knew': 897, 'crime': 896, 'easili': 892, 'escap': 889, 'doubt': 887, 'adult': 887, 'detail': 884, 'date': 883, 'member': 879, 'romant': 879, 'fire': 879, 'gun': 872, 'drive': 872, 'straight': 869, 'beyond': 866, 'fit': 866, 'attack': 864, 'imag': 860, 'upon': 859, 'posit': 858, 'whether': 856, 'fantast': 855, 'peter': 855, 'aspect': 852, 'appreci': 852, 'captur': 852, 'ten': 851, 'plan': 850, 'discov': 849, 'remain': 846, 'near': 843, 'period': 843, 'air': 842, 'realist': 842, 'mark': 838, 'red': 837, 'dull': 836, 'adapt': 835, 'within': 832, 'lose': 828, 'spend': 828, 'color': 827, 'materi': 827, 'chase': 824, 'mari': 823, 'storylin': 822, 'forget': 821, 'bunch': 819, 'clear': 818, 'lee': 817, 'victim': 816, 'nearli': 815, 'box': 813, 'york': 812, 'inspir': 811, 'match': 811, 'mess': 809, 'finish': 809, 'standard': 808, 'easi': 806, 'truth': 805, 'busi': 802, 'suffer': 802, 'dramat': 799, 'bill': 799, 'space': 799, 'western': 798, 'e': 797, 'list': 796, 'battl': 795, 'notic': 793, 'de': 792, 'french': 790, 'ad': 788, '9': 787, 'tom': 785, 'larg': 784, 'among': 783, 'eventu': 782, 'train': 781, 'accept': 781, 'agre': 779, 'soundtrack': 778, 'spirit': 778, 'third': 776, 'teenag': 775, 'adventur': 773, 'soldier': 773, 'suggest': 771, 'famou': 771, 'sorri': 771, 'drug': 771, 'normal': 770, 'cri': 770, 'babi': 770, 'troubl': 769, 'ultim': 769, 'contain': 765, 'certain': 764, 'cultur': 762, 'romanc': 760, 'rare': 759, 'lame': 758, 'somehow': 757, 'disney': 755, 'mix': 755, 'gone': 754, 'cartoon': 753, 'student': 752, 'fear': 751, 'reveal': 751, 'suck': 750, 'kept': 750, 'attract': 749, 'appeal': 748, 'premis': 747, 'design': 745, 'secret': 745, 'greatest': 745, 'shame': 743, 'throw': 742, 'scare': 741, 'copi': 741, 'wit': 739, 'america': 738, 'admit': 738, 'particular': 737, 'brought': 737, 'relat': 737, 'screenplay': 735, 'whatev': 734, 'pure': 733, '70': 732, 'averag': 730, 'harri': 730, 'master': 729, 'describ': 728, 'treat': 727, 'male': 727, '20': 726, 'fantasi': 725, 'issu': 725, 'warn': 724, 'inde': 722, 'forward': 719, 'background': 719, 'project': 717, 'free': 717, 'japanes': 714, 'memor': 714, 'poorli': 713, 'award': 712, 'locat': 711, 'amus': 710, 'potenti': 710, 'struggl': 709, 'magic': 708, 'weird': 708, 'societi': 707, 'okay': 706, 'accent': 704, 'imdb': 704, 'doctor': 704, 'water': 703, 'hot': 703, 'express': 702, 'alien': 702, 'dr': 702, '30': 702, 'odd': 701, 'choic': 699, 'crazi': 699, 'studio': 698, 'fiction': 698, 'control': 697, 'becam': 697, 'masterpiec': 696, 'difficult': 695, 'fli': 695, 'joe': 692, 'scream': 690, 'costum': 689, 'lover': 688, 'uniqu': 687, 'refer': 687, 'remak': 686, 'girlfriend': 684, 'vampir': 684, 'prison': 682, 'execut': 680, 'wear': 678, 'jump': 677, 'unless': 675, 'wood': 675, 'creepi': 673, 'cheesi': 672, 'superb': 671, 'otherwis': 670, 'parti': 668, 'ghost': 666, 'roll': 666, 'mad': 664, 'public': 664, 'depict': 663, 'week': 662, 'moral': 662, 'badli': 662, 'earlier': 662, 'jane': 662, 'fi': 660, 'dumb': 660, 'flaw': 659, 'grow': 659, 'sci': 658, 'deep': 658, 'cat': 657, 'maker': 657, 'older': 656, 'connect': 656, 'footag': 656, 'bother': 655, 'plenti': 655, 'outsid': 653, 'stick': 650, 'gay': 649, 'catch': 647, 'co': 645, 'plu': 645, 'popular': 643, 'equal': 642, 'social': 641, 'quickli': 639, 'disturb': 639, 'perfectli': 637, 'dress': 636, '90': 635, 'era': 635, 'mistak': 634, 'lie': 632, 'ride': 630, 'previou': 630, 'combin': 629, 'concept': 627, 'band': 627, 'surviv': 626, 'answer': 626, 'rich': 626, 'front': 624, 'sweet': 623, 'christma': 623, 'insid': 622, 'bare': 621, 'eat': 621, 'concern': 621, 'ben': 619, 'listen': 619, 'beat': 619, 'c': 617, 'term': 615, 'serv': 615, 'meant': 614, 'german': 614, 'la': 614, 'hardli': 613, 'stereotyp': 613, 'innoc': 609, 'law': 609, 'desper': 608, 'memori': 607, 'promis': 607, 'intent': 604, 'cute': 604, 'inform': 603, 'steal': 603, 'variou': 603, 'brain': 601, 'post': 600, 'tone': 599, 'island': 598, 'amount': 597, 'track': 596, 'compani': 596, 'nuditi': 596, 'claim': 595, 'store': 595, 'flat': 594, '50': 594, 'hair': 594, 'univers': 592, 'land': 592, 'fairli': 587, 'danger': 587, 'kick': 587, 'scott': 587, 'player': 586, 'plain': 584, 'crew': 584, 'step': 584, 'toni': 582, 'share': 581, 'centuri': 580, 'tast': 580, 'achiev': 578, 'engag': 578, 'cold': 577, 'travel': 577, 'record': 576, 'rip': 576, 'suit': 576, 'sadli': 575, 'manner': 575, 'wrote': 574, 'spot': 574, 'tension': 574, 'fascin': 573, 'intens': 573, 'familiar': 572, 'remark': 570, 'depth': 570, 'burn': 570, 'destroy': 569, 'histor': 569, 'sleep': 568, 'purpos': 567, 'languag': 566, 'ignor': 565, 'ruin': 565, 'delight': 564, 'italian': 563, 'unbeliev': 563, 'collect': 562, 'abil': 562, 'soul': 562, 'clever': 561, 'detect': 561, 'violent': 560, 'rape': 559, 'reach': 558, 'door': 557, 'liter': 556, 'trash': 556, 'scienc': 556, 'commun': 555, 'reveng': 555, 'caught': 555, 'creatur': 554, 'approach': 552, 'trip': 552, 'fashion': 550, 'intrigu': 550, 'skill': 549, 'introduc': 549, 'paint': 549, 'complex': 548, 'channel': 548, 'camp': 546, 'christian': 544, 'hole': 543, 'extra': 543, 'limit': 542, 'ann': 542, 'immedi': 542, 'mental': 542, 'mere': 541, 'comput': 541, 'slightli': 541, '6': 541, 'million': 541, 'conclus': 539, 'slasher': 539, 'suddenli': 538, 'imposs': 538, 'crimin': 537, 'teen': 537, 'neither': 537, 'spent': 536, 'physic': 536, 'nation': 536, 'respons': 535, 'planet': 534, 'fake': 532, 'receiv': 532, 'sick': 531, 'blue': 531, 'bizarr': 529, 'embarrass': 528, 'indian': 527, '15': 525, 'ring': 525, 'drop': 524, 'pop': 524, 'drag': 523, 'haunt': 521, 'pointless': 519, 'suspect': 519, 'search': 517, 'edg': 517, 'handl': 516, 'biggest': 515, 'common': 515, 'arriv': 514, 'hurt': 514, 'faith': 514, 'technic': 513, 'angel': 512, 'dad': 511, 'genuin': 511, 'f': 510, 'solid': 510, 'awesom': 510, 'colleg': 509, 'former': 509, 'focu': 509, 'van': 509, 'count': 507, 'tear': 506, 'heavi': 506, 'wall': 505, 'rais': 505, 'laughabl': 504, 'younger': 504, 'visit': 504, 'sign': 503, 'excus': 503, 'fair': 503, 'cult': 502, 'tough': 501, 'key': 501, 'motion': 501, 'super': 500, 'desir': 500, 'stun': 499, 'addit': 499, 'cloth': 497, 'exploit': 497, 'tortur': 496, 'smith': 496, 'race': 495, 'davi': 495, 'author': 494, 'cross': 494, 'jim': 492, 'consist': 491, 'minor': 491, 'focus': 491, 'compel': 491, 'pathet': 490, 'chemistri': 490, 'commit': 490, 'park': 489, 'frank': 488, 'obsess': 488, 'tradit': 488, 'grade': 487, 'asid': 486, '60': 486, 'brutal': 485, 'somewher': 483, 'steve': 483, 'rule': 482, 'u': 482, 'opportun': 482, 'grant': 482, 'depress': 482, 'explor': 482, 'honest': 481, 'besid': 481, 'dub': 480, 'anti': 480, 'trailer': 479, 'intend': 479, 'bar': 478, 'longer': 477, 'scientist': 477, 'west': 477, 'regard': 477, 'judg': 476, 'decad': 476, 'silent': 475, 'creativ': 474, 'armi': 474, 'wild': 473, 'g': 472, 'stewart': 472, 'south': 472, 'draw': 471, 'road': 470, 'govern': 469, 'ex': 468, 'boss': 468, 'practic': 467, 'surprisingli': 466, 'motiv': 466, 'festiv': 466, 'gang': 466, 'club': 466, 'green': 465, 'redeem': 465, 'page': 465, 'london': 465, 'display': 464, 'idiot': 464, 'aliv': 464, 'machin': 464, 'militari': 464, 'thrill': 463, 'repeat': 463, 'nobodi': 462, 'yeah': 462, 'folk': 462, '100': 462, '40': 461, 'journey': 460, 'garbag': 460, 'smile': 459, 'tire': 459, 'ground': 459, 'bought': 458, 'mood': 458, 'cost': 457, 'stone': 457, 'sam': 457, 'noir': 456, 'mouth': 456, 'agent': 455, 'terrif': 455, 'utterli': 454, 'requir': 454, 'honestli': 453, 'sexi': 453, 'area': 453, 'report': 452, 'geniu': 452, 'glad': 451, 'enter': 451, 'humour': 451, 'investig': 451, 'serial': 450, 'narr': 449, 'occasion': 449, 'passion': 449, 'climax': 448, 'marriag': 448, 'industri': 447, 'studi': 447, 'demon': 446, 'center': 446, 'charli': 446, 'ship': 446, 'nowher': 446, 'hors': 445, 'bear': 445, 'loos': 445, 'hang': 444, 'wow': 444, 'graphic': 442, 'giant': 440, 'admir': 440, 'send': 439, 'loud': 438, 'damn': 438, 'subtl': 437, 'profession': 437, 'rel': 437, 'nake': 437, 'blow': 436, 'bottom': 435, 'insult': 434, 'batman': 434, 'doubl': 433, 'r': 433, 'kelli': 433, 'boyfriend': 433, 'initi': 431, 'frame': 430, 'opera': 429, 'gem': 429, 'drawn': 428, 'affect': 428, 'cinemat': 428, 'church': 428, 'challeng': 428, 'nightmar': 426, 'evid': 426, 'seek': 426, 'fulli': 426, 'l': 426, 'j': 426, 'essenti': 425, 'conflict': 425, 'arm': 425, 'grace': 424, 'christoph': 424, 'henri': 424, 'wind': 424, 'witch': 423, 'narrat': 423, 'assum': 423, 'hunt': 422, 'push': 422, 'chri': 421, 'wise': 421, 'nomin': 420, 'repres': 420, 'month': 420, 'avail': 419, 'affair': 419, 'sceneri': 419, 'hide': 419, 'justic': 418, 'smart': 418, 'thu': 418, 'bond': 418, 'interview': 417, 'outstand': 417, 'flashback': 417, 'constantli': 416, 'satisfi': 416, 'presenc': 416, 'central': 415, 'bed': 415, 'sell': 414, 'content': 414, 'iron': 414, 'gag': 413, 'everybodi': 413, 'slowli': 412, 'hotel': 412, 'hire': 411, 'system': 410, 'individu': 409, 'hey': 409, 'adam': 409, 'charl': 409, 'thrown': 409, 'mediocr': 408, 'allen': 408, 'jone': 408, 'ray': 407, 'lesson': 407, 'billi': 407, 'cameo': 406, 'photographi': 406, 'pari': 405, 'fellow': 405, 'strike': 404, 'rise': 403, 'absurd': 403, 'brief': 403, 'independ': 403, 'neg': 402, 'phone': 401, 'impact': 401, 'ill': 400, 'born': 400, 'model': 400, 'angl': 399, 'fresh': 399, 'spoil': 399, 'abus': 398, 'likabl': 398, 'hill': 397, 'discuss': 397, 'ahead': 396, 'sight': 396, 'sent': 395, 'photograph': 395, 'shine': 394, 'occur': 394, 'logic': 394, 'blame': 394, 'bruce': 393, 'mainli': 393, 'skip': 392, 'forev': 392, 'commerci': 392, 'held': 391, 'surround': 391, 'segment': 391, 'teacher': 391, 'zero': 390, 'blond': 390, 'resembl': 389, 'trap': 389, 'summer': 389, 'satir': 389, 'six': 388, 'fool': 388, 'ball': 388, 'queen': 388, 'twice': 387, 'tragedi': 387, 'sub': 387, 'pack': 386, 'reaction': 386, 'bomb': 385, 'protagonist': 384, 'will': 384, 'hospit': 384, 'mile': 383, 'sport': 383, 'jerri': 382, 'trust': 382, 'vote': 382, 'drink': 382, 'mom': 382, 'encount': 381, 'plane': 380, 'current': 379, 'program': 379, 'al': 379, 'station': 379, 'celebr': 378, 'choos': 378, 'martin': 378, 'join': 377, 'field': 376, 'round': 376, 'tragic': 376, 'favourit': 376, 'lord': 376, 'jean': 375, 'vision': 375, 'robot': 375, 'tie': 374, 'arthur': 374, 'random': 373, 'fortun': 373, 'roger': 373, 'intern': 372, 'dread': 372, 'psycholog': 372, 'improv': 371, 'nonsens': 371, 'epic': 371, 'prefer': 371, 'pleasur': 370, 'legend': 370, 'formula': 370, 'highlight': 370, 'tape': 369, '11': 369, 'dollar': 369, 'thin': 368, 'porn': 368, 'wide': 368, 'gorgeou': 368, 'fox': 368, 'object': 368, 'ugli': 367, 'influenc': 367, 'buddi': 367, 'ii': 366, 'nasti': 366, 'prepar': 366, 'supposedli': 365, 'progress': 365, 'reflect': 365, 'warm': 365, 'worthi': 364, 'youth': 364, 'length': 362, 'latter': 362, 'unusu': 362, 'crash': 361, 'seven': 360, 'childhood': 360, 'shop': 360, 'superior': 360, 'remot': 359, 'theatr': 359, 'pilot': 358, 'paid': 358, 'disgust': 358, 'funniest': 358, 'castl': 357, 'trick': 357, 'fell': 357, 'convers': 357, 'establish': 356, 'disast': 356, 'gangster': 356, 'rob': 356, 'heaven': 355, 'disappear': 355, 'ident': 355, 'mine': 355, 'suicid': 355, 'tend': 353, 'forgotten': 353, 'decis': 353, 'singer': 353, 'heroin': 353, 'mask': 353, 'brian': 352, 'partner': 352, 'desert': 351, 'alan': 351, 'recogn': 351, 'thoroughli': 350, 'sky': 350, 'p': 350, 'stuck': 350, 'ms': 350, 'replac': 349, 'accur': 349, 'market': 348, 'uncl': 347, 'eddi': 347, 'danni': 347, 'seemingli': 347, 'andi': 347, 'clue': 347, 'commentari': 347, 'devil': 346, 'jackson': 346, 'therefor': 345, 'that': 345, 'refus': 345, 'pair': 345, 'fault': 344, 'fate': 344, 'river': 344, 'ed': 344, 'unit': 344, 'accid': 344, 'afraid': 343, 'tune': 343, 'clean': 342, 'stephen': 342, 'russian': 342, 'hidden': 342, 'instanc': 341, 'quick': 341, 'readi': 341, 'irrit': 341, 'test': 341, 'convey': 341, 'captain': 341, 'european': 340, 'daniel': 339, 'frustrat': 339, 'insan': 339, 'rescu': 338, '1950': 338, 'wed': 338, 'chines': 338, 'food': 338, 'dirti': 337, 'lock': 337, 'angri': 337, 'joy': 336, 'steven': 335, 'price': 335, 'bland': 334, 'cage': 334, 'anymor': 333, 'rang': 333, 'wooden': 332, 'jason': 331, 'rush': 331, 'news': 331, 'n': 331, 'board': 330, 'martial': 330, 'worri': 330, '12': 330, 'twenti': 330, 'led': 330, 'cgi': 329, 'symbol': 329, 'hunter': 329, 'transform': 329, 'invent': 328, 'sentiment': 328, 'x': 328, 'johnni': 328, 'onto': 328, 'piti': 328, 'process': 327, 'explan': 327, 'attitud': 327, 'owner': 326, 'awar': 326, 'aim': 325, 'energi': 324, 'floor': 324, 'favor': 324, 'necessari': 324, 'target': 324, 'opposit': 323, 'religi': 323, 'insight': 322, 'blind': 322, 'chick': 322, 'window': 322, 'movement': 321, 'possess': 320, 'deepli': 320, 'mountain': 320, 'comparison': 320, 'research': 320, 'grand': 319, 'whatsoev': 319, 'comed': 319, 'rain': 319, 'began': 318, 'mid': 318, 'bank': 318, 'shadow': 318, 'princ': 317, 'parodi': 317, 'weapon': 316, 'friendship': 316, 'pre': 316, 'credibl': 316, 'taylor': 316, 'flesh': 315, 'dougla': 315, 'teach': 315, 'terror': 314, 'hint': 314, 'bloodi': 314, 'protect': 314, 'marvel': 312, 'drunk': 311, 'accord': 311, 'anybodi': 311, 'watchabl': 311, 'load': 311, 'leader': 311, 'superman': 311, 'freddi': 310, 'brown': 310, 'tim': 309, 'appropri': 309, 'seat': 309, 'hitler': 309, 'jeff': 309, 'charg': 308, 'keaton': 308, 'villag': 308, 'unknown': 308, 'knock': 308, 'empti': 307, 'england': 307, 'unnecessari': 307, 'enemi': 307, 'media': 307, 'buck': 306, 'strength': 306, 'craft': 306, 'perspect': 306, 'dare': 306, 'utter': 306, 'wave': 306, 'kiss': 305, 'contrast': 305, 'correct': 305, 'nativ': 305, 'ford': 305, 'speed': 304, 'magnific': 304, 'distract': 304, 'knowledg': 304, 'soap': 304, 'anywher': 304, 'nazi': 304, 'chill': 304, 'breath': 303, 'mission': 303, 'ice': 303, 'fred': 303, '1980': 303, 'moon': 302, 'crowd': 302, 'joan': 302, 'jr': 302, 'frighten': 301, 'soft': 301, 'kate': 301, '000': 301, 'dan': 300, 'hundr': 300, 'nick': 300, 'dick': 300, 'simon': 299, 'dozen': 299, 'radio': 299, 'somebodi': 299, 'andrew': 298, 'loss': 298, 'thousand': 298, 'academi': 298, 'shakespear': 298, 'quot': 297, 'account': 297, 'root': 297, 'vehicl': 297, 'sum': 297, 'leg': 296, '1970': 296, 'behavior': 296, 'convent': 296, 'gold': 295, 'regular': 295, 'pretenti': 294, 'compet': 294, 'demand': 294, 'worker': 294, 'lynch': 293, 'interpret': 293, 'privat': 293, 'candi': 293, 'explos': 293, 'stretch': 293, 'japan': 293, 'notabl': 293, 'debut': 292, 'constant': 292, 'tarzan': 292, 'prais': 291, 'sea': 291, 'spi': 291, 'revolv': 291, 'translat': 291, 'franc': 290, 'sat': 290, 'technolog': 290, 'quiet': 290, 'jesu': 290, 'failur': 290, 'threaten': 290, 'ass': 290, 'aid': 289, 'kevin': 289, 'higher': 289, 'toy': 289, 'punch': 289, 'met': 289, 'vh': 288, 'interact': 288, 'mike': 288, 'abandon': 288, 'bet': 287, 'command': 287, 'confront': 287, 'separ': 287, 'site': 286, 'recal': 286, 'gotten': 286, 'belong': 286, 'techniqu': 286, 'stunt': 286, 'servic': 286, 'freak': 285, 'cabl': 285, 'foot': 285, 'bug': 285, 'bright': 284, 'fu': 284, 'capabl': 284, 'jimmi': 284, 'african': 284, 'boat': 283, 'clark': 283, 'stock': 283, 'succeed': 283, 'presid': 283, 'fat': 283, 'gene': 282, 'spanish': 282, 'structur': 282, 'paper': 281, 'kidnap': 281, 'whilst': 280, 'belief': 280, 'factor': 280, 'witti': 279, 'attend': 279, 'tree': 279, 'complic': 279, 'realism': 279, 'bob': 279, 'educ': 279, 'realis': 279, 'finest': 278, 'santa': 278, 'assist': 278, 'broken': 278, 'observ': 277, 'v': 277, 'determin': 277, 'smoke': 277, 'depart': 277, 'up': 277, 'domin': 276, 'oper': 276, 'routin': 276, 'rubbish': 276, 'hat': 276, 'fame': 276, 'lewi': 276, 'safe': 275, 'morgan': 275, 'hook': 275, 'advanc': 275, 'lone': 275, 'kinda': 275, 'foreign': 275, 'rank': 274, 'numer': 274, 'werewolf': 273, 'shallow': 273, 'civil': 273, 'rose': 273, 'vs': 273, 'washington': 273, 'shape': 273, 'gari': 272, 'morn': 272, 'kong': 271, 'ordinari': 271, 'accomplish': 271, 'winner': 271, 'whenev': 270, 'grab': 270, 'virtual': 270, 'peac': 270, 'offens': 269, 'luck': 269, 'h': 269, 'complain': 268, 'patient': 268, 'welcom': 268, 'contriv': 268, 'activ': 268, 'unfunni': 268, 'bigger': 268, 'pretend': 267, 'con': 267, 'dimension': 267, 'trek': 267, 'code': 266, 'wake': 266, 'flash': 266, 'cain': 266, 'eric': 266, 'dri': 266, 'lesbian': 266, 'manipul': 265, 'albert': 265, 'corrupt': 265, 'statu': 265, 'guard': 265, 'dancer': 265, 'context': 264, 'signific': 264, 'awkward': 264, 'gain': 264, 'sourc': 264, 'speech': 264, '13': 263, 'corni': 263, 'clip': 263, 'anthoni': 263, 'psycho': 263, 'sean': 263, 'advic': 262, 'w': 262, 'reli': 262, 'priest': 262, 'religion': 262, 'theatric': 262, 'curiou': 262, 'flow': 261, 'addict': 261, 'jennif': 260, 'specif': 260, 'howard': 260, 'secur': 260, 'asian': 260, 'skin': 260, 'organ': 259, 'golden': 259, 'promot': 259, 'comfort': 259, 'core': 259, 'luke': 259, 'cash': 258, 'cheat': 258, 'lucki': 258, 'dislik': 257, 'lower': 257, 'associ': 257, 'regret': 256, 'contribut': 256, 'frankli': 256, 'spell': 256, 'frequent': 256, 'devic': 256, 'degre': 256, 'wing': 256, 'balanc': 256, 'forgiv': 255, 'print': 255, 'sake': 255, 'lake': 255, 'mass': 254, 'thoma': 254, 'betti': 254, 'crack': 253, 'unexpect': 253, 'gordon': 253, 'categori': 252, 'depend': 252, 'grown': 252, 'amateur': 252, 'construct': 252, 'unfold': 252, 'invit': 252, 'condit': 251, 'matur': 251, 'grew': 251, 'walter': 251, 'anna': 251, 'intellectu': 251, 'honor': 251, 'veteran': 250, 'sudden': 250, 'spectacular': 250, 'mirror': 250, 'sole': 250, 'grip': 249, 'experienc': 249, 'overli': 249, 'liner': 249, 'meanwhil': 249, 'gift': 249, 'freedom': 249, 'card': 249, 'demonstr': 249, 'robin': 249, 'circumst': 248, 'drew': 248, 'subtitl': 248, 'unabl': 248, 'crappi': 248, 'oliv': 248, 'brilliantli': 248, 'sheriff': 248, 'section': 248, 'colour': 248, 'theori': 248, 'pile': 247, 'parker': 247, 'path': 247, 'altern': 247, 'matt': 247, 'sheer': 247, 'laughter': 247, 'cook': 247, 'accident': 246, 'wander': 246, 'lawyer': 246, 'defin': 246, 'hall': 246, 'relief': 246, 'treatment': 246, 'sinatra': 246, 'dragon': 245, 'captiv': 245, 'hank': 245, 'gratuit': 244, 'moor': 244, 'halloween': 244, 'unintent': 243, 'broadway': 243, 'barbara': 243, 'kung': 243, 'cowboy': 243, 'k': 243, 'wound': 243, 'jacki': 243, 'wayn': 243, 'statement': 242, 'spoof': 242, 'surreal': 242, 'canadian': 242, 'winter': 242, 'gonna': 241, 'cheer': 241, 'fish': 241, 'fare': 241, 'compos': 241, 'treasur': 241, 'woodi': 240, 'sensit': 240, 'victor': 240, 'emerg': 240, 'unrealist': 240, 'neighbor': 239, 'sympathet': 239, 'ran': 239, 'driven': 239, 'glass': 238, 'authent': 238, 'overlook': 238, 'topic': 238, 'expos': 238, 'menac': 238, 'ancient': 237, 'michel': 237, 'chief': 237, 'gross': 237, 'handsom': 237, 'stranger': 236, 'pleasant': 236, 'comedian': 236, 'cinderella': 236, 'nevertheless': 236, 'built': 236, 'network': 236, 'feet': 236, 'contemporari': 236, 'russel': 236, 'blockbust': 235, 'gori': 235, 'endless': 235, 'miser': 235, 'earn': 235, 'letter': 235, 'underr': 235, 'consider': 235, 'brook': 234, 'solv': 234, 'switch': 234, 'bullet': 233, 'virgin': 233, 'edward': 233, 'joseph': 233, 'convict': 233, 'victoria': 233, 'scenario': 232, 'cynic': 232, 'scale': 232, '0': 232, 'alex': 232, 'chosen': 232, 'com': 231, 'outrag': 231, 'gut': 231, 'sword': 231, 'curs': 231, 'driver': 230, 'screenwrit': 230, 'proper': 230, 'monkey': 230, 'substanc': 230, 'wrap': 230, 'juli': 230, 'uk': 230, 'indic': 229, 'court': 229, 'par': 229, 'bird': 229, 'remov': 229, 'naiv': 228, 'inevit': 228, 'nanci': 228, 'grave': 228, 'consequ': 228, 'advertis': 228, 'roy': 228, 'loser': 228, 'rental': 228, 'slap': 227, 'germani': 227, 'invis': 227, 'brave': 227, 'le': 227, 'fatal': 227, 'bridg': 227, 'loui': 226, 'provok': 226, 'ador': 226, 'footbal': 226, 'anger': 226, 'alcohol': 225, 'chan': 225, 'anderson': 225, 'stumbl': 224, 'willi': 224, 'professor': 224, 'ryan': 224, 'australian': 223, 'bat': 223, '1930': 223, 'assassin': 223, 'sharp': 223, 'patrick': 223, 'cell': 222, 'ape': 222, 'liber': 222, 'refresh': 222, 'saturday': 222, 'strongli': 222, 'heck': 222, 'trilog': 222, 'amateurish': 222, 'deni': 222, 'eight': 222, 'lousi': 222, 'sin': 221, 'vagu': 220, 'justifi': 220, 'resid': 220, 'san': 220, 'terrifi': 219, 'mini': 219, 'reput': 219, 'creator': 219, 'indi': 219, 'sympathi': 219, 'defeat': 219, 'expert': 218, 'tabl': 218, 'endur': 218, 'tediou': 218, 'prevent': 218, 'task': 218, 'imit': 217, 'trial': 217, 'employ': 217, 'rival': 217, 'offend': 217, 'basebal': 217, 'che': 217, 'fairi': 216, 'pitch': 216, 'weekend': 216, 'complaint': 216, 'max': 216, 'beach': 216, 'dig': 216, 'europ': 216, 'murphi': 215, 'risk': 215, 'format': 215, 'purchas': 215, 'nois': 214, 'titan': 214, 'hype': 214, 'powel': 214, 'reminisc': 214, 'harsh': 214, 'glimps': 214, 'tini': 214, 'bite': 214, '14': 213, 'fals': 213, 'till': 213, 'prime': 213, 'asleep': 213, 'strip': 213, 'north': 213, 'revel': 212, 'texa': 212, 'descript': 212, 'africa': 212, 'destruct': 212, 'spin': 211, 'excess': 211, 'inner': 211, 'semi': 211, 'arrest': 211, 'uninterest': 211, 'sitcom': 211, 'surfac': 211, 'twin': 210, 'makeup': 210, 'hitchcock': 210, 'maintain': 210, 'argu': 210, 'controversi': 210, 'dinosaur': 210, 'massiv': 210, 'stare': 209, 'ludicr': 209, 'ideal': 209, 'reject': 209, 'melodrama': 209, 'expens': 209, 'insist': 209, 'kim': 209, 'supernatur': 208, 'erot': 208, 'host': 208, 'subplot': 208, 'ala': 208, 'nail': 208, 'press': 208, 'atroci': 208, 'columbo': 208, 'forest': 208, 'ga': 208, 'presum': 207, 'identifi': 207, 'dude': 207, 'cant': 207, 'notch': 207, 'forgett': 206, 'closer': 206, 'crude': 206, 'plagu': 206, 'method': 206, 'guest': 206, 'character': 206, 'landscap': 205, 'princess': 205, 'beast': 205, 'ear': 205, 'foster': 205, 'lion': 205, 'border': 205, 'accus': 204, 'damag': 204, 'storytel': 204, 'jungl': 204, 'pacino': 204, 'urban': 204, 'previous': 204, 'birth': 204, 'bound': 204, 'aunt': 204, 'guid': 203, 'propaganda': 203, 'nude': 203, 'thirti': 203, 'chose': 203, 'emma': 203, 'jess': 203, 'doll': 203, 'pet': 202, 'mate': 202, 'whoever': 202, 'mainstream': 202, 'warrior': 202, '25': 202, 'upset': 201, 'friday': 201, 'poster': 201, 'merit': 201, 'size': 201, 'latest': 201, 'cooper': 201, 'gritti': 201, 'exact': 201, 'deadli': 201, 'wilson': 200, 'blend': 200, 'buff': 200, 'contest': 200, 'settl': 200, 'citizen': 200, '1990': 200, 'popul': 200, 'corps': 200, 'sun': 200, 'warner': 200, 'rough': 200, 'ton': 200, 'contact': 200, 'bu': 199, 'overcom': 199, 'pitt': 199, 'rat': 199, 'select': 199, 'mgm': 199, 'metal': 199, 'alic': 199, 'environ': 199, 'widow': 199, 'guilti': 198, 'lift': 198, 'ted': 198, 'revolut': 198, 'particip': 198, 'link': 198, 'moron': 197, 'corner': 197, '1960': 197, 'accompani': 197, 'johnson': 197, 'exagger': 197, 'corpor': 197, 'prostitut': 197, 'matrix': 197, 'afternoon': 197, 'multipl': 196, 'holm': 196, 'doom': 196, 'clair': 196, 'hood': 196, 'sincer': 196, 'leagu': 196, 'friendli': 196, 'instal': 196, 'junk': 195, 'string': 195, 'aka': 195, 'irish': 195, 'advis': 195, 'examin': 195, 'blah': 195, 'sunday': 195, 'lugosi': 195, 'hip': 195, 'defend': 195, 'grim': 195, 'campi': 195, 'rachel': 194, 'varieti': 194, 'icon': 194, 'shut': 194, 'tight': 194, 'pro': 194, 'shake': 194, 'confid': 194, 'attach': 193, 'medic': 193, 'denni': 193, 'mexican': 193, 'goal': 193, 'directli': 193, 'jaw': 193, 'sullivan': 193, 'duke': 192, 'truck': 192, 'courag': 192, 'breast': 192, 'sarah': 192, 'dean': 192, 'sentenc': 192, 'vietnam': 192, 'bourn': 192, 'terrorist': 192, 'prior': 192, 'legendari': 192, 'nose': 191, 'yell': 191, 'behav': 191, 'entri': 191, 'split': 191, 'donald': 191, 'un': 191, 'proceed': 191, 'hong': 191, 'stolen': 190, 'gather': 190, 'swim': 190, 'crush': 190, 'buri': 190, 'confess': 190, 'concentr': 190, 'forth': 190, 'everywher': 190, 'borrow': 190, 'lifetim': 190, 'jerk': 190, 'unconvinc': 190, 'california': 189, 'turkey': 189, 'lip': 189, 'spite': 189, 'julia': 189, 'pan': 189, 'deliveri': 189, 'offici': 188, 'freeman': 188, 'quest': 188, 'reward': 188, 'hoffman': 188, 'downright': 188, 'flight': 188, 'proud': 188, 'china': 188, 'fade': 187, 'inept': 187, 'fabul': 187, 'jon': 187, 'sir': 187, 'notori': 187, 'betray': 187, 'sink': 187, 'jail': 187, 'encourag': 187, 'lazi': 187, 'worthwhil': 187, 'shower': 186, 'cousin': 186, 'storm': 186, 'lisa': 186, 'teeth': 186, 'relev': 186, 'susan': 186, 'imageri': 186, 'survivor': 186, 'bag': 186, 'bell': 186, 'retard': 186, 'branagh': 186, 'alright': 185, 'shark': 185, 'stab': 185, 'summari': 185, 'facial': 185, 'trade': 185, 'hugh': 185, 'finger': 185, 'toler': 185, 'mexico': 185, 'tremend': 185, 'bride': 185, 'quirki': 185, 'ha': 184, 'von': 184, 'blown': 184, 'pose': 184, 'bitter': 184, 'hyster': 184, 'address': 183, 'cruel': 183, 'afterward': 183, 'larri': 183, 'bone': 183, 'scheme': 183, 'ned': 183, 'ron': 183, 'christ': 183, 'beg': 182, 'feed': 182, 'tour': 182, 'screw': 182, 'snake': 182, 'pursu': 182, 'thumb': 182, 'distinct': 182, 'traci': 182, 'swear': 182, 'mechan': 181, 'chair': 181, 'stomach': 181, 'raw': 181, 'occas': 181, 'obscur': 181, 'photo': 181, 'render': 180, 'necessarili': 180, 'argument': 180, 'resist': 180, 'holiday': 180, 'cabin': 180, 'hardi': 180, 'gruesom': 180, 'chain': 180, 'heavili': 180, 'sidney': 180, 'southern': 180, 'indulg': 179, 'understood': 179, 'philip': 179, 'racist': 179, 'india': 179, 'satan': 179, 'lay': 178, 'stalk': 178, 'outfit': 178, 'belov': 178, 'tongu': 178, 'forgot': 178, 'obnoxi': 178, 'fourth': 178, 'midnight': 178, 'pregnant': 178, 'integr': 178, 'slapstick': 177, 'deeper': 177, 'ticket': 177, 'carol': 177, '17': 177, 'inhabit': 177, 'garden': 177, 'magazin': 177, 'restor': 177, 'brad': 176, 'incid': 176, 'lincoln': 176, 'shoe': 176, 'devot': 176, 'disbelief': 175, 'elizabeth': 175, 'anticip': 175, 'maria': 175, 'guarante': 175, 'underground': 175, 'sandler': 175, 'divorc': 175, 'benefit': 175, 'lili': 175, 'slave': 174, 'greater': 174, 'cring': 174, 'amazingli': 174, 'princip': 174, 'bbc': 174, 'explod': 174, 'capit': 174, 'mildli': 174, 'creation': 174, 'halfway': 173, 'extraordinari': 173, 'funnier': 173, 'lesli': 173, 'introduct': 173, 'wreck': 172, 'text': 172, 'extent': 172, 'advantag': 172, 'overwhelm': 172, 'punish': 172, 'enhanc': 172, 'transfer': 172, 'tap': 172, 'plant': 171, 'lo': 171, 'jessica': 171, 'preview': 171, 'deliber': 171, 'dynam': 171, 'lane': 171, 'error': 171, 'horrif': 171, 'east': 171, 'vacat': 170, 'ensu': 170, 'sophist': 170, 'homosexu': 170, 'basi': 170, 'appli': 170, '2000': 170, 'miscast': 170, 'vincent': 170, 'miller': 170, 'via': 169, 'elev': 169, 'extend': 169, 'uncomfort': 169, 'steel': 169, 'measur': 169, 'reed': 169, 'spoken': 169, 'sleazi': 169, 'mansion': 169, 'bollywood': 169, 'hippi': 168, 'goofi': 168, 'stanley': 168, 'mous': 168, 'overact': 168, 'blair': 168, 'fix': 168, 'daili': 168, 'conceiv': 168, 'alter': 168, 'beer': 168, 'savag': 168, 'assign': 168, 'melt': 168, 'breathtak': 168, 'cathol': 168, 'dentist': 168, 'everyday': 167, 'nowaday': 167, 'properli': 167, 'succe': 167, 'subsequ': 167, 'oppos': 167, 'inspector': 167, 'sacrific': 167, 'burt': 167, 'carpent': 167, 'circl': 166, 'neck': 166, 'block': 166, 'laura': 166, 'massacr': 166, 'lesser': 165, 'fay': 165, 'grey': 165, 'portrait': 165, 'mob': 165, 'fallen': 165, 'concert': 165, 'seagal': 165, 'access': 165, 'pool': 165, 'christi': 165, 'competit': 164, 'usa': 164, 'react': 164, 'sinist': 164, 'chees': 164, 'jewish': 164, 'relax': 164, 'isol': 164, 'jake': 164, 'suitabl': 163, 'appal': 163, 'nonetheless': 163, 'stink': 163, 'chop': 163, 'creep': 163, 'spiritu': 163, 'immens': 163, 'ironi': 163, '2006': 163, 'lyric': 163, 'nine': 163, 'user': 162, 'showcas': 162, 'adopt': 162, 'spring': 162, 'sold': 162, 'retir': 162, 'rage': 162, 'needless': 162, 'navi': 162, 'nut': 162, 'luci': 162, 'shirt': 162, 'reduc': 162, 'franchis': 162, 'digit': 161, 'per': 161, 'uninspir': 161, 'bulli': 161, 'jay': 161, 'asham': 161, 'nurs': 161, 'zone': 161, 'bath': 161, 'stanwyck': 161, 'laid': 160, '1940': 160, 'illustr': 160, 'oddli': 160, '2001': 160, 'sutherland': 160, 'upper': 160, 'amongst': 160, 'broadcast': 160, 'baker': 159, 'stylish': 159, 'throat': 159, 'aspir': 159, 'disguis': 159, 'fulfil': 159, 'brando': 159, 'wanna': 158, 'impli': 158, 'nobl': 158, 'endear': 158, 'neighborhood': 158, 'thief': 158, '18': 158, 'em': 158, 'wwii': 158, 'pound': 158, 'pride': 158, 'distribut': 157, 'prop': 157, 'tens': 157, 'cinematograph': 157, 'bett': 157, 'albeit': 157, 'dinner': 157, 'coher': 157, 'dawn': 157, '16': 157, 'shoulder': 157, 'shift': 157, 'bo': 157, 'diseas': 157, 'rochest': 157, 'contract': 156, 'wash': 156, 'rebel': 156, 'function': 156, 'shout': 156, 'silenc': 156, 'forti': 156, 'surf': 156, 'knife': 156, 'poignant': 156, 'snow': 156, 'matthau': 156, 'proof': 155, 'height': 155, 'internet': 155, 'reunion': 155, 'heat': 155, 'cannib': 155, 'cancel': 155, 'chuck': 155, 'mindless': 155, 'duti': 155, 'horrend': 155, 'henc': 155, 'silver': 155, 'eeri': 155, 'widmark': 155, 'instinct': 155, 'derek': 155, 'elvira': 155, 'premier': 154, 'innov': 154, 'spielberg': 154, 'alik': 154, 'absorb': 154, 'greatli': 154, 'etern': 154, 'neat': 154, 'elvi': 154, 'pie': 154, 'glori': 154, 'incoher': 154, 'musician': 154, 'repetit': 154, 'mill': 154, 'torn': 154, 'itali': 153, 'wealthi': 153, 'burton': 153, 'crisi': 153, 'announc': 153, 'infam': 153, 'redempt': 153, 'racism': 153, 'blank': 153, 'fbi': 153, 'homag': 153, 'diamond': 153, 'trite': 153, 'nelson': 153, 'bang': 153, 'lovabl': 153, 'precis': 153, 'britain': 153, 'horrifi': 153, 'wilder': 152, 'happili': 152, 'helen': 152, 'parallel': 152, 'hammer': 152, 'chaplin': 152, 'ensembl': 152, 'resolut': 152, 'dedic': 152, 'streisand': 152, 'flop': 152, 'pat': 152, 'factori': 151, 'mar': 151, 'plastic': 151, 'broke': 151, 'cube': 151, 'oil': 151, 'triumph': 151, 'disagre': 151, 'conclud': 151, 'st': 151, 'carter': 151, 'row': 150, 'fighter': 150, 'climb': 150, 'vega': 150, 'chuckl': 150, 'march': 150, 'rocket': 150, 'own': 150, 'bush': 150, 'weight': 150, 'dane': 149, 'lust': 149, 'spare': 149, 'boot': 149, 'dump': 149, 'mst3k': 149, 'sensibl': 149, 'unforgett': 149, 'wherea': 149, 'enorm': 149, 'meaning': 149, 'kurt': 149, 'thug': 149, 'luca': 149, 'brand': 148, 'adequ': 148, 'arnold': 148, 'bobbi': 148, 'stress': 148, 'threat': 148, 'rap': 148, 'butt': 148, 'engin': 148, 'dear': 148, 'fifti': 148, 'karloff': 148, 'difficulti': 148, 'caricatur': 148, 'barri': 147, 'secretari': 147, 'journalist': 147, 'hamlet': 147, 'fest': 147, 'ralph': 147, 'arrog': 147, 'flynn': 147, 'ego': 147, 'elabor': 147, 'swing': 147, 'polish': 147, 'homeless': 147, 'fanci': 146, 'float': 146, 'arrang': 146, 'conspiraci': 146, 'tool': 146, 'simpson': 146, 'grate': 146, 'spike': 146, 'puppet': 146, 'induc': 146, 'unbear': 146, 'resort': 146, 'choreograph': 145, 'exercis': 145, 'pig': 145, 'phillip': 145, 'guilt': 145, 'basement': 145, 'boll': 145, 'cruis': 145, 'tribut': 145, 'muppet': 145, 'item': 144, 'fianc': 144, 'puzzl': 144, 'slip': 144, 'layer': 144, 'ham': 144, '24': 144, 'editor': 144, 'ward': 144, 'document': 144, 'scarecrow': 144, 'toilet': 144, 'tower': 144, 'korean': 144, 'stan': 144, 'babe': 144, 'file': 144, 'medium': 144, 'superfici': 143, 'assur': 143, 'portion': 143, 'glover': 143, 'philosoph': 143, 'transit': 143, 'persona': 143, 'librari': 143, 'orient': 143, 'spark': 143, 'catherin': 143, 'doc': 143, 'denzel': 143, 'larger': 143, 'territori': 143, 'slaughter': 143, 'minim': 143, 'inexplic': 143, 'walken': 142, 'wolf': 142, 'pg': 142, 'boredom': 142, 'owe': 142, 'ban': 142, 'dorothi': 142, 'sneak': 142, 'jet': 142, 'shi': 142, 'curti': 142, 'jeremi': 142, 'financi': 142, 'whale': 141, 'metaphor': 141, 'hudson': 141, 'profound': 141, 'multi': 141, 'eleph': 141, 'ambigu': 141, 'backdrop': 141, 'cusack': 141, 'viru': 140, '2005': 140, 'notion': 140, 'rave': 140, 'ultra': 140, 'hack': 140, 'elsewher': 140, 'gadget': 140, 'stiff': 140, 'implaus': 140, 'birthday': 140, 'union': 140, 'hawk': 139, '1st': 139, 'lloyd': 139, 'slight': 139, 'pad': 139, 'deriv': 139, 'distanc': 139, 'urg': 139, 'squar': 139, 'newspap': 139, 'canada': 139, 'poison': 139, 'eastwood': 139, 'superhero': 139, 'bibl': 139, 'disc': 139, 'reader': 139, 'eva': 139, 'afford': 139, 'restaur': 138, 'button': 138, 'health': 138, 'sadist': 138, 'montag': 138, 'skit': 138, 'cure': 138, 'essenc': 138, 'huh': 138, 'charisma': 138, 'drown': 138, 'heston': 138, 'spread': 138, 'godfath': 137, 'fetch': 137, 'estat': 137, 'maniac': 137, 'invest': 137, 'scoobi': 137, 'peak': 137, 'dealt': 137, 'companion': 137, 'muslim': 137, 'gradual': 137, 'lab': 137, 'servant': 136, 'countless': 136, 'gothic': 136, 'ritter': 136, 'cup': 136, 'tea': 136, 'subtleti': 136, 'alli': 136, 'kane': 136, 'miik': 136, 'electr': 135, 'charismat': 135, 'briefli': 135, 'heroic': 135, 'elect': 135, 'iii': 135, 'salli': 135, 'tender': 134, 'reel': 134, 'grandmoth': 134, 'bud': 134, 'neil': 134, 'wannab': 134, 'cole': 134, 'admittedli': 134, 'resourc': 134, 'ingredi': 134, 'nuanc': 134, 'toss': 134, 'punk': 133, 'carrey': 133, 'poverti': 133, 'reev': 133, 'stood': 133, 'shall': 133, 'stronger': 133, 'mild': 133, 'pit': 133, 'mafia': 133, 'pauli': 133, 'gate': 133, 'dawson': 133, 'kubrick': 133, 'label': 133, 'assault': 132, 'smooth': 132, 'easier': 132, 'outcom': 132, 'burst': 132, 'fond': 132, 'cardboard': 132, 'smash': 132, 'useless': 132, 'tag': 132, 'cox': 132, 'updat': 132, 'ian': 132, 'bakshi': 132, 'astair': 132, 'terri': 132, 'melodramat': 131, 'resolv': 131, 'fist': 131, 'divers': 131, 'qualifi': 131, 'exchang': 131, 'samurai': 131, '2002': 131, 'increasingli': 131, 'rex': 131, 'sketch': 131, 'vulner': 131, 'vari': 131, 'coincid': 131, 'be': 130, 'templ': 130, 'suspend': 130, 'luckili': 130, 'conveni': 130, 'blast': 130, 'tame': 130, 'reynold': 130, 'scratch': 130, 'brillianc': 130, 'insert': 130, 'seventi': 129, 'gotta': 129, 'meat': 129, 'pin': 129, 'ambiti': 129, 'strictli': 129, 'jami': 129, 'soprano': 129, 'farm': 129, 'hamilton': 129, 'walker': 129, 'fisher': 129, 'coach': 129, 'nuclear': 129, 'matthew': 129, 'spooki': 128, 'instantli': 128, 'timeless': 128, 'worthless': 128, 'joey': 128, 'clock': 128, 'recreat': 128, 'convolut': 128, 'eccentr': 128, 'kudo': 128, 'butcher': 128, 'monk': 128, 'revers': 128, 'grasp': 128, 'struck': 128, 'discoveri': 128, 'cave': 128, 'empir': 128, 'closet': 128, 'ninja': 128, 'brosnan': 128, 'evok': 127, 'selfish': 127, 'bleak': 127, 'declar': 127, 'cliff': 127, 'miracl': 127, 'inconsist': 127, 'importantli': 127, 'communist': 127, 'fifteen': 127, 'sloppi': 127, 'partli': 127, 'seller': 127, 'eighti': 127, 'wipe': 127, 'norman': 127, 'clown': 127, 'mitchel': 127, 'gray': 127, 'sidekick': 127, 'pal': 127, 'australia': 126, 'cheek': 126, 'websit': 126, 'superbl': 126, 'flawless': 126, 'stoog': 126, 'piano': 126, 'psychiatrist': 126, 'debat': 126, 'enthusiast': 126, 'aforement': 126, 'chew': 126, 'destin': 126, 'ho': 126, 'lifestyl': 126, 'seed': 126, '45': 126, 'farc': 126, 'dire': 125, 'directori': 125, 'akshay': 125, 'kitchen': 125, 'emili': 125, 'wick': 125, 'anni': 125, 'bash': 125, 'abc': 125, 'splatter': 125, 'drivel': 125, 'pressur': 125, 'regardless': 125, 'soviet': 125, 'dash': 125, 'wrestl': 125, 'slice': 125, 'incompet': 125, 'prize': 124, 'glow': 124, 'recov': 124, 'flower': 124, 'increas': 124, 'chapter': 124, 'suppli': 124, 'cia': 124, 'pleasantli': 124, 'doo': 124, 'duo': 124, 'curios': 124, 'lou': 124, 'jar': 124, 'judi': 124, 'artifici': 124, 'boil': 124, 'seduc': 124, 'blob': 124, 'distant': 124, 'cameron': 124, 'helicopt': 124, 'mann': 124, 'dave': 124, 'ken': 124, 'cagney': 124, 'beaten': 124, 'drunken': 123, 'glenn': 123, 'craig': 123, 'turner': 123, 'combat': 123, 'laurel': 123, 'web': 123, 'goldberg': 123, 'hop': 123, 'panic': 123, 'eleg': 123, 'francisco': 123, 'psychot': 123, 'favour': 123, 'ellen': 123, 'craven': 123, 'splendid': 123, 'ranger': 123, 'perri': 123, 'ruth': 122, 'greek': 122, 'fx': 122, 'min': 122, 'flip': 122, 'hatr': 122, 'gandhi': 122, 'philosophi': 122, 'plausibl': 122, 'rid': 122, 'shortli': 122, 'alexand': 122, '20th': 122, 'gentl': 122, 'graduat': 122, 'falk': 122, 'slightest': 122, 'wizard': 122, 'modesti': 122, 'jealou': 121, 'legal': 121, 'preciou': 121, 'lend': 121, 'ocean': 121, 'futurist': 121, 'holi': 121, 'dracula': 121, 'tall': 121, 'felix': 121, 'knight': 121, 'we': 121, 'fund': 121, 'harm': 121, 'manhattan': 121, 'unpleas': 121, 'nod': 120, 'mock': 120, 'ami': 120, 'childish': 120, 'explicit': 120, 'tank': 120, 'thread': 120, 'reviv': 120, 'forbidden': 120, 'overdon': 120, 'giallo': 120, 'bless': 120, 'scientif': 120, 'digniti': 120, 'eve': 119, 'awe': 119, 'unwatch': 119, 'fever': 119, 'yesterday': 119, '99': 119, 'torment': 119, 'nerv': 119, 'elderli': 119, 'mel': 119, 'pirat': 119, '2004': 119, 'thick': 119, 'repeatedli': 119, 'broad': 119, 'awaken': 119, 'margaret': 119, 'verhoeven': 119, 'stiller': 118, 'royal': 118, 'bin': 118, 'politician': 118, 'custom': 118, 'ah': 118, 'absenc': 118, 'ambit': 118, 'automat': 118, 'griffith': 118, 'romero': 118, 'uniform': 118, 'lean': 118, 'publish': 118, 'roman': 118, 'eas': 118, 'timothi': 118, 'rivet': 118, 'acclaim': 118, 'kay': 118, 'launch': 118, 'termin': 117, 'sunshin': 117, 'bathroom': 117, 'stinker': 117, 'darker': 117, 'pulp': 117, 'foul': 117, 'purpl': 117, 'tomato': 117, 'pierc': 117, 'antic': 117, 'wallac': 117, 'transport': 117, 'phrase': 117, 'homicid': 117, 'warren': 117, 'crook': 117, 'gabriel': 117, 'hollow': 116, 'choreographi': 116, 'juvenil': 116, 'packag': 116, 'contrari': 116, 'horrid': 116, 'album': 116, 'evolv': 116, 'li': 116, 'awak': 116, 'revolutionari': 116, 'ought': 116, 'coloni': 116, 'prom': 116, '2003': 116, 'marin': 116, 'pray': 116, 'donna': 116, 'rambo': 116, 'viciou': 116, 'q': 116, 'saint': 116, 'sixti': 116, 'kenneth': 116, 'eyr': 116, 'karen': 116, 'brazil': 116, 'overr': 115, 'boast': 115, 'twelv': 115, 'defi': 115, 'blade': 115, 'dose': 115, 'kapoor': 115, 'stole': 115, 'ramon': 115, 'candid': 115, 'option': 115, 'mummi': 115, 'beatti': 115, 'ireland': 115, 'nerd': 115, 'conserv': 115, 'mildr': 115, 'detract': 114, 'kirk': 114, 'natali': 114, 'funer': 114, 'astonish': 114, 'jazz': 114, 'fulci': 114, 'flame': 114, 'confirm': 114, 'global': 114, 'collabor': 114, 'altman': 114, 'trio': 114, 'protest': 114, 'mystic': 113, 'spit': 113, 'delici': 113, 'enterpris': 113, 'bottl': 113, 'racial': 113, 'destini': 113, 'tommi': 113, 'shade': 113, 'bull': 113, 'yellow': 113, 'nicholson': 113, 'whip': 113, 'audio': 113, 'blake': 113, 'leap': 113, 'swedish': 112, 'neo': 112, 'altogeth': 112, 'vivid': 112, 'bedroom': 112, 'merci': 112, 'todd': 112, 'harder': 112, 'enchant': 112, 'threw': 112, 'pseudo': 112, 'popcorn': 112, 'adolesc': 112, 'visibl': 112, 'fonda': 112, 'inherit': 112, 'meaningless': 112, 'staff': 112, 'reunit': 112, 'befriend': 111, 'voight': 111, 'jew': 111, 'wire': 111, 'atlanti': 111, 'lawrenc': 111, 'fanat': 111, 'suspici': 111, 'leonard': 111, 'respond': 111, 'synopsi': 111, 'tip': 111, 'kennedi': 111, 'reserv': 111, 'roommat': 111, 'exhibit': 111, 'await': 111, 'bust': 111, 'moodi': 111, 'decor': 111, 'crocodil': 111, 'ruthless': 111, 'edi': 111, 'madonna': 111, 'lemmon': 111, 'uneven': 111, 'clumsi': 110, 'clint': 110, 'bold': 110, 'dimens': 110, 'bargain': 110, 'unsettl': 110, '2007': 110, 'carl': 110, 'holli': 110, 'abysm': 110, 'garner': 110, 'bradi': 110, 'ventur': 110, 'centr': 110, 'incident': 110, 'rural': 110, 'chao': 110, 'audit': 110, 'voyag': 110, 'palma': 110, 'echo': 109, '2nd': 109, 'trail': 109, 'humili': 109, 'characterist': 109, 'cari': 109, 'poetic': 109, 'lit': 109, 'cd': 109, 'acknowledg': 109, 'nearbi': 109, 'daddi': 109, 'troop': 109, 'neglect': 109, 'imperson': 109, 'wealth': 109, 'cuba': 109, 'versu': 109, 'tiger': 109, 'ant': 109, 'immigr': 109, 'elimin': 109, 'hart': 109, 'mall': 109, 'timon': 109, 'pun': 108, 'mickey': 108, 'homer': 108, 'solo': 108, 'mistaken': 108, 'repuls': 108, 'jeffrey': 108, 'celluloid': 108, 'domest': 108, 'infect': 108, 'collaps': 108, 'saga': 108, 'marshal': 108, 'prejudic': 108, 'paus': 108, 'milk': 107, 'tribe': 107, 'inan': 107, 'ginger': 107, 'inappropri': 107, 'coffe': 107, 'interrupt': 107, 'gear': 107, 'harvey': 107, 'hbo': 107, 'promin': 107, 'cake': 107, 'undoubtedli': 107, 'coat': 107, 'olivi': 107, '1996': 107, 'sore': 107, 'equip': 107, 'chest': 107, 'assembl': 107, 'leon': 107, 'pant': 107, 'apolog': 107, 'trace': 106, 'brooklyn': 106, 'devast': 106, 'exot': 106, 'humbl': 106, 'solut': 106, 'retain': 106, 'highest': 106, 'airplan': 106, 'embrac': 106, 'primari': 106, 'maggi': 106, 'vulgar': 106, 'pot': 106, 'florida': 106, 'polanski': 106, 'aveng': 106, 'jenni': 106, 'colonel': 106, 'pen': 106, 'colleagu': 106, 'instant': 106, 'consum': 106, 'furthermor': 106, 'institut': 106, 'strain': 105, 'ya': 105, 'illog': 105, 'disabl': 105, 'descend': 105, 'poke': 105, 'gender': 105, 'bowl': 105, 'rick': 105, 'dian': 105, 'principl': 105, 'sale': 105, '3rd': 105, '1999': 105, 'smaller': 105, 'wive': 105, 'outer': 105, 'linda': 105, 'seduct': 105, 'dutch': 105, 'cope': 105, 'godzilla': 105, 'gloriou': 104, 'cue': 104, 'bubbl': 104, 'blatant': 104, 'devoid': 104, 'yard': 104, 'rabbit': 104, 'dud': 104, 'glamor': 104, 'predecessor': 104, 'vast': 104, 'secondli': 104, 'scope': 104, 'beneath': 104, 'hal': 104, 'mixtur': 104, 'primarili': 104, 'dive': 104, 'lol': 104, 'inferior': 104, 'gundam': 104, 'talki': 103, 'museum': 103, 'shirley': 103, 'breed': 103, 'shelf': 103, 'domino': 103, 'hideou': 103, 'pearl': 103, 'trademark': 103, 'aggress': 103, 'casual': 103, 'et': 103, 'disjoint': 103, 'simplist': 103, 'grinch': 103, 'april': 103, 'myer': 103, 'arab': 103, 'alert': 103, 'invas': 103, 'senseless': 103, 'streep': 103, 'garbo': 103, 'countrysid': 103, 'z': 103, 'alfr': 103, 'sh': 102, 'mail': 102, 'loyal': 102, 'unhappi': 102, 'rendit': 102, 'boom': 102, 'applaud': 102, 'vanish': 102, 'slide': 102, 'disgrac': 102, 'stack': 102, 'khan': 102, 'hardcor': 102, 'uwe': 102, 'illeg': 102, 'maci': 102, 'stir': 102, 'robberi': 102, 'obtain': 102, 'acid': 102, 'stellar': 102, 'oz': 102, 'hopeless': 102, 'defens': 102, 'robinson': 102, 'mayor': 102, 'experiment': 102, 'wont': 101, 'topless': 101, 'tempt': 101, 'fri': 101, 'rifl': 101, 'declin': 101, 'tenant': 101, 'diana': 101, 'spider': 101, 'counter': 101, 'scroog': 101, 'dicken': 101, 'amanda': 101, 'soccer': 101, 'span': 101, 'grandfath': 101, 'dismiss': 101, 'emphasi': 101, 'incomprehens': 101, 'craze': 101, 'hartley': 101, 'recruit': 101, 'berlin': 101, 'psychic': 101, 'blew': 101, 'bitch': 100, 'resurrect': 100, 'wet': 100, 'shed': 100, 'sibl': 100, 'porno': 100, 'ethnic': 100, 'sympath': 100, 'revolt': 100, 'faster': 100, 'woo': 100, 'goer': 100, 'ration': 100, 'trashi': 100, 'riot': 100, 'justin': 100, 'niro': 100, 'lumet': 100, 'intim': 100, 'shaw': 100, 'parad': 100, 'partial': 99, 'feminist': 99, 'immort': 99, 'enlighten': 99, '00': 99, 'wheel': 99, 'honesti': 99, 'steam': 99, 'ensur': 99, 'hesit': 99, 'patriot': 99, 'commend': 99, 'ballet': 99, 'biographi': 99, 'choru': 99, 'dealer': 99, 'mario': 99, 'andr': 99, 'eager': 99, 'weakest': 99, 'jonathan': 99, 'gap': 99, 'lena': 99, 'nephew': 99, 'unreal': 99, 'farmer': 99, 'slick': 99, 'region': 99, 'worm': 99, 'wendi': 99, 'rider': 99, 'hopper': 99, 'owen': 98, 'victori': 98, 'skull': 98, 'kingdom': 98, 'blunt': 98, 'safeti': 98, 'confin': 98, 'hung': 98, 'franco': 98, 'prequel': 98, 'wore': 98, 'similarli': 98, 'repress': 98, 'mutant': 98, 'macarthur': 98, 'nostalg': 98, 'snap': 98, 'charlott': 98, 'properti': 98, 'composit': 98, 'sappi': 98, 'morri': 98, 'psychopath': 98, 'leo': 98, 'util': 98, 'vice': 98, 'sandra': 98, 'tail': 97, 'drain': 97, 'strand': 97, 'bonu': 97, 'rocki': 97, 'thru': 97, 'exit': 97, 'valuabl': 97, 'despair': 97, 'dust': 97, 'rambl': 97, 'cg': 97, 'repli': 97, 'compens': 97, 'snl': 97, 'montana': 97, 'bumbl': 97, 'whoopi': 97, 'rope': 97, 'kyle': 97, 'miseri': 97, 'campbel': 97, 'farrel': 97, 'nervou': 97, 'latin': 97, 'deed': 97, 'drum': 97, 'hyde': 97, 'speci': 97, 'bergman': 97, 'bow': 97, 'heartbreak': 97, 'acquir': 97, 'recycl': 97, 'del': 97, 'pattern': 97, 'dalton': 97, 'tad': 97, '1972': 97, 'compass': 97, 'emperor': 97, 'martian': 96, 'romp': 96, '35': 96, 'roth': 96, 'tonight': 96, 'percept': 96, 'bleed': 96, 'gimmick': 96, 'slug': 96, 'rotten': 96, 'orson': 96, 'pour': 96, 'downhil': 96, 'rapist': 96, 'oppress': 96, 'olli': 96, 'contempl': 96, 'gal': 96, 'carradin': 96, 'mistress': 96, 'airport': 96, 'radic': 96, 'wacki': 96, 'da': 96, 'chess': 96, 'slash': 95, 'tackl': 95, 'programm': 95, 'unpredict': 95, 'dazzl': 95, 'heal': 95, 'stilt': 95, 'edgar': 95, 'pervert': 95, 'banal': 95, 'melodi': 95, 'preach': 95, 'tooth': 95, 'taught': 95, 'mislead': 95, 'shelley': 95, 'attorney': 95, 'paltrow': 95, 'pursuit': 95, 'arc': 95, 'champion': 95, '1983': 95, 'arguabl': 95, 'pervers': 95, 'belt': 95, 'virginia': 94, 'tiresom': 94, 'orang': 94, 'plight': 94, 'uplift': 94, 'raymond': 94, 'vocal': 94, 'employe': 94, 'marti': 94, 'maid': 94, 'cleverli': 94, 'bela': 94, 'closest': 94, 'mesmer': 94, 'chicken': 94, 'sensat': 94, 'rubi': 94, 'vengeanc': 94, 'gambl': 94, 'duval': 94, 'passeng': 94, 'poem': 94, 'conneri': 94, 'franki': 94, 'graham': 94, 'dixon': 94, 'extens': 93, 'mute': 93, 'numb': 93, 'paranoia': 93, 'scottish': 93, 'outing': 93, '1968': 93, 'giggl': 93, 'iran': 93, 'monologu': 93, 'convincingli': 93, 'secretli': 93, 'whine': 93, 'climact': 93, 'gerard': 93, 'sirk': 93, 'calm': 93, 'engross': 93, 'amitabh': 93, 'volum': 93, 'clone': 93, 'suffic': 93, 'abraham': 93, 'pokemon': 93, 'crystal': 93, 'tube': 93, 'inject': 93, 'habit': 93, 'quarter': 93, 'bay': 93, 'profan': 93, 'yawn': 93, 'swallow': 93, 'lundgren': 93, 'profess': 92, 'dispos': 92, 'taxi': 92, 'linger': 92, 'underst': 92, 'chicago': 92, 'frankenstein': 92, 'junior': 92, 'poetri': 92, 'trend': 92, 'backward': 92, 'expand': 92, 'spock': 92, 'surpass': 92, 'plod': 92, 'abort': 92, 'lowest': 92, 'austen': 92, 'septemb': 92, 'im': 92, 'earl': 92, 'richardson': 92, 'bend': 92, 'grotesqu': 92, 'meander': 92, 'ethan': 92, 'nichola': 92, 'fed': 92, 'franci': 92, 'nostalgia': 91, 'myth': 91, 'sue': 91, 'der': 91, 'descent': 91, 'simplic': 91, 'literatur': 91, 'rant': 91, 'dysfunct': 91, 'rubber': 91, 'econom': 91, 'household': 91, 'mundan': 91, 'catchi': 91, 'hum': 91, 'lure': 91, 'instrument': 91, 'spoke': 91, 'muddl': 91, 'tourist': 91, 'waitress': 91, 'cannon': 91, 'compliment': 91, 'greedi': 91, 'eugen': 91, 'stallon': 91, 'dement': 90, 'molli': 90, 'mankind': 90, 'dictat': 90, 'crucial': 90, 'recognis': 90, 'alongsid': 90, 'damon': 90, 'june': 90, 'omen': 90, 'hello': 90, 'irrelev': 90, 'phoni': 90, 'stale': 90, 'eaten': 90, 'mortal': 90, 'bacal': 90, 'equival': 90, 'map': 90, 'deaf': 90, 'lang': 90, 'occupi': 90, 'randi': 90, 'firstli': 90, 'insur': 90, 'cent': 90, 'recognit': 90, 'coast': 90, 'sissi': 90, 'duck': 90, 'phantom': 90, 'flee': 90, 'furi': 90, 'louis': 90, 'carel': 90, 'wisdom': 89, 'freez': 89, 'distinguish': 89, 'lengthi': 89, 'bike': 89, 'onlin': 89, 'dreari': 89, 'cyborg': 89, 'bump': 89, 'heel': 89, 'damm': 89, 'likewis': 89, 'blackmail': 89, 'daisi': 89, 'twilight': 89, 'ashley': 89, 'biko': 89, 'newli': 89, 'drake': 89, 'reign': 89, 'rude': 89, 'loyalti': 89, 'buffalo': 89, 'antwon': 89, '1973': 89, 'labor': 89, 'grayson': 89, 'rooney': 89, 'inher': 88, 'worn': 88, 'startl': 88, 'tunnel': 88, 'keith': 88, 'approv': 88, 'basketbal': 88, 'interior': 88, 'proce': 88, 'provoc': 88, 'pink': 88, 'emphas': 88, 'butler': 88, 'barrymor': 88, 'unorigin': 88, 'baddi': 88, 'exposur': 88, 'ridden': 88, 'boxer': 88, 'attribut': 88, 'sailor': 88, 'vein': 88, 'analysi': 88, 'nineti': 88, 'prey': 88, 'incorpor': 88, 'chronicl': 88, 'elm': 87, 'undeni': 87, 'belushi': 87, 'improvis': 87, 'degrad': 87, 'indiffer': 87, 'drift': 87, 'barrel': 87, 'fleet': 87, 'predat': 87, 'millionair': 87, 'mighti': 87, 'substitut': 87, 'stalker': 87, 'condemn': 87, 'hypnot': 87, 'underli': 87, 'meyer': 87, 'bunni': 87, 'carla': 87, 'unrel': 87, 'othello': 87, 'er': 87, 'nicol': 87, 'simmon': 87, 'meg': 87, 'robbin': 87, 'mormon': 87, 'walsh': 87, 'julian': 87, '3d': 86, 'priceless': 86, 'reid': 86, 'mtv': 86, 'marion': 86, 'vital': 86, 'enthusiasm': 86, 'unawar': 86, 'errol': 86, 'firm': 86, 'greed': 86, 'shove': 86, 'roof': 86, 'edgi': 86, 'exquisit': 86, 'alison': 86, 'agenda': 86, 'alarm': 86, 'disord': 86, 'warmth': 86, 'palac': 86, 'nyc': 86, 'dolph': 86, 'rukh': 86, 'watson': 86, 'hay': 86, 'novak': 86, 'lampoon': 86, 'gestur': 85, 'pamela': 85, 'showdown': 85, 'preserv': 85, 'profit': 85, 'drip': 85, 'petti': 85, 'beatl': 85, 'crown': 85, 'coup': 85, 'orlean': 85, 'sergeant': 85, 'distort': 85, 'angela': 85, 'what': 85, 'eastern': 85, 'iraq': 85, '1933': 85, '13th': 85, 'campaign': 85, 'simultan': 85, 'valentin': 85, 'peck': 85, 'ponder': 85, 'thompson': 85, 'israel': 85, 'glanc': 85, 'testament': 85, 'session': 85, 'randomli': 85, 'nun': 85, 'cassidi': 85, 'unleash': 85, 'spain': 85, 'peril': 85, 'minimum': 85, 'championship': 85, 'zizek': 85, 'cream': 84, 'cooki': 84, 'stroke': 84, 'rout': 84, 'shootout': 84, 'crawl': 84, 'mon': 84, 'restrain': 84, 'buster': 84, 'realm': 84, 'calib': 84, 'unimagin': 84, 'quinn': 84, '1984': 84, 'travesti': 84, 'stake': 84, 'kurosawa': 84, 'perpetu': 84, 'scotland': 84, 'brenda': 84, 'han': 84, 'regist': 84, 'gentleman': 84, 'contradict': 84, 'miyazaki': 84, 'climat': 84, 'wig': 84, 'exposit': 84, 'jan': 84, 'valley': 84, 'empathi': 84, 'reson': 84, 'crow': 84, 'sabrina': 84, 'fido': 84, 'represent': 84, 'din': 84, 'bro': 84, 'perceiv': 83, 'warrant': 83, 'wax': 83, '1997': 83, 'darren': 83, 'unseen': 83, 'ross': 83, 'crawford': 83, 'monoton': 83, 'geek': 83, 'passabl': 83, 'ustinov': 83, 'mclaglen': 83, 'pole': 83, 'josh': 83, 'abomin': 83, 'pretens': 83, 'shoddi': 83, 'sucker': 83, 'tacki': 83, 'greg': 83, 'spacey': 83, 'cloud': 83, 'femm': 83, 'unsatisfi': 83, 'compromis': 83, 'distress': 83, 'demis': 83, '1987': 83, 'derang': 83, 'absent': 83, 'traumat': 83, 'meryl': 83, 'dana': 83, 'censor': 83, 'delic': 83, 'baldwin': 83, 'painter': 83, 'stargat': 83, 'fuller': 83, 'businessman': 83, 'shaki': 83, 'sammi': 83, 'soderbergh': 83, 'valid': 82, 'correctli': 82, 'sid': 82, 'clash': 82, 'primit': 82, 'seal': 82, 'deniro': 82, 'verbal': 82, 'deceas': 82, 'fog': 82, 'uncov': 82, 'austin': 82, 'wholli': 82, 'click': 82, 'judgment': 82, 'jewel': 82, 'polici': 82, 'tarantino': 82, 'fenc': 82, 'unravel': 82, 'reluct': 82, 'furiou': 82, 'tech': 82, 'dee': 82, 'accuraci': 82, 'expedit': 82, 'nathan': 82, 'exclus': 82, 'anchor': 82, '1993': 82, 'antonioni': 82, 'kumar': 82, 'norm': 82, 'sustain': 81, 'seldom': 81, 'unfair': 81, 'fought': 81, 'dreck': 81, 'fart': 81, 'joel': 81, 'patienc': 81, 'wretch': 81, 'clerk': 81, 'roller': 81, '3000': 81, 'alec': 81, 'malon': 81, 'slam': 81, 'bake': 81, 'conduct': 81, 'sunni': 81, 'debt': 81, 'sheet': 81, 'temper': 81, 'logan': 81, 'enforc': 81, '1971': 81, 'fabric': 81, 'murray': 81, 'shanghai': 81, '1995': 81, 'wang': 81, 'behold': 81, 'mode': 81, 'sand': 81, 'ritual': 81, 'crippl': 81, 'nicola': 81, 'hallucin': 81, 'tax': 81, '2008': 81, 'trait': 81, 'darn': 81, 'pocket': 81, 'vanc': 81, 'scriptwrit': 80, 'clau': 80, 'exhaust': 80, 'soup': 80, 'conscious': 80, 'stuart': 80, 'preposter': 80, 'guitar': 80, 'canyon': 80, 'tactic': 80, 'rita': 80, 'sweep': 80, 'bridget': 80, 'isabel': 80, 'squad': 80, 'runner': 80, 'fundament': 80, 'penni': 80, 'technicolor': 80, 'robber': 80, 'phil': 80, 'helpless': 80, 'despis': 80, 'bias': 80, 'grief': 80, 'divid': 80, 'stark': 80, 'schedul': 80, 'shell': 80, 'legaci': 80, 'pete': 80, 'critiqu': 80, 'outlin': 80, 'preston': 80, 'agenc': 79, 'alley': 79, 'rehash': 79, 'sugar': 79, 'unexpectedli': 79, 'restrict': 79, 'jacket': 79, 'sniper': 79, 'inabl': 79, 'jodi': 79, 'russia': 79, 'lacklust': 79, 'liberti': 79, 'bloom': 79, 'drove': 79, 'propos': 79, 'invad': 79, 'gregori': 79, 'alicia': 79, 'culmin': 79, 'delv': 79, 'sentinel': 79, 'vomit': 79, 'passag': 79, 'marc': 79, 'rear': 79, 'newman': 79, 'implic': 79, 'palanc': 79, 'downey': 79, 'flair': 79, 'consciou': 79, 'cigarett': 79, 'boyl': 79, 'kansa': 79, 'connor': 79, 'wrench': 78, 'pale': 78, 'karl': 78, 'rehears': 78, '1936': 78, 'ladder': 78, 'vet': 78, 'cap': 78, '22': 78, 'behaviour': 78, 'mccoy': 78, 'horn': 78, 'improb': 78, 'foxx': 78, 'lush': 78, 'yeti': 78, 'rampag': 78, 'tripe': 78, 'aesthet': 78, 'chainsaw': 78, 'arrow': 78, 'rod': 78, 'tendenc': 78, 'delet': 78, 'feat': 78, 'kolchak': 78, 'bacon': 78, 'asylum': 78, 'awhil': 78, 'sharon': 78, 'filler': 77, 'shortcom': 77, 'paramount': 77, 'rhythm': 77, 'visitor': 77, 'rumor': 77, 'el': 77, 'wagner': 77, 'suspicion': 77, '1920': 77, 'hulk': 77, 'elit': 77, 'conscienc': 77, 'coaster': 77, 'paradis': 77, 'prank': 77, 'tasteless': 77, 'stream': 77, 'financ': 77, 'wildli': 77, 'spice': 77, 'hackney': 77, 'scoop': 77, 'globe': 77, 'lurk': 77, 'weav': 77, 'loneli': 77, 'aristocrat': 77, 'amazon': 77, '19th': 77, 'fright': 77, 'sung': 77, 'thunderbird': 77, '1988': 77, 'underneath': 77, 'tomorrow': 77, '1978': 77, 'basing': 77, 'hungri': 77, 'newcom': 77, 'minu': 77, 'suffici': 77, 'minist': 76, 'immers': 76, 'choppi': 76, 'posey': 76, 'curli': 76, 'heist': 76, 'leigh': 76, 'atroc': 76, 'brit': 76, '1989': 76, 'chavez': 76, 'literari': 76, 'secondari': 76, 'hopkin': 76, 'ram': 76, 'rub': 76, 'ingeni': 76, '75': 76, 'dirt': 76, 'en': 76, 'iv': 76, 'couch': 76, 'standout': 76, 'smell': 76, 'counterpart': 76, 'recogniz': 76, 'naughti': 76, 'grudg': 76, 'entranc': 76, 'tierney': 76, 'impos': 76, 'lectur': 76, 'worship': 76, 'teas': 76, 'beverli': 76, 'quietli': 76, 'inmat': 76, '1939': 76, 'springer': 76, 'straightforward': 76, 'bread': 76, 'abrupt': 76, 'paxton': 76, 'cancer': 76, 'penn': 76, 'wwe': 76, 'chamberlain': 76, 'bernard': 75, 'misguid': 75, 'sassi': 75, 'nolan': 75, 'enthral': 75, 'skeptic': 75, 'injuri': 75, 'sublim': 75, 'heartfelt': 75, 'entitl': 75, 'laurenc': 75, 'policeman': 75, 'net': 75, 'morbid': 75, '1986': 75, 'moreov': 75, 'attenborough': 75, 'clan': 75, 'duel': 75, 'yearn': 75, 'missil': 75, 'ace': 75, 'convert': 75, 'nemesi': 75, 'transcend': 75, 'variat': 75, 'cattl': 75, 'watcher': 75, 'lindsay': 75, 'quaid': 75, 'geni': 75, 'ratso': 75, 'esther': 75, 'moder': 74, 'spiral': 74, 'dont': 74, 'artsi': 74, 'brood': 74, 'poe': 74, 'rosemari': 74, '1979': 74, 'youngest': 74, 'obstacl': 74, 'egg': 74, 'setup': 74, 'kitti': 74, 'hopelessli': 74, 'unexplain': 74, 'carlito': 74, 'grin': 74, 'bye': 74, 'puppi': 74, 'hk': 74, 'cruelti': 74, 'enabl': 74, 'bean': 74, 'out': 74, 'graini': 74, 'facil': 74, 'mytholog': 74, 'reliabl': 74, 'tyler': 74, 'vader': 74, 'buzz': 74, 'characteris': 74, 'diari': 74, 'kidman': 74, 'steadi': 74, 'uncut': 74, 'heap': 73, 'disastr': 73, 'patricia': 73, 'niec': 73, 'underworld': 73, 'christin': 73, 'kline': 73, 'weather': 73, 'sweat': 73, 'despic': 73, 'narrow': 73, 'bewar': 73, 'clueless': 73, 'martha': 73, 'hain': 73, 'effici': 73, 'decept': 73, 'fuel': 73, 'bounc': 73, 'athlet': 73, '1969': 73, 'hammi': 73, 'acquaint': 73, 'exterior': 73, 'oblig': 73, 'baffl': 73, 'spontan': 73, 'gillian': 73, 'gina': 73, 'brendan': 73, 'preming': 73, 'bronson': 73, 'biker': 72, 'rome': 72, 'harmless': 72, 'viewpoint': 72, 'trigger': 72, 'headach': 72, 'insipid': 72, 'uh': 72, 'injur': 72, 'analyz': 72, 'suprem': 72, 'housewif': 72, 'astound': 72, 'renaiss': 72, 'virtu': 72, 'goof': 72, 'dilemma': 72, 'sleepwalk': 72, 'tick': 72, 'outlaw': 72, 'angst': 72, 'mayhem': 72, 'shatter': 72, '19': 72, 'scar': 72, 'sooner': 72, 'enlist': 72, 'mermaid': 72, 'preachi': 72, 'fontain': 72, 'loi': 72, 'hepburn': 72, 'loath': 72, 'dandi': 72, '73': 72, 'taboo': 72, 'candl': 72, 'circu': 72, 'lester': 72, 'cassavet': 71, 'gere': 71, 'ariel': 71, 'camcord': 71, 'oldest': 71, 'dismal': 71, 'macho': 71, 'tripl': 71, 'foolish': 71, 'stimul': 71, 'salt': 71, 'stair': 71, 'hooker': 71, 'guin': 71, 'steer': 71, 'immatur': 71, 'phenomenon': 71, 'bent': 71, 'overlong': 71, 'amor': 71, 'zoom': 71, 'contempt': 71, 'whore': 71, 'surgeri': 71, 'idol': 71, 'glorifi': 71, 'hostag': 71, 'hokey': 71, 'sox': 71, 'boston': 71, 'slimi': 71, 'fluff': 71, 'ebert': 71, 'filth': 71, 'scorses': 71, 'intric': 71, 'corbett': 71, 'dish': 71, 'spade': 71, 'redund': 71, 'claustrophob': 71, 'faint': 70, 'radiat': 70, 'conquer': 70, 'keen': 70, 'margin': 70, 'strongest': 70, 'beard': 70, 'trivia': 70, 'flirt': 70, 'gasp': 70, 'cow': 70, 'spinal': 70, 'gabl': 70, 'schlock': 70, 'proport': 70, 'mutual': 70, 'fascist': 70, 'dwarf': 70, 'rhyme': 70, 'widescreen': 70, 'alvin': 70, 'corman': 70, 'nolt': 70, 'messi': 70, 'assert': 70, 'cohen': 70, 'astronaut': 70, 'transplant': 70, 'shield': 70, 'remad': 70, 'preced': 70, 'perman': 70, 'flashi': 70, 'harold': 70, 'down': 70, 'spree': 70, 'shred': 70, 'flag': 70, 'antagonist': 70, '1981': 70, 'cush': 70, 'muscl': 70, 'zane': 70, '1976': 70, 'mount': 70, 'frantic': 70, 'joker': 70, 'obligatori': 70, 'naschi': 70, 'inflict': 69, 'neurot': 69, 'flock': 69, 'ritchi': 69, 'discern': 69, 'departur': 69, 'deer': 69, 'repris': 69, 'claud': 69, 'off': 69, '95': 69, 'vaniti': 69, 'strive': 69, 'fishburn': 69, 'someday': 69, 'brush': 69, '1945': 69, 'carey': 69, 'scandal': 69, 'mobil': 69, 'resum': 69, 'danish': 69, 'bitten': 69, 'wield': 69, 'www': 69, 'archiv': 69, 'info': 69, 'bachelor': 69, 'boob': 69, 'triangl': 69, 'divin': 69, 'persuad': 69, 'barn': 69, 'interestingli': 69, 'raj': 69, 'hara': 69, 'instruct': 69, '28': 69, 'sensual': 69, 'mol': 69, 'aborigin': 69, 'ish': 68, 'melissa': 68, 'biblic': 68, 'axe': 68, 'senior': 68, 'hilar': 68, 'earnest': 68, 'mobster': 68, 'hapless': 68, 'casino': 68, 'cb': 68, 'clad': 68, 'kathryn': 68, 'hug': 68, 'traffic': 68, 'undermin': 68, 'heartwarm': 68, 'loretta': 68, 'timberlak': 68, 'cycl': 68, 'recit': 68, 'frontier': 68, 'artwork': 68, 'dame': 68, 'jade': 68, 'helm': 68, 'proclaim': 68, 'submit': 68, 'wendigo': 68, 'parson': 68, 'rot': 68, 'dim': 68, 'miracul': 68, 'banter': 68, 'prophet': 68, 'europa': 68, 'colin': 68, 'harrison': 68, 'cher': 68, 'luka': 68, 'carlo': 68, 'vibrant': 68, 'dylan': 68, 'bate': 68, 'fragil': 68, 'cliffhang': 68, 'anton': 68, 'pickford': 68, 'neill': 68, 'pacif': 68, 'pixar': 68, 'http': 67, 'seedi': 67, 'static': 67, 'breakfast': 67, 'foil': 67, 'misfortun': 67, 'winchest': 67, 'blatantli': 67, 'jo': 67, 'venom': 67, 'holocaust': 67, 'wardrob': 67, 'lucil': 67, 'flavor': 67, 'choke': 67, 'aris': 67, 'feast': 67, 'shepherd': 67, 'toronto': 67, 'illus': 67, 'trier': 67, 'pc': 67, 'milo': 67, 'isra': 67, 'cerebr': 67, 'eli': 67, 'northern': 67, 'bondag': 67, 'bikini': 67, 'articl': 67, 'vile': 67, 'marlon': 67, 'akin': 67, 'razor': 67, 'redneck': 67, 'uma': 67, 'jordan': 67, 'nope': 67, 'orphan': 67, 'sicken': 67, 'estrang': 67, 'token': 67, 'vanessa': 67, 'rooki': 67, 'mason': 67, 'legitim': 67, 'electron': 67, 'alexandr': 67, 'antholog': 67, 'mathieu': 67, 'lui': 67, 'gilbert': 66, 'comprehend': 66, 'abund': 66, 'clinic': 66, 'linear': 66, 'disregard': 66, 'turd': 66, 'affleck': 66, 'oppon': 66, 'knightley': 66, 'deem': 66, 'psych': 66, 'magician': 66, 'fifth': 66, 'smack': 66, 'cartoonish': 66, 'outdat': 66, 'glare': 66, 'howl': 66, 'leather': 66, 'retriev': 66, 'feminin': 66, 'ideolog': 66, 'ceremoni': 66, 'shorter': 66, 'huston': 66, 'charlton': 66, 'dudley': 66, 'peer': 66, 'wrestler': 66, 'tack': 66, 'styliz': 66, 'swept': 66, 'gunga': 66, 'highway': 66, 'nightclub': 66, 'audrey': 66, 'boyer': 66, 'frog': 66, 'plate': 65, 'energet': 65, 'boo': 65, 'bastard': 65, 'snatch': 65, 'evolut': 65, 'durat': 65, '1991': 65, 'greet': 65, 'moe': 65, 'lavish': 65, 'cemeteri': 65, 'potter': 65, 'senat': 65, 'mitch': 65, 'toe': 65, 'tara': 65, 'spawn': 65, 'bogu': 65, 'whack': 65, 'newer': 65, 'sleaz': 65, 'uniformli': 65, 'breakdown': 65, 'collector': 65, 'summar': 65, 'compris': 65, 'spine': 65, '1994': 65, 'deliver': 65, 'chip': 65, 'braveheart': 65, 'btw': 65, 'phenomen': 65, 'conrad': 65, 'einstein': 65, 'goldsworthi': 65, 'lighter': 65, 'salman': 65, 'monument': 65, 'lifeless': 65, '4th': 65, 'client': 65, 'cuban': 65, 'corn': 65, '1977': 64, 'ie': 64, '1974': 64, 'healthi': 64, 'wtf': 64, 'evelyn': 64, 'clara': 64, 'trauma': 64, 'eleven': 64, 'occup': 64, 'neatli': 64, 'judd': 64, 'randolph': 64, 'jam': 64, 'belli': 64, 'historian': 64, 'spectacl': 64, 'bulk': 64, 'pronounc': 64, 'nina': 64, 'undertak': 64, 'armstrong': 64, 'sorrow': 64, 'alleg': 64, 'inaccuraci': 64, 'creek': 64, 'appl': 64, 'kazan': 64, 'replay': 64, 'cecil': 64, 'constitut': 64, 'signal': 64, 'fluid': 64, 'undead': 64, 'capot': 64, 'jule': 64, 'jedi': 64, 'firmli': 64, 'gilliam': 64, 'liu': 64, 'bori': 64, 'luxuri': 64, 'kent': 64, 'lex': 64, 'embark': 64, 'mcqueen': 64, 'outright': 64, 'ol': 64, 'jare': 64, 'spray': 63, 'decapit': 63, 'walt': 63, 'propheci': 63, 'aussi': 63, 'knee': 63, 'paula': 63, 'curtain': 63, 'unsuspect': 63, 'inaccur': 63, 'congratul': 63, 'pioneer': 63, 'ash': 63, 'blur': 63, 'unattract': 63, 'genet': 63, 'bait': 63, 'kiddi': 63, 'goldblum': 63, 'roar': 63, 'lauren': 63, 'subtli': 63, 'truman': 63, 'pepper': 63, 'porter': 63, 'id': 63, 'inclus': 63, 'mum': 63, 'meal': 63, '1985': 63, 'sacrif': 63, 'vain': 63, 'comprehens': 63, 'carmen': 63, 'forgiven': 63, 'galaxi': 63, 'vignett': 63, 'antonio': 63, 'miami': 63, 'comb': 63, 'cape': 63, 'groan': 63, 'palm': 63, 'relentless': 63, 'fruit': 63, 'rosario': 63, 'abound': 63, 'poker': 63, 'conan': 63, 'miniseri': 63, 'basket': 63, 'sidewalk': 63, 'lanc': 63, 'bsg': 63, 'tokyo': 63, 'rapidli': 62, 'bach': 62, 'weari': 62, 'victorian': 62, 'growth': 62, 'vastli': 62, 'casper': 62, 'asset': 62, 'modest': 62, 'epitom': 62, 'profil': 62, 'substanti': 62, 'verg': 62, 'hostil': 62, 'assort': 62, 'dubiou': 62, 'frontal': 62, 'ghetto': 62, 'macabr': 62, 'mice': 62, 'cypher': 62, 'hackman': 62, 'masterson': 62, 'drone': 62, 'sparkl': 62, 'detach': 62, 'bravo': 62, 'playboy': 62, 'reincarn': 62, 'turtl': 62, 'evan': 62, 'handicap': 62, 'scarfac': 62, 'optimist': 62, 'orchestr': 62, 'jill': 62}\n"
     ]
    }
   ],
   "source": [
    "print(word_dict)"
   ]
  },
  {
   "cell_type": "markdown",
   "metadata": {},
   "source": [
    "**Question:** What are the five most frequently appearing (tokenized) words in the training set? Does it makes sense that these words appear frequently in the training set?"
   ]
  },
  {
   "cell_type": "markdown",
   "metadata": {},
   "source": [
    "**Answer:**\n",
    "- The five most frequently appearing words are: 'movi','film','one','like','time'\n",
    "- It makes sense that these words appear very frequently because they are related to describing movies in general,\n",
    "  though they do not indicate any sentiment and are neutral"
   ]
  },
  {
   "cell_type": "code",
   "execution_count": 92,
   "metadata": {},
   "outputs": [
    {
     "name": "stdout",
     "output_type": "stream",
     "text": [
      "\n",
      "Below please find a table with the most frequent words:\n"
     ]
    },
    {
     "data": {
      "text/html": [
       "<div>\n",
       "<style scoped>\n",
       "    .dataframe tbody tr th:only-of-type {\n",
       "        vertical-align: middle;\n",
       "    }\n",
       "\n",
       "    .dataframe tbody tr th {\n",
       "        vertical-align: top;\n",
       "    }\n",
       "\n",
       "    .dataframe thead th {\n",
       "        text-align: right;\n",
       "    }\n",
       "</style>\n",
       "<table border=\"1\" class=\"dataframe\">\n",
       "  <thead>\n",
       "    <tr style=\"text-align: right;\">\n",
       "      <th></th>\n",
       "      <th>total word count</th>\n",
       "    </tr>\n",
       "  </thead>\n",
       "  <tbody>\n",
       "    <tr>\n",
       "      <th>movi</th>\n",
       "      <td>51695</td>\n",
       "    </tr>\n",
       "    <tr>\n",
       "      <th>film</th>\n",
       "      <td>48190</td>\n",
       "    </tr>\n",
       "    <tr>\n",
       "      <th>one</th>\n",
       "      <td>27741</td>\n",
       "    </tr>\n",
       "    <tr>\n",
       "      <th>like</th>\n",
       "      <td>22799</td>\n",
       "    </tr>\n",
       "    <tr>\n",
       "      <th>time</th>\n",
       "      <td>16191</td>\n",
       "    </tr>\n",
       "  </tbody>\n",
       "</table>\n",
       "</div>"
      ],
      "text/plain": [
       "      total word count\n",
       "movi             51695\n",
       "film             48190\n",
       "one              27741\n",
       "like             22799\n",
       "time             16191"
      ]
     },
     "metadata": {},
     "output_type": "display_data"
    }
   ],
   "source": [
    "# DONE: Use this space to determine the five most frequently appearing words in the training set.\n",
    "import pandas as pd\n",
    "\n",
    "toplist=[]\n",
    "toplist_ct=[]\n",
    "n=0\n",
    "\n",
    "for i in word_dict_raw.keys():\n",
    "    n+=1\n",
    "    toplist.append(i[0])\n",
    "    toplist_ct.append(i[1])\n",
    "    if n==5:\n",
    "        break\n",
    "        \n",
    "df_top_5 = pd.DataFrame(toplist_ct, index =toplist, columns =['total word count'])\n",
    "\n",
    "print('\\nBelow please find a table with the most frequent words:')\n",
    "display(df_top_5)"
   ]
  },
  {
   "cell_type": "markdown",
   "metadata": {},
   "source": [
    "### Save `word_dict`\n",
    "\n",
    "Later on when we construct an endpoint which processes a submitted review we will need to make use of the `word_dict` which we have created. As such, we will save it to a file now for future use."
   ]
  },
  {
   "cell_type": "code",
   "execution_count": 93,
   "metadata": {},
   "outputs": [],
   "source": [
    "data_dir = '../data/pytorch' # The folder we will use for storing data\n",
    "if not os.path.exists(data_dir): # Make sure that the folder exists\n",
    "    os.makedirs(data_dir)"
   ]
  },
  {
   "cell_type": "code",
   "execution_count": 94,
   "metadata": {},
   "outputs": [],
   "source": [
    "with open(os.path.join(data_dir, 'word_dict.pkl'), \"wb\") as f:\n",
    "    pickle.dump(word_dict, f)"
   ]
  },
  {
   "cell_type": "markdown",
   "metadata": {},
   "source": [
    "### Transform the reviews\n",
    "\n",
    "Now that we have our word dictionary which allows us to transform the words appearing in the reviews into integers, it is time to make use of it and convert our reviews to their integer sequence representation, making sure to pad or truncate to a fixed length, which in our case is `500`."
   ]
  },
  {
   "cell_type": "code",
   "execution_count": 95,
   "metadata": {},
   "outputs": [],
   "source": [
    "def convert_and_pad(word_dict, sentence, pad=500):\n",
    "    NOWORD = 0 # We will use 0 to represent the 'no word' category\n",
    "    INFREQ = 1 # and we use 1 to represent the infrequent words, i.e., words not appearing in word_dict\n",
    "    \n",
    "    working_sentence = [NOWORD] * pad\n",
    "    \n",
    "    for word_index, word in enumerate(sentence[:pad]):\n",
    "        if word in word_dict:\n",
    "            working_sentence[word_index] = word_dict[word]\n",
    "        else:\n",
    "            working_sentence[word_index] = INFREQ\n",
    "            \n",
    "    return working_sentence, min(len(sentence), pad)\n",
    "\n",
    "def convert_and_pad_data(word_dict, data, pad=500):\n",
    "    result = []\n",
    "    lengths = []\n",
    "    \n",
    "    for sentence in data:\n",
    "        converted, leng = convert_and_pad(word_dict, sentence, pad)\n",
    "        result.append(converted)\n",
    "        lengths.append(leng)\n",
    "    return np.array(result), np.array(lengths)"
   ]
  },
  {
   "cell_type": "code",
   "execution_count": 96,
   "metadata": {},
   "outputs": [],
   "source": [
    "train_X, train_X_len = convert_and_pad_data(word_dict, train_X)\n",
    "test_X, test_X_len = convert_and_pad_data(word_dict, test_X)"
   ]
  },
  {
   "cell_type": "markdown",
   "metadata": {},
   "source": [
    "As a quick check to make sure that things are working as intended, check to see what one of the reviews in the training set looks like after having been processeed. Does this look reasonable? What is the length of a review in the training set?"
   ]
  },
  {
   "cell_type": "code",
   "execution_count": 106,
   "metadata": {},
   "outputs": [
    {
     "name": "stdout",
     "output_type": "stream",
     "text": [
      "(CHECK 1) The length of a review in the training set is:  500 \n",
      "\n",
      "(CHECK 2) The length of a review in the test set is:  500 \n",
      "\n",
      "(CHECK 3) Sample array of training set looks like:\n",
      "\n",
      " [ 6874  1033 51695  9305  3230  1463 14111  3717 48190  3773 12436 15360\n",
      "  4447  2222    71     1  2222     1  6876  2799  1814  5120   923  1588\n",
      "     1     1   420  1007  2297 16191   574  3794   194 15360  1870  1933\n",
      " 48190  5123     1  6876  2520     1 14111     1  2132  2222    71     1\n",
      "  8362 51695  1057  1081 48190 14111  3392   994   112  1358 16191  3230\n",
      "     1   229  2731 51695  5999  8362   256  2333  6681  6688   713  8362\n",
      " 48190   201  2293     1  7457   438  2978  1468     1  3139 51695  4447\n",
      "   352     1  1856  1468 51695     1  1462   278    80    70    96  1468\n",
      " 51695     1  3537  2906   491  5123     1     1  6640  2004  2159  3230\n",
      " 51695  3392  6681  3243   570  5749  1468     1    67     1     1   231\n",
      "     0     0     0     0     0     0     0     0     0     0     0     0\n",
      "     0     0     0     0     0     0     0     0     0     0     0     0\n",
      "     0     0     0     0     0     0     0     0     0     0     0     0\n",
      "     0     0     0     0     0     0     0     0     0     0     0     0\n",
      "     0     0     0     0     0     0     0     0     0     0     0     0\n",
      "     0     0     0     0     0     0     0     0     0     0     0     0\n",
      "     0     0     0     0     0     0     0     0     0     0     0     0\n",
      "     0     0     0     0     0     0     0     0     0     0     0     0\n",
      "     0     0     0     0     0     0     0     0     0     0     0     0\n",
      "     0     0     0     0     0     0     0     0     0     0     0     0\n",
      "     0     0     0     0     0     0     0     0     0     0     0     0\n",
      "     0     0     0     0     0     0     0     0     0     0     0     0\n",
      "     0     0     0     0     0     0     0     0     0     0     0     0\n",
      "     0     0     0     0     0     0     0     0     0     0     0     0\n",
      "     0     0     0     0     0     0     0     0     0     0     0     0\n",
      "     0     0     0     0     0     0     0     0     0     0     0     0\n",
      "     0     0     0     0     0     0     0     0     0     0     0     0\n",
      "     0     0     0     0     0     0     0     0     0     0     0     0\n",
      "     0     0     0     0     0     0     0     0     0     0     0     0\n",
      "     0     0     0     0     0     0     0     0     0     0     0     0\n",
      "     0     0     0     0     0     0     0     0     0     0     0     0\n",
      "     0     0     0     0     0     0     0     0     0     0     0     0\n",
      "     0     0     0     0     0     0     0     0     0     0     0     0\n",
      "     0     0     0     0     0     0     0     0     0     0     0     0\n",
      "     0     0     0     0     0     0     0     0     0     0     0     0\n",
      "     0     0     0     0     0     0     0     0     0     0     0     0\n",
      "     0     0     0     0     0     0     0     0     0     0     0     0\n",
      "     0     0     0     0     0     0     0     0     0     0     0     0\n",
      "     0     0     0     0     0     0     0     0     0     0     0     0\n",
      "     0     0     0     0     0     0     0     0     0     0     0     0\n",
      "     0     0     0     0     0     0     0     0     0     0     0     0\n",
      "     0     0     0     0     0     0     0     0] \n",
      "\n",
      "(CHECK 4) Sample array of test set looks like:\n",
      "\n",
      " [ 3554 15360  2827   349   635  5300 10586  3452  3274    75   927  4741\n",
      "  9391  3616  4013  3268 13168   304  1854  1295  9878     1   151     1\n",
      "   189   397     1   472     1  4477    97   412  4013   316     1  1716\n",
      "     1  3148   279   201     1     1    79  5123   570     1  7101  4583\n",
      "     1     1  5123     1     1   666    63   306  8213  3007   283   476\n",
      "   998   609   148   151    86   200     1   249     1   135   116    70\n",
      "   154     1   328     1   664   708   129 51695  5792  1981  3008   708\n",
      "  2784 16191  3048     1   306  4741   264   762   264   367    65  4325\n",
      " 51695    98  2618   968    86   511   687 15360   160  5133  4741  2828\n",
      "     1     1   154  2416   998  6908   171     1 27741  6424  1554     1\n",
      "   327   477    90   189  1338   193   200 22799     1     1 27741  1146\n",
      "     1  3554 27741     1     0     0     0     0     0     0     0     0\n",
      "     0     0     0     0     0     0     0     0     0     0     0     0\n",
      "     0     0     0     0     0     0     0     0     0     0     0     0\n",
      "     0     0     0     0     0     0     0     0     0     0     0     0\n",
      "     0     0     0     0     0     0     0     0     0     0     0     0\n",
      "     0     0     0     0     0     0     0     0     0     0     0     0\n",
      "     0     0     0     0     0     0     0     0     0     0     0     0\n",
      "     0     0     0     0     0     0     0     0     0     0     0     0\n",
      "     0     0     0     0     0     0     0     0     0     0     0     0\n",
      "     0     0     0     0     0     0     0     0     0     0     0     0\n",
      "     0     0     0     0     0     0     0     0     0     0     0     0\n",
      "     0     0     0     0     0     0     0     0     0     0     0     0\n",
      "     0     0     0     0     0     0     0     0     0     0     0     0\n",
      "     0     0     0     0     0     0     0     0     0     0     0     0\n",
      "     0     0     0     0     0     0     0     0     0     0     0     0\n",
      "     0     0     0     0     0     0     0     0     0     0     0     0\n",
      "     0     0     0     0     0     0     0     0     0     0     0     0\n",
      "     0     0     0     0     0     0     0     0     0     0     0     0\n",
      "     0     0     0     0     0     0     0     0     0     0     0     0\n",
      "     0     0     0     0     0     0     0     0     0     0     0     0\n",
      "     0     0     0     0     0     0     0     0     0     0     0     0\n",
      "     0     0     0     0     0     0     0     0     0     0     0     0\n",
      "     0     0     0     0     0     0     0     0     0     0     0     0\n",
      "     0     0     0     0     0     0     0     0     0     0     0     0\n",
      "     0     0     0     0     0     0     0     0     0     0     0     0\n",
      "     0     0     0     0     0     0     0     0     0     0     0     0\n",
      "     0     0     0     0     0     0     0     0     0     0     0     0\n",
      "     0     0     0     0     0     0     0     0     0     0     0     0\n",
      "     0     0     0     0     0     0     0     0     0     0     0     0\n",
      "     0     0     0     0     0     0     0     0     0     0     0     0\n",
      "     0     0     0     0     0     0     0     0]\n"
     ]
    }
   ],
   "source": [
    "# Use this cell to examine one of the processed reviews to make sure everything is working as intended.\n",
    "print('(CHECK 1) The length of a review in the training set is: ',len(train_X[8]),'\\n')\n",
    "print('(CHECK 2) The length of a review in the test set is: ',len(test_X[8]),'\\n')\n",
    "print('(CHECK 3) Sample array of training set looks like:\\n\\n',train_X[8],'\\n')\n",
    "print('(CHECK 4) Sample array of test set looks like:\\n\\n',test_X[8])"
   ]
  },
  {
   "cell_type": "markdown",
   "metadata": {},
   "source": [
    "**Question:** In the cells above we use the `preprocess_data` and `convert_and_pad_data` methods to process both the training and testing set. Why or why not might this be a problem?"
   ]
  },
  {
   "cell_type": "markdown",
   "metadata": {},
   "source": [
    "**Answer:**\n",
    "\n",
    "That training and test data sets are preprocessed the same way is generally a good idea - otherwise differences could occur based on artefacts in text preprocessing which then could lead to misclassification and poor performance. If both data sets are preprocessed using identical functions this risk is minimized. However, test data and training data could differ in some way and thus make different ways of processing necessary. Training and test data in the context of preprocessing should be monitored well."
   ]
  },
  {
   "cell_type": "markdown",
   "metadata": {},
   "source": [
    "## Step 3: Upload the data to S3\n",
    "\n",
    "As in the XGBoost notebook, we will need to upload the training dataset to S3 in order for our training code to access it. For now we will save it locally and we will upload to S3 later on.\n",
    "\n",
    "### Save the processed training dataset locally\n",
    "\n",
    "It is important to note the format of the data that we are saving as we will need to know it when we write the training code. In our case, each row of the dataset has the form `label`, `length`, `review[500]` where `review[500]` is a sequence of `500` integers representing the words in the review."
   ]
  },
  {
   "cell_type": "code",
   "execution_count": 107,
   "metadata": {},
   "outputs": [],
   "source": [
    "import pandas as pd\n",
    "    \n",
    "pd.concat([pd.DataFrame(train_y), pd.DataFrame(train_X_len), pd.DataFrame(train_X)], axis=1) \\\n",
    "        .to_csv(os.path.join(data_dir, 'train.csv'), header=False, index=False)"
   ]
  },
  {
   "cell_type": "markdown",
   "metadata": {},
   "source": [
    "### Uploading the training data\n",
    "\n",
    "\n",
    "Next, we need to upload the training data to the SageMaker default S3 bucket so that we can provide access to it while training our model."
   ]
  },
  {
   "cell_type": "code",
   "execution_count": 108,
   "metadata": {},
   "outputs": [],
   "source": [
    "import sagemaker\n",
    "\n",
    "sagemaker_session = sagemaker.Session()\n",
    "\n",
    "bucket = sagemaker_session.default_bucket()\n",
    "prefix = 'sagemaker/sentiment_rnn'\n",
    "\n",
    "role = sagemaker.get_execution_role()"
   ]
  },
  {
   "cell_type": "code",
   "execution_count": 109,
   "metadata": {},
   "outputs": [],
   "source": [
    "input_data = sagemaker_session.upload_data(path=data_dir, bucket=bucket, key_prefix=prefix)"
   ]
  },
  {
   "cell_type": "markdown",
   "metadata": {},
   "source": [
    "**NOTE:** The cell above uploads the entire contents of our data directory. This includes the `word_dict.pkl` file. This is fortunate as we will need this later on when we create an endpoint that accepts an arbitrary review. For now, we will just take note of the fact that it resides in the data directory (and so also in the S3 training bucket) and that we will need to make sure it gets saved in the model directory."
   ]
  },
  {
   "cell_type": "markdown",
   "metadata": {},
   "source": [
    "## Step 4: Build and Train the PyTorch Model\n",
    "\n",
    "In the XGBoost notebook we discussed what a model is in the SageMaker framework. In particular, a model comprises three objects\n",
    "\n",
    " - Model Artifacts,\n",
    " - Training Code, and\n",
    " - Inference Code,\n",
    " \n",
    "each of which interact with one another. In the XGBoost example we used training and inference code that was provided by Amazon. Here we will still be using containers provided by Amazon with the added benefit of being able to include our own custom code.\n",
    "\n",
    "We will start by implementing our own neural network in PyTorch along with a training script. For the purposes of this project we have provided the necessary model object in the `model.py` file, inside of the `train` folder. You can see the provided implementation by running the cell below."
   ]
  },
  {
   "cell_type": "code",
   "execution_count": 110,
   "metadata": {},
   "outputs": [
    {
     "name": "stdout",
     "output_type": "stream",
     "text": [
      "\u001b[34mimport\u001b[39;49;00m \u001b[04m\u001b[36mtorch\u001b[39;49;00m\u001b[04m\u001b[36m.\u001b[39;49;00m\u001b[04m\u001b[36mnn\u001b[39;49;00m \u001b[34mas\u001b[39;49;00m \u001b[04m\u001b[36mnn\u001b[39;49;00m\r\n",
      "\r\n",
      "\u001b[34mclass\u001b[39;49;00m \u001b[04m\u001b[32mLSTMClassifier\u001b[39;49;00m(nn.Module):\r\n",
      "    \u001b[33m\"\"\"\u001b[39;49;00m\r\n",
      "\u001b[33m    This is the simple RNN model we will be using to perform Sentiment Analysis.\u001b[39;49;00m\r\n",
      "\u001b[33m    \"\"\"\u001b[39;49;00m\r\n",
      "\r\n",
      "    \u001b[34mdef\u001b[39;49;00m \u001b[32m__init__\u001b[39;49;00m(\u001b[36mself\u001b[39;49;00m, embedding_dim, hidden_dim, vocab_size):\r\n",
      "        \u001b[33m\"\"\"\u001b[39;49;00m\r\n",
      "\u001b[33m        Initialize the model by settingg up the various layers.\u001b[39;49;00m\r\n",
      "\u001b[33m        \"\"\"\u001b[39;49;00m\r\n",
      "        \u001b[36msuper\u001b[39;49;00m(LSTMClassifier, \u001b[36mself\u001b[39;49;00m).\u001b[32m__init__\u001b[39;49;00m()\r\n",
      "\r\n",
      "        \u001b[36mself\u001b[39;49;00m.embedding = nn.Embedding(vocab_size, embedding_dim, padding_idx=\u001b[34m0\u001b[39;49;00m)\r\n",
      "        \u001b[36mself\u001b[39;49;00m.lstm = nn.LSTM(embedding_dim, hidden_dim)\r\n",
      "        \u001b[36mself\u001b[39;49;00m.dense = nn.Linear(in_features=hidden_dim, out_features=\u001b[34m1\u001b[39;49;00m)\r\n",
      "        \u001b[36mself\u001b[39;49;00m.sig = nn.Sigmoid()\r\n",
      "        \r\n",
      "        \u001b[36mself\u001b[39;49;00m.word_dict = \u001b[34mNone\u001b[39;49;00m\r\n",
      "\r\n",
      "    \u001b[34mdef\u001b[39;49;00m \u001b[32mforward\u001b[39;49;00m(\u001b[36mself\u001b[39;49;00m, x):\r\n",
      "        \u001b[33m\"\"\"\u001b[39;49;00m\r\n",
      "\u001b[33m        Perform a forward pass of our model on some input.\u001b[39;49;00m\r\n",
      "\u001b[33m        \"\"\"\u001b[39;49;00m\r\n",
      "        x = x.t()\r\n",
      "        lengths = x[\u001b[34m0\u001b[39;49;00m,:]\r\n",
      "        reviews = x[\u001b[34m1\u001b[39;49;00m:,:]\r\n",
      "        embeds = \u001b[36mself\u001b[39;49;00m.embedding(reviews)\r\n",
      "        lstm_out, _ = \u001b[36mself\u001b[39;49;00m.lstm(embeds)\r\n",
      "        out = \u001b[36mself\u001b[39;49;00m.dense(lstm_out)\r\n",
      "        out = out[lengths - \u001b[34m1\u001b[39;49;00m, \u001b[36mrange\u001b[39;49;00m(\u001b[36mlen\u001b[39;49;00m(lengths))]\r\n",
      "        \u001b[34mreturn\u001b[39;49;00m \u001b[36mself\u001b[39;49;00m.sig(out.squeeze())\r\n"
     ]
    }
   ],
   "source": [
    "!pygmentize train/model.py"
   ]
  },
  {
   "cell_type": "markdown",
   "metadata": {},
   "source": [
    "The important takeaway from the implementation provided is that there are three parameters that we may wish to tweak to improve the performance of our model. These are the embedding dimension, the hidden dimension and the size of the vocabulary. We will likely want to make these parameters configurable in the training script so that if we wish to modify them we do not need to modify the script itself. We will see how to do this later on. To start we will write some of the training code in the notebook so that we can more easily diagnose any issues that arise.\n",
    "\n",
    "First we will load a small portion of the training data set to use as a sample. It would be very time consuming to try and train the model completely in the notebook as we do not have access to a gpu and the compute instance that we are using is not particularly powerful. However, we can work on a small bit of the data to get a feel for how our training script is behaving."
   ]
  },
  {
   "cell_type": "code",
   "execution_count": 118,
   "metadata": {},
   "outputs": [],
   "source": [
    "import torch\n",
    "import torch.utils.data\n",
    "\n",
    "# Read in only the first 250 rows\n",
    "train_sample = pd.read_csv(os.path.join(data_dir, 'train.csv'), header=None, names=None, nrows=250)\n",
    "\n",
    "# Turn the input pandas dataframe into tensors\n",
    "train_sample_y = torch.from_numpy(train_sample[[0]].values).float().squeeze()\n",
    "train_sample_X = torch.from_numpy(train_sample.drop([0], axis=1).values).long()\n",
    "\n",
    "# Build the dataset\n",
    "train_sample_ds = torch.utils.data.TensorDataset(train_sample_X, train_sample_y)\n",
    "# Build the dataloader\n",
    "train_sample_dl = torch.utils.data.DataLoader(train_sample_ds, batch_size=50)"
   ]
  },
  {
   "cell_type": "markdown",
   "metadata": {},
   "source": [
    "### (TODO) Writing the training method\n",
    "\n",
    "Next we need to write the training code itself. This should be very similar to training methods that you have written before to train PyTorch models. We will leave any difficult aspects such as model saving / loading and parameter loading until a little later."
   ]
  },
  {
   "cell_type": "code",
   "execution_count": 126,
   "metadata": {},
   "outputs": [],
   "source": [
    "def train(model, train_loader, epochs, optimizer, loss_fn, device):\n",
    "    \n",
    "    for epoch in range(1, epochs + 1):\n",
    "        \n",
    "        model.train()\n",
    "        total_loss = 0\n",
    "        \n",
    "        for batch in train_loader:         \n",
    "            batch_X, batch_y = batch\n",
    "            \n",
    "            batch_X = batch_X.to(device)\n",
    "            batch_y = batch_y.to(device)\n",
    "            \n",
    "            # DONE: Complete this train method to train the model provided.\n",
    "            \n",
    "            optimizer.zero_grad()\n",
    "            y_hat=model.forward(batch_X)\n",
    "            loss=loss_fn(y_hat,batch_y)\n",
    "            loss.backward()\n",
    "            optimizer.step()\n",
    "            \n",
    "            total_loss += loss.data.item()\n",
    "            \n",
    "        print(\"Epoch: {}, BCELoss: {}\".format(epoch, total_loss / len(train_loader)))"
   ]
  },
  {
   "cell_type": "markdown",
   "metadata": {},
   "source": [
    "Supposing we have the training method above, we will test that it is working by writing a bit of code in the notebook that executes our training method on the small sample training set that we loaded earlier. The reason for doing this in the notebook is so that we have an opportunity to fix any errors that arise early when they are easier to diagnose."
   ]
  },
  {
   "cell_type": "code",
   "execution_count": 127,
   "metadata": {},
   "outputs": [
    {
     "ename": "RuntimeError",
     "evalue": "index out of range: Tried to access index 51695 out of table with 4999 rows. at /opt/conda/conda-bld/pytorch_1579022034529/work/aten/src/TH/generic/THTensorEvenMoreMath.cpp:418",
     "output_type": "error",
     "traceback": [
      "\u001b[0;31m---------------------------------------------------------------------------\u001b[0m",
      "\u001b[0;31mRuntimeError\u001b[0m                              Traceback (most recent call last)",
      "\u001b[0;32m<ipython-input-127-f57cabb06b05>\u001b[0m in \u001b[0;36m<module>\u001b[0;34m\u001b[0m\n\u001b[1;32m      7\u001b[0m \u001b[0mloss_fn\u001b[0m \u001b[0;34m=\u001b[0m \u001b[0mtorch\u001b[0m\u001b[0;34m.\u001b[0m\u001b[0mnn\u001b[0m\u001b[0;34m.\u001b[0m\u001b[0mBCELoss\u001b[0m\u001b[0;34m(\u001b[0m\u001b[0;34m)\u001b[0m\u001b[0;34m\u001b[0m\u001b[0;34m\u001b[0m\u001b[0m\n\u001b[1;32m      8\u001b[0m \u001b[0;34m\u001b[0m\u001b[0m\n\u001b[0;32m----> 9\u001b[0;31m \u001b[0mtrain\u001b[0m\u001b[0;34m(\u001b[0m\u001b[0mmodel\u001b[0m\u001b[0;34m,\u001b[0m \u001b[0mtrain_sample_dl\u001b[0m\u001b[0;34m,\u001b[0m \u001b[0;36m5\u001b[0m\u001b[0;34m,\u001b[0m \u001b[0moptimizer\u001b[0m\u001b[0;34m,\u001b[0m \u001b[0mloss_fn\u001b[0m\u001b[0;34m,\u001b[0m \u001b[0mdevice\u001b[0m\u001b[0;34m)\u001b[0m\u001b[0;34m\u001b[0m\u001b[0;34m\u001b[0m\u001b[0m\n\u001b[0m",
      "\u001b[0;32m<ipython-input-126-750d12b8341d>\u001b[0m in \u001b[0;36mtrain\u001b[0;34m(model, train_loader, epochs, optimizer, loss_fn, device)\u001b[0m\n\u001b[1;32m     15\u001b[0m \u001b[0;34m\u001b[0m\u001b[0m\n\u001b[1;32m     16\u001b[0m             \u001b[0moptimizer\u001b[0m\u001b[0;34m.\u001b[0m\u001b[0mzero_grad\u001b[0m\u001b[0;34m(\u001b[0m\u001b[0;34m)\u001b[0m\u001b[0;34m\u001b[0m\u001b[0;34m\u001b[0m\u001b[0m\n\u001b[0;32m---> 17\u001b[0;31m             \u001b[0my_hat\u001b[0m\u001b[0;34m=\u001b[0m\u001b[0mmodel\u001b[0m\u001b[0;34m.\u001b[0m\u001b[0mforward\u001b[0m\u001b[0;34m(\u001b[0m\u001b[0mbatch_X\u001b[0m\u001b[0;34m)\u001b[0m\u001b[0;34m\u001b[0m\u001b[0;34m\u001b[0m\u001b[0m\n\u001b[0m\u001b[1;32m     18\u001b[0m             \u001b[0mloss\u001b[0m\u001b[0;34m=\u001b[0m\u001b[0mloss_fn\u001b[0m\u001b[0;34m(\u001b[0m\u001b[0my_hat\u001b[0m\u001b[0;34m,\u001b[0m\u001b[0mbatch_y\u001b[0m\u001b[0;34m)\u001b[0m\u001b[0;34m\u001b[0m\u001b[0;34m\u001b[0m\u001b[0m\n\u001b[1;32m     19\u001b[0m             \u001b[0mloss\u001b[0m\u001b[0;34m.\u001b[0m\u001b[0mbackward\u001b[0m\u001b[0;34m(\u001b[0m\u001b[0;34m)\u001b[0m\u001b[0;34m\u001b[0m\u001b[0;34m\u001b[0m\u001b[0m\n",
      "\u001b[0;32m~/SageMaker/SageMaker/Project/train/model.py\u001b[0m in \u001b[0;36mforward\u001b[0;34m(self, x)\u001b[0m\n\u001b[1;32m     26\u001b[0m         \u001b[0mlengths\u001b[0m \u001b[0;34m=\u001b[0m \u001b[0mx\u001b[0m\u001b[0;34m[\u001b[0m\u001b[0;36m0\u001b[0m\u001b[0;34m,\u001b[0m\u001b[0;34m:\u001b[0m\u001b[0;34m]\u001b[0m\u001b[0;34m\u001b[0m\u001b[0;34m\u001b[0m\u001b[0m\n\u001b[1;32m     27\u001b[0m         \u001b[0mreviews\u001b[0m \u001b[0;34m=\u001b[0m \u001b[0mx\u001b[0m\u001b[0;34m[\u001b[0m\u001b[0;36m1\u001b[0m\u001b[0;34m:\u001b[0m\u001b[0;34m,\u001b[0m\u001b[0;34m:\u001b[0m\u001b[0;34m]\u001b[0m\u001b[0;34m\u001b[0m\u001b[0;34m\u001b[0m\u001b[0m\n\u001b[0;32m---> 28\u001b[0;31m         \u001b[0membeds\u001b[0m \u001b[0;34m=\u001b[0m \u001b[0mself\u001b[0m\u001b[0;34m.\u001b[0m\u001b[0membedding\u001b[0m\u001b[0;34m(\u001b[0m\u001b[0mreviews\u001b[0m\u001b[0;34m)\u001b[0m\u001b[0;34m\u001b[0m\u001b[0;34m\u001b[0m\u001b[0m\n\u001b[0m\u001b[1;32m     29\u001b[0m         \u001b[0mlstm_out\u001b[0m\u001b[0;34m,\u001b[0m \u001b[0m_\u001b[0m \u001b[0;34m=\u001b[0m \u001b[0mself\u001b[0m\u001b[0;34m.\u001b[0m\u001b[0mlstm\u001b[0m\u001b[0;34m(\u001b[0m\u001b[0membeds\u001b[0m\u001b[0;34m)\u001b[0m\u001b[0;34m\u001b[0m\u001b[0;34m\u001b[0m\u001b[0m\n\u001b[1;32m     30\u001b[0m         \u001b[0mout\u001b[0m \u001b[0;34m=\u001b[0m \u001b[0mself\u001b[0m\u001b[0;34m.\u001b[0m\u001b[0mdense\u001b[0m\u001b[0;34m(\u001b[0m\u001b[0mlstm_out\u001b[0m\u001b[0;34m)\u001b[0m\u001b[0;34m\u001b[0m\u001b[0;34m\u001b[0m\u001b[0m\n",
      "\u001b[0;32m~/anaconda3/envs/pytorch_p36/lib/python3.6/site-packages/torch/nn/modules/module.py\u001b[0m in \u001b[0;36m__call__\u001b[0;34m(self, *input, **kwargs)\u001b[0m\n\u001b[1;32m    530\u001b[0m             \u001b[0mresult\u001b[0m \u001b[0;34m=\u001b[0m \u001b[0mself\u001b[0m\u001b[0;34m.\u001b[0m\u001b[0m_slow_forward\u001b[0m\u001b[0;34m(\u001b[0m\u001b[0;34m*\u001b[0m\u001b[0minput\u001b[0m\u001b[0;34m,\u001b[0m \u001b[0;34m**\u001b[0m\u001b[0mkwargs\u001b[0m\u001b[0;34m)\u001b[0m\u001b[0;34m\u001b[0m\u001b[0;34m\u001b[0m\u001b[0m\n\u001b[1;32m    531\u001b[0m         \u001b[0;32melse\u001b[0m\u001b[0;34m:\u001b[0m\u001b[0;34m\u001b[0m\u001b[0;34m\u001b[0m\u001b[0m\n\u001b[0;32m--> 532\u001b[0;31m             \u001b[0mresult\u001b[0m \u001b[0;34m=\u001b[0m \u001b[0mself\u001b[0m\u001b[0;34m.\u001b[0m\u001b[0mforward\u001b[0m\u001b[0;34m(\u001b[0m\u001b[0;34m*\u001b[0m\u001b[0minput\u001b[0m\u001b[0;34m,\u001b[0m \u001b[0;34m**\u001b[0m\u001b[0mkwargs\u001b[0m\u001b[0;34m)\u001b[0m\u001b[0;34m\u001b[0m\u001b[0;34m\u001b[0m\u001b[0m\n\u001b[0m\u001b[1;32m    533\u001b[0m         \u001b[0;32mfor\u001b[0m \u001b[0mhook\u001b[0m \u001b[0;32min\u001b[0m \u001b[0mself\u001b[0m\u001b[0;34m.\u001b[0m\u001b[0m_forward_hooks\u001b[0m\u001b[0;34m.\u001b[0m\u001b[0mvalues\u001b[0m\u001b[0;34m(\u001b[0m\u001b[0;34m)\u001b[0m\u001b[0;34m:\u001b[0m\u001b[0;34m\u001b[0m\u001b[0;34m\u001b[0m\u001b[0m\n\u001b[1;32m    534\u001b[0m             \u001b[0mhook_result\u001b[0m \u001b[0;34m=\u001b[0m \u001b[0mhook\u001b[0m\u001b[0;34m(\u001b[0m\u001b[0mself\u001b[0m\u001b[0;34m,\u001b[0m \u001b[0minput\u001b[0m\u001b[0;34m,\u001b[0m \u001b[0mresult\u001b[0m\u001b[0;34m)\u001b[0m\u001b[0;34m\u001b[0m\u001b[0;34m\u001b[0m\u001b[0m\n",
      "\u001b[0;32m~/anaconda3/envs/pytorch_p36/lib/python3.6/site-packages/torch/nn/modules/sparse.py\u001b[0m in \u001b[0;36mforward\u001b[0;34m(self, input)\u001b[0m\n\u001b[1;32m    112\u001b[0m         return F.embedding(\n\u001b[1;32m    113\u001b[0m             \u001b[0minput\u001b[0m\u001b[0;34m,\u001b[0m \u001b[0mself\u001b[0m\u001b[0;34m.\u001b[0m\u001b[0mweight\u001b[0m\u001b[0;34m,\u001b[0m \u001b[0mself\u001b[0m\u001b[0;34m.\u001b[0m\u001b[0mpadding_idx\u001b[0m\u001b[0;34m,\u001b[0m \u001b[0mself\u001b[0m\u001b[0;34m.\u001b[0m\u001b[0mmax_norm\u001b[0m\u001b[0;34m,\u001b[0m\u001b[0;34m\u001b[0m\u001b[0;34m\u001b[0m\u001b[0m\n\u001b[0;32m--> 114\u001b[0;31m             self.norm_type, self.scale_grad_by_freq, self.sparse)\n\u001b[0m\u001b[1;32m    115\u001b[0m \u001b[0;34m\u001b[0m\u001b[0m\n\u001b[1;32m    116\u001b[0m     \u001b[0;32mdef\u001b[0m \u001b[0mextra_repr\u001b[0m\u001b[0;34m(\u001b[0m\u001b[0mself\u001b[0m\u001b[0;34m)\u001b[0m\u001b[0;34m:\u001b[0m\u001b[0;34m\u001b[0m\u001b[0;34m\u001b[0m\u001b[0m\n",
      "\u001b[0;32m~/anaconda3/envs/pytorch_p36/lib/python3.6/site-packages/torch/nn/functional.py\u001b[0m in \u001b[0;36membedding\u001b[0;34m(input, weight, padding_idx, max_norm, norm_type, scale_grad_by_freq, sparse)\u001b[0m\n\u001b[1;32m   1482\u001b[0m         \u001b[0;31m# remove once script supports set_grad_enabled\u001b[0m\u001b[0;34m\u001b[0m\u001b[0;34m\u001b[0m\u001b[0;34m\u001b[0m\u001b[0m\n\u001b[1;32m   1483\u001b[0m         \u001b[0m_no_grad_embedding_renorm_\u001b[0m\u001b[0;34m(\u001b[0m\u001b[0mweight\u001b[0m\u001b[0;34m,\u001b[0m \u001b[0minput\u001b[0m\u001b[0;34m,\u001b[0m \u001b[0mmax_norm\u001b[0m\u001b[0;34m,\u001b[0m \u001b[0mnorm_type\u001b[0m\u001b[0;34m)\u001b[0m\u001b[0;34m\u001b[0m\u001b[0;34m\u001b[0m\u001b[0m\n\u001b[0;32m-> 1484\u001b[0;31m     \u001b[0;32mreturn\u001b[0m \u001b[0mtorch\u001b[0m\u001b[0;34m.\u001b[0m\u001b[0membedding\u001b[0m\u001b[0;34m(\u001b[0m\u001b[0mweight\u001b[0m\u001b[0;34m,\u001b[0m \u001b[0minput\u001b[0m\u001b[0;34m,\u001b[0m \u001b[0mpadding_idx\u001b[0m\u001b[0;34m,\u001b[0m \u001b[0mscale_grad_by_freq\u001b[0m\u001b[0;34m,\u001b[0m \u001b[0msparse\u001b[0m\u001b[0;34m)\u001b[0m\u001b[0;34m\u001b[0m\u001b[0;34m\u001b[0m\u001b[0m\n\u001b[0m\u001b[1;32m   1485\u001b[0m \u001b[0;34m\u001b[0m\u001b[0m\n\u001b[1;32m   1486\u001b[0m \u001b[0;34m\u001b[0m\u001b[0m\n",
      "\u001b[0;31mRuntimeError\u001b[0m: index out of range: Tried to access index 51695 out of table with 4999 rows. at /opt/conda/conda-bld/pytorch_1579022034529/work/aten/src/TH/generic/THTensorEvenMoreMath.cpp:418"
     ]
    }
   ],
   "source": [
    "import torch.optim as optim\n",
    "from train.model import LSTMClassifier\n",
    "\n",
    "device = torch.device(\"cuda\" if torch.cuda.is_available() else \"cpu\")\n",
    "model = LSTMClassifier(32, 100, 5000).to(device)\n",
    "optimizer = optim.Adam(model.parameters())\n",
    "loss_fn = torch.nn.BCELoss()\n",
    "\n",
    "train(model, train_sample_dl, 5, optimizer, loss_fn, device)"
   ]
  },
  {
   "cell_type": "markdown",
   "metadata": {},
   "source": [
    "In order to construct a PyTorch model using SageMaker we must provide SageMaker with a training script. We may optionally include a directory which will be copied to the container and from which our training code will be run. When the training container is executed it will check the uploaded directory (if there is one) for a `requirements.txt` file and install any required Python libraries, after which the training script will be run."
   ]
  },
  {
   "cell_type": "markdown",
   "metadata": {},
   "source": [
    "### (TODO) Training the model\n",
    "\n",
    "When a PyTorch model is constructed in SageMaker, an entry point must be specified. This is the Python file which will be executed when the model is trained. Inside of the `train` directory is a file called `train.py` which has been provided and which contains most of the necessary code to train our model. The only thing that is missing is the implementation of the `train()` method which you wrote earlier in this notebook.\n",
    "\n",
    "**TODO**: Copy the `train()` method written above and paste it into the `train/train.py` file where required.\n",
    "\n",
    "The way that SageMaker passes hyperparameters to the training script is by way of arguments. These arguments can then be parsed and used in the training script. To see how this is done take a look at the provided `train/train.py` file."
   ]
  },
  {
   "cell_type": "code",
   "execution_count": null,
   "metadata": {},
   "outputs": [],
   "source": [
    "from sagemaker.pytorch import PyTorch\n",
    "\n",
    "estimator = PyTorch(entry_point=\"train.py\",\n",
    "                    source_dir=\"train\",\n",
    "                    role=role,\n",
    "                    framework_version='0.4.0',\n",
    "                    train_instance_count=1,\n",
    "                    train_instance_type='ml.p2.xlarge',\n",
    "                    hyperparameters={\n",
    "                        'epochs': 10,\n",
    "                        'hidden_dim': 200,\n",
    "                    })"
   ]
  },
  {
   "cell_type": "code",
   "execution_count": null,
   "metadata": {},
   "outputs": [],
   "source": [
    "estimator.fit({'training': input_data})"
   ]
  },
  {
   "cell_type": "markdown",
   "metadata": {},
   "source": [
    "## Step 5: Testing the model\n",
    "\n",
    "As mentioned at the top of this notebook, we will be testing this model by first deploying it and then sending the testing data to the deployed endpoint. We will do this so that we can make sure that the deployed model is working correctly.\n",
    "\n",
    "## Step 6: Deploy the model for testing\n",
    "\n",
    "Now that we have trained our model, we would like to test it to see how it performs. Currently our model takes input of the form `review_length, review[500]` where `review[500]` is a sequence of `500` integers which describe the words present in the review, encoded using `word_dict`. Fortunately for us, SageMaker provides built-in inference code for models with simple inputs such as this.\n",
    "\n",
    "There is one thing that we need to provide, however, and that is a function which loads the saved model. This function must be called `model_fn()` and takes as its only parameter a path to the directory where the model artifacts are stored. This function must also be present in the python file which we specified as the entry point. In our case the model loading function has been provided and so no changes need to be made.\n",
    "\n",
    "**NOTE**: When the built-in inference code is run it must import the `model_fn()` method from the `train.py` file. This is why the training code is wrapped in a main guard ( ie, `if __name__ == '__main__':` )\n",
    "\n",
    "Since we don't need to change anything in the code that was uploaded during training, we can simply deploy the current model as-is.\n",
    "\n",
    "**NOTE:** When deploying a model you are asking SageMaker to launch an compute instance that will wait for data to be sent to it. As a result, this compute instance will continue to run until *you* shut it down. This is important to know since the cost of a deployed endpoint depends on how long it has been running for.\n",
    "\n",
    "In other words **If you are no longer using a deployed endpoint, shut it down!**\n",
    "\n",
    "**TODO:** Deploy the trained model."
   ]
  },
  {
   "cell_type": "code",
   "execution_count": null,
   "metadata": {},
   "outputs": [],
   "source": [
    "# TODO: Deploy the trained model"
   ]
  },
  {
   "cell_type": "markdown",
   "metadata": {},
   "source": [
    "## Step 7 - Use the model for testing\n",
    "\n",
    "Once deployed, we can read in the test data and send it off to our deployed model to get some results. Once we collect all of the results we can determine how accurate our model is."
   ]
  },
  {
   "cell_type": "code",
   "execution_count": null,
   "metadata": {},
   "outputs": [],
   "source": [
    "test_X = pd.concat([pd.DataFrame(test_X_len), pd.DataFrame(test_X)], axis=1)"
   ]
  },
  {
   "cell_type": "code",
   "execution_count": null,
   "metadata": {},
   "outputs": [],
   "source": [
    "# We split the data into chunks and send each chunk seperately, accumulating the results.\n",
    "\n",
    "def predict(data, rows=512):\n",
    "    split_array = np.array_split(data, int(data.shape[0] / float(rows) + 1))\n",
    "    predictions = np.array([])\n",
    "    for array in split_array:\n",
    "        predictions = np.append(predictions, predictor.predict(array))\n",
    "    \n",
    "    return predictions"
   ]
  },
  {
   "cell_type": "code",
   "execution_count": null,
   "metadata": {},
   "outputs": [],
   "source": [
    "predictions = predict(test_X.values)\n",
    "predictions = [round(num) for num in predictions]"
   ]
  },
  {
   "cell_type": "code",
   "execution_count": null,
   "metadata": {},
   "outputs": [],
   "source": [
    "from sklearn.metrics import accuracy_score\n",
    "accuracy_score(test_y, predictions)"
   ]
  },
  {
   "cell_type": "markdown",
   "metadata": {},
   "source": [
    "**Question:** How does this model compare to the XGBoost model you created earlier? Why might these two models perform differently on this dataset? Which do *you* think is better for sentiment analysis?"
   ]
  },
  {
   "cell_type": "markdown",
   "metadata": {},
   "source": [
    "**Answer:**"
   ]
  },
  {
   "cell_type": "markdown",
   "metadata": {},
   "source": [
    "### (TODO) More testing\n",
    "\n",
    "We now have a trained model which has been deployed and which we can send processed reviews to and which returns the predicted sentiment. However, ultimately we would like to be able to send our model an unprocessed review. That is, we would like to send the review itself as a string. For example, suppose we wish to send the following review to our model."
   ]
  },
  {
   "cell_type": "code",
   "execution_count": null,
   "metadata": {},
   "outputs": [],
   "source": [
    "test_review = 'The simplest pleasures in life are the best, and this film is one of them. Combining a rather basic storyline of love and adventure this movie transcends the usual weekend fair with wit and unmitigated charm.'"
   ]
  },
  {
   "cell_type": "markdown",
   "metadata": {},
   "source": [
    "The question we now need to answer is, how do we send this review to our model?\n",
    "\n",
    "Recall in the first section of this notebook we did a bunch of data processing to the IMDb dataset. In particular, we did two specific things to the provided reviews.\n",
    " - Removed any html tags and stemmed the input\n",
    " - Encoded the review as a sequence of integers using `word_dict`\n",
    " \n",
    "In order process the review we will need to repeat these two steps.\n",
    "\n",
    "**TODO**: Using the `review_to_words` and `convert_and_pad` methods from section one, convert `test_review` into a numpy array `test_data` suitable to send to our model. Remember that our model expects input of the form `review_length, review[500]`. So make sure you produce two variables from processing: \n",
    "- A sequence of length 500 which represents the converted review\n",
    "- The length of the review"
   ]
  },
  {
   "cell_type": "code",
   "execution_count": null,
   "metadata": {},
   "outputs": [],
   "source": [
    "# TODO: Convert test_review into a form usable by the model and save the results in test_data\n",
    "test_data = None"
   ]
  },
  {
   "cell_type": "markdown",
   "metadata": {},
   "source": [
    "Now that we have processed the review, we can send the resulting array to our model to predict the sentiment of the review."
   ]
  },
  {
   "cell_type": "code",
   "execution_count": null,
   "metadata": {},
   "outputs": [],
   "source": [
    "predictor.predict(test_data)"
   ]
  },
  {
   "cell_type": "markdown",
   "metadata": {},
   "source": [
    "Since the return value of our model is close to `1`, we can be certain that the review we submitted is positive."
   ]
  },
  {
   "cell_type": "markdown",
   "metadata": {},
   "source": [
    "### Delete the endpoint\n",
    "\n",
    "Of course, just like in the XGBoost notebook, once we've deployed an endpoint it continues to run until we tell it to shut down. Since we are done using our endpoint for now, we can delete it."
   ]
  },
  {
   "cell_type": "code",
   "execution_count": null,
   "metadata": {},
   "outputs": [],
   "source": [
    "estimator.delete_endpoint()"
   ]
  },
  {
   "cell_type": "markdown",
   "metadata": {},
   "source": [
    "## Step 6 (again) - Deploy the model for the web app\n",
    "\n",
    "Now that we know that our model is working, it's time to create some custom inference code so that we can send the model a review which has not been processed and have it determine the sentiment of the review.\n",
    "\n",
    "As we saw above, by default the estimator which we created, when deployed, will use the entry script and directory which we provided when creating the model. However, since we now wish to accept a string as input and our model expects a processed review, we need to write some custom inference code.\n",
    "\n",
    "We will store the code that we write in the `serve` directory. Provided in this directory is the `model.py` file that we used to construct our model, a `utils.py` file which contains the `review_to_words` and `convert_and_pad` pre-processing functions which we used during the initial data processing, and `predict.py`, the file which will contain our custom inference code. Note also that `requirements.txt` is present which will tell SageMaker what Python libraries are required by our custom inference code.\n",
    "\n",
    "When deploying a PyTorch model in SageMaker, you are expected to provide four functions which the SageMaker inference container will use.\n",
    " - `model_fn`: This function is the same function that we used in the training script and it tells SageMaker how to load our model.\n",
    " - `input_fn`: This function receives the raw serialized input that has been sent to the model's endpoint and its job is to de-serialize and make the input available for the inference code.\n",
    " - `output_fn`: This function takes the output of the inference code and its job is to serialize this output and return it to the caller of the model's endpoint.\n",
    " - `predict_fn`: The heart of the inference script, this is where the actual prediction is done and is the function which you will need to complete.\n",
    "\n",
    "For the simple website that we are constructing during this project, the `input_fn` and `output_fn` methods are relatively straightforward. We only require being able to accept a string as input and we expect to return a single value as output. You might imagine though that in a more complex application the input or output may be image data or some other binary data which would require some effort to serialize.\n",
    "\n",
    "### (TODO) Writing inference code\n",
    "\n",
    "Before writing our custom inference code, we will begin by taking a look at the code which has been provided."
   ]
  },
  {
   "cell_type": "code",
   "execution_count": null,
   "metadata": {},
   "outputs": [],
   "source": [
    "!pygmentize serve/predict.py"
   ]
  },
  {
   "cell_type": "markdown",
   "metadata": {},
   "source": [
    "As mentioned earlier, the `model_fn` method is the same as the one provided in the training code and the `input_fn` and `output_fn` methods are very simple and your task will be to complete the `predict_fn` method. \n",
    "\n",
    "**Note**: Our model expects input data of the form 'len, review[500]'. So make sure you produce two variables from processing: \n",
    "- `data_X`:  A sequence of length 500 which represents the converted review\n",
    "- `data_len`: - The length of the review\n",
    "\n",
    "Make sure that you save the completed file as `predict.py` in the `serve` directory.\n",
    "\n",
    "**TODO**: Complete the `predict_fn()` method in the `serve/predict.py` file."
   ]
  },
  {
   "cell_type": "markdown",
   "metadata": {},
   "source": [
    "### Deploying the model\n",
    "\n",
    "Now that the custom inference code has been written, we will create and deploy our model. To begin with, we need to construct a new PyTorchModel object which points to the model artifacts created during training and also points to the inference code that we wish to use. Then we can call the deploy method to launch the deployment container.\n",
    "\n",
    "**NOTE**: The default behaviour for a deployed PyTorch model is to assume that any input passed to the predictor is a `numpy` array. In our case we want to send a string so we need to construct a simple wrapper around the `RealTimePredictor` class to accomodate simple strings. In a more complicated situation you may want to provide a serialization object, for example if you wanted to sent image data."
   ]
  },
  {
   "cell_type": "code",
   "execution_count": null,
   "metadata": {},
   "outputs": [],
   "source": [
    "from sagemaker.predictor import RealTimePredictor\n",
    "from sagemaker.pytorch import PyTorchModel\n",
    "\n",
    "class StringPredictor(RealTimePredictor):\n",
    "    def __init__(self, endpoint_name, sagemaker_session):\n",
    "        super(StringPredictor, self).__init__(endpoint_name, sagemaker_session, content_type='text/plain')\n",
    "\n",
    "model = PyTorchModel(model_data=estimator.model_data,\n",
    "                     role = role,\n",
    "                     framework_version='0.4.0',\n",
    "                     entry_point='predict.py',\n",
    "                     source_dir='serve',\n",
    "                     predictor_cls=StringPredictor)\n",
    "predictor = model.deploy(initial_instance_count=1, instance_type='ml.m4.xlarge')"
   ]
  },
  {
   "cell_type": "markdown",
   "metadata": {},
   "source": [
    "### Testing the model\n",
    "\n",
    "Now that we have deployed our model with the custom inference code, we should test to see if everything is working. Here we test our model by loading the first `250` positive and negative reviews and send them to the endpoint, then collect the results. The reason for only sending some of the data is that the amount of time it takes for our model to process the input and then perform inference is quite long and so testing the entire data set would be prohibitive."
   ]
  },
  {
   "cell_type": "code",
   "execution_count": null,
   "metadata": {},
   "outputs": [],
   "source": [
    "import glob\n",
    "\n",
    "def test_reviews(data_dir='../data/aclImdb', stop=250):\n",
    "    \n",
    "    results = []\n",
    "    ground = []\n",
    "    \n",
    "    # We make sure to test both positive and negative reviews    \n",
    "    for sentiment in ['pos', 'neg']:\n",
    "        \n",
    "        path = os.path.join(data_dir, 'test', sentiment, '*.txt')\n",
    "        files = glob.glob(path)\n",
    "        \n",
    "        files_read = 0\n",
    "        \n",
    "        print('Starting ', sentiment, ' files')\n",
    "        \n",
    "        # Iterate through the files and send them to the predictor\n",
    "        for f in files:\n",
    "            with open(f) as review:\n",
    "                # First, we store the ground truth (was the review positive or negative)\n",
    "                if sentiment == 'pos':\n",
    "                    ground.append(1)\n",
    "                else:\n",
    "                    ground.append(0)\n",
    "                # Read in the review and convert to 'utf-8' for transmission via HTTP\n",
    "                review_input = review.read().encode('utf-8')\n",
    "                # Send the review to the predictor and store the results\n",
    "                results.append(float(predictor.predict(review_input)))\n",
    "                \n",
    "            # Sending reviews to our endpoint one at a time takes a while so we\n",
    "            # only send a small number of reviews\n",
    "            files_read += 1\n",
    "            if files_read == stop:\n",
    "                break\n",
    "            \n",
    "    return ground, results"
   ]
  },
  {
   "cell_type": "code",
   "execution_count": null,
   "metadata": {},
   "outputs": [],
   "source": [
    "ground, results = test_reviews()"
   ]
  },
  {
   "cell_type": "code",
   "execution_count": null,
   "metadata": {},
   "outputs": [],
   "source": [
    "from sklearn.metrics import accuracy_score\n",
    "accuracy_score(ground, results)"
   ]
  },
  {
   "cell_type": "markdown",
   "metadata": {},
   "source": [
    "As an additional test, we can try sending the `test_review` that we looked at earlier."
   ]
  },
  {
   "cell_type": "code",
   "execution_count": null,
   "metadata": {},
   "outputs": [],
   "source": [
    "predictor.predict(test_review)"
   ]
  },
  {
   "cell_type": "markdown",
   "metadata": {},
   "source": [
    "Now that we know our endpoint is working as expected, we can set up the web page that will interact with it. If you don't have time to finish the project now, make sure to skip down to the end of this notebook and shut down your endpoint. You can deploy it again when you come back."
   ]
  },
  {
   "cell_type": "markdown",
   "metadata": {},
   "source": [
    "## Step 7 (again): Use the model for the web app\n",
    "\n",
    "> **TODO:** This entire section and the next contain tasks for you to complete, mostly using the AWS console.\n",
    "\n",
    "So far we have been accessing our model endpoint by constructing a predictor object which uses the endpoint and then just using the predictor object to perform inference. What if we wanted to create a web app which accessed our model? The way things are set up currently makes that not possible since in order to access a SageMaker endpoint the app would first have to authenticate with AWS using an IAM role which included access to SageMaker endpoints. However, there is an easier way! We just need to use some additional AWS services.\n",
    "\n",
    "<img src=\"Web App Diagram.svg\">\n",
    "\n",
    "The diagram above gives an overview of how the various services will work together. On the far right is the model which we trained above and which is deployed using SageMaker. On the far left is our web app that collects a user's movie review, sends it off and expects a positive or negative sentiment in return.\n",
    "\n",
    "In the middle is where some of the magic happens. We will construct a Lambda function, which you can think of as a straightforward Python function that can be executed whenever a specified event occurs. We will give this function permission to send and recieve data from a SageMaker endpoint.\n",
    "\n",
    "Lastly, the method we will use to execute the Lambda function is a new endpoint that we will create using API Gateway. This endpoint will be a url that listens for data to be sent to it. Once it gets some data it will pass that data on to the Lambda function and then return whatever the Lambda function returns. Essentially it will act as an interface that lets our web app communicate with the Lambda function.\n",
    "\n",
    "### Setting up a Lambda function\n",
    "\n",
    "The first thing we are going to do is set up a Lambda function. This Lambda function will be executed whenever our public API has data sent to it. When it is executed it will receive the data, perform any sort of processing that is required, send the data (the review) to the SageMaker endpoint we've created and then return the result.\n",
    "\n",
    "#### Part A: Create an IAM Role for the Lambda function\n",
    "\n",
    "Since we want the Lambda function to call a SageMaker endpoint, we need to make sure that it has permission to do so. To do this, we will construct a role that we can later give the Lambda function.\n",
    "\n",
    "Using the AWS Console, navigate to the **IAM** page and click on **Roles**. Then, click on **Create role**. Make sure that the **AWS service** is the type of trusted entity selected and choose **Lambda** as the service that will use this role, then click **Next: Permissions**.\n",
    "\n",
    "In the search box type `sagemaker` and select the check box next to the **AmazonSageMakerFullAccess** policy. Then, click on **Next: Review**.\n",
    "\n",
    "Lastly, give this role a name. Make sure you use a name that you will remember later on, for example `LambdaSageMakerRole`. Then, click on **Create role**.\n",
    "\n",
    "#### Part B: Create a Lambda function\n",
    "\n",
    "Now it is time to actually create the Lambda function.\n",
    "\n",
    "Using the AWS Console, navigate to the AWS Lambda page and click on **Create a function**. When you get to the next page, make sure that **Author from scratch** is selected. Now, name your Lambda function, using a name that you will remember later on, for example `sentiment_analysis_func`. Make sure that the **Python 3.6** runtime is selected and then choose the role that you created in the previous part. Then, click on **Create Function**.\n",
    "\n",
    "On the next page you will see some information about the Lambda function you've just created. If you scroll down you should see an editor in which you can write the code that will be executed when your Lambda function is triggered. In our example, we will use the code below. \n",
    "\n",
    "```python\n",
    "# We need to use the low-level library to interact with SageMaker since the SageMaker API\n",
    "# is not available natively through Lambda.\n",
    "import boto3\n",
    "\n",
    "def lambda_handler(event, context):\n",
    "\n",
    "    # The SageMaker runtime is what allows us to invoke the endpoint that we've created.\n",
    "    runtime = boto3.Session().client('sagemaker-runtime')\n",
    "\n",
    "    # Now we use the SageMaker runtime to invoke our endpoint, sending the review we were given\n",
    "    response = runtime.invoke_endpoint(EndpointName = '**ENDPOINT NAME HERE**',    # The name of the endpoint we created\n",
    "                                       ContentType = 'text/plain',                 # The data format that is expected\n",
    "                                       Body = event['body'])                       # The actual review\n",
    "\n",
    "    # The response is an HTTP response whose body contains the result of our inference\n",
    "    result = response['Body'].read().decode('utf-8')\n",
    "\n",
    "    return {\n",
    "        'statusCode' : 200,\n",
    "        'headers' : { 'Content-Type' : 'text/plain', 'Access-Control-Allow-Origin' : '*' },\n",
    "        'body' : result\n",
    "    }\n",
    "```\n",
    "\n",
    "Once you have copy and pasted the code above into the Lambda code editor, replace the `**ENDPOINT NAME HERE**` portion with the name of the endpoint that we deployed earlier. You can determine the name of the endpoint using the code cell below."
   ]
  },
  {
   "cell_type": "code",
   "execution_count": null,
   "metadata": {},
   "outputs": [],
   "source": [
    "predictor.endpoint"
   ]
  },
  {
   "cell_type": "markdown",
   "metadata": {},
   "source": [
    "Once you have added the endpoint name to the Lambda function, click on **Save**. Your Lambda function is now up and running. Next we need to create a way for our web app to execute the Lambda function.\n",
    "\n",
    "### Setting up API Gateway\n",
    "\n",
    "Now that our Lambda function is set up, it is time to create a new API using API Gateway that will trigger the Lambda function we have just created.\n",
    "\n",
    "Using AWS Console, navigate to **Amazon API Gateway** and then click on **Get started**.\n",
    "\n",
    "On the next page, make sure that **New API** is selected and give the new api a name, for example, `sentiment_analysis_api`. Then, click on **Create API**.\n",
    "\n",
    "Now we have created an API, however it doesn't currently do anything. What we want it to do is to trigger the Lambda function that we created earlier.\n",
    "\n",
    "Select the **Actions** dropdown menu and click **Create Method**. A new blank method will be created, select its dropdown menu and select **POST**, then click on the check mark beside it.\n",
    "\n",
    "For the integration point, make sure that **Lambda Function** is selected and click on the **Use Lambda Proxy integration**. This option makes sure that the data that is sent to the API is then sent directly to the Lambda function with no processing. It also means that the return value must be a proper response object as it will also not be processed by API Gateway.\n",
    "\n",
    "Type the name of the Lambda function you created earlier into the **Lambda Function** text entry box and then click on **Save**. Click on **OK** in the pop-up box that then appears, giving permission to API Gateway to invoke the Lambda function you created.\n",
    "\n",
    "The last step in creating the API Gateway is to select the **Actions** dropdown and click on **Deploy API**. You will need to create a new Deployment stage and name it anything you like, for example `prod`.\n",
    "\n",
    "You have now successfully set up a public API to access your SageMaker model. Make sure to copy or write down the URL provided to invoke your newly created public API as this will be needed in the next step. This URL can be found at the top of the page, highlighted in blue next to the text **Invoke URL**."
   ]
  },
  {
   "cell_type": "markdown",
   "metadata": {},
   "source": [
    "## Step 4: Deploying our web app\n",
    "\n",
    "Now that we have a publicly available API, we can start using it in a web app. For our purposes, we have provided a simple static html file which can make use of the public api you created earlier.\n",
    "\n",
    "In the `website` folder there should be a file called `index.html`. Download the file to your computer and open that file up in a text editor of your choice. There should be a line which contains **\\*\\*REPLACE WITH PUBLIC API URL\\*\\***. Replace this string with the url that you wrote down in the last step and then save the file.\n",
    "\n",
    "Now, if you open `index.html` on your local computer, your browser will behave as a local web server and you can use the provided site to interact with your SageMaker model.\n",
    "\n",
    "If you'd like to go further, you can host this html file anywhere you'd like, for example using github or hosting a static site on Amazon's S3. Once you have done this you can share the link with anyone you'd like and have them play with it too!\n",
    "\n",
    "> **Important Note** In order for the web app to communicate with the SageMaker endpoint, the endpoint has to actually be deployed and running. This means that you are paying for it. Make sure that the endpoint is running when you want to use the web app but that you shut it down when you don't need it, otherwise you will end up with a surprisingly large AWS bill.\n",
    "\n",
    "**TODO:** Make sure that you include the edited `index.html` file in your project submission."
   ]
  },
  {
   "cell_type": "markdown",
   "metadata": {},
   "source": [
    "Now that your web app is working, trying playing around with it and see how well it works.\n",
    "\n",
    "**Question**: Post a screenshot showing a sample review that you entered into your web app and the predicted sentiment. What was the predicted sentiment of your example review?"
   ]
  },
  {
   "cell_type": "markdown",
   "metadata": {},
   "source": [
    "**Screenshot:**\n",
    "\n",
    "\n",
    "\n",
    "**Answer:**"
   ]
  },
  {
   "cell_type": "markdown",
   "metadata": {},
   "source": [
    "### Delete the endpoint\n",
    "\n",
    "Remember to always shut down your endpoint if you are no longer using it. You are charged for the length of time that the endpoint is running so if you forget and leave it on you could end up with an unexpectedly large bill."
   ]
  },
  {
   "cell_type": "code",
   "execution_count": null,
   "metadata": {},
   "outputs": [],
   "source": [
    "predictor.delete_endpoint()"
   ]
  },
  {
   "cell_type": "code",
   "execution_count": null,
   "metadata": {},
   "outputs": [],
   "source": []
  }
 ],
 "metadata": {
  "kernelspec": {
   "display_name": "conda_pytorch_p36",
   "language": "python",
   "name": "conda_pytorch_p36"
  },
  "language_info": {
   "codemirror_mode": {
    "name": "ipython",
    "version": 3
   },
   "file_extension": ".py",
   "mimetype": "text/x-python",
   "name": "python",
   "nbconvert_exporter": "python",
   "pygments_lexer": "ipython3",
   "version": "3.6.13"
  }
 },
 "nbformat": 4,
 "nbformat_minor": 4
}
